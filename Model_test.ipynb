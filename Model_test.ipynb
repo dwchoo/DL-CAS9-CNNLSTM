{
 "cells": [
  {
   "cell_type": "code",
   "execution_count": 1,
   "metadata": {},
   "outputs": [],
   "source": [
    "import numpy as np\n",
    "from scipy.stats import pearsonr, spearmanr\n",
    "import matplotlib.pyplot as plt\n",
    "#%matplotlib notebook\n",
    "%matplotlib inline\n",
    "%load_ext autoreload\n",
    "%autoreload 2\n",
    "%config InlineBackend.figure_format ='retina'"
   ]
  },
  {
   "cell_type": "code",
   "execution_count": 4,
   "metadata": {},
   "outputs": [],
   "source": [
    "import tensorflow as tf\n",
    "\n",
    "GPU = 1\n",
    "\n",
    "gpus = tf.config.experimental.list_physical_devices('GPU')\n",
    "if gpus:\n",
    "    gpu_num = GPU\n",
    "    try:\n",
    "        tf.config.experimental.set_visible_devices(gpus[gpu_num], 'GPU')\n",
    "        tf.config.experimental.set_virtual_device_configuration(\n",
    "            gpus[gpu_num],\n",
    "            [tf.config.experimental.VirtualDeviceConfiguration(memory_limit=4000)]\n",
    "            )\n",
    "    except RuntimeError as e:\n",
    "        print(e)"
   ]
  },
  {
   "cell_type": "code",
   "execution_count": 5,
   "metadata": {},
   "outputs": [],
   "source": [
    "from Model import SpCas9_MODEL"
   ]
  },
  {
   "cell_type": "code",
   "execution_count": 6,
   "metadata": {},
   "outputs": [],
   "source": [
    "HP = {\n",
    "    'CNN_1_kernal' : 16,\n",
    "    'CNN_1_RNN' : 64,\n",
    "    'CNN_2_kernal' : 32,\n",
    "    'CNN_2_RNN' : 128,\n",
    "    'CNN_3_kernal' : 64,\n",
    "    'CNN_3_RNN' : 256,\n",
    "    'CNN_4_kernal' : 128,\n",
    "    'CNN_4_RNN' : 256,\n",
    "    'CNN_5_kernal' : 128,\n",
    "    'CNN_5_RNN' : 256,\n",
    "\n",
    "    'DNN_1' : 100,\n",
    "    'DNN_2' : 100,\n",
    "    'DNN_rate' : 100,\n",
    "\n",
    "    'CNN_dropout' : 0.5,\n",
    "    'DNN_dropout' : 0.5,\n",
    "\n",
    "    'learning_rate' : 0.0001\n",
    "}"
   ]
  },
  {
   "cell_type": "code",
   "execution_count": 9,
   "metadata": {},
   "outputs": [],
   "source": [
    "model = SpCas9_MODEL(HP=HP)"
   ]
  },
  {
   "cell_type": "code",
   "execution_count": 11,
   "metadata": {},
   "outputs": [
    {
     "name": "stdout",
     "output_type": "stream",
     "text": [
      "Train on 11548 samples, validate on 1284 samples\n",
      "Epoch 1/10\n",
      "11548/11548 [==============================] - 8s 688us/sample - loss: 5.8141 - class_1_loss: 2.2895 - class_2_loss: 2.2829 - class_final_loss: 2.3169 - rate_loss: 0.0833 - class_1_accuracy: 0.1308 - class_2_accuracy: 0.1335 - class_final_accuracy: 0.1328 - val_loss: 5.7231 - val_class_1_loss: 2.2423 - val_class_2_loss: 2.2417 - val_class_final_loss: 2.3131 - val_rate_loss: 0.0933 - val_class_1_accuracy: 0.1464 - val_class_2_accuracy: 0.1425 - val_class_final_accuracy: 0.1269\n",
      "Epoch 2/10\n",
      "11548/11548 [==============================] - 8s 684us/sample - loss: 5.7621 - class_1_loss: 2.2730 - class_2_loss: 2.2675 - class_final_loss: 2.2901 - rate_loss: 0.0770 - class_1_accuracy: 0.1330 - class_2_accuracy: 0.1373 - class_final_accuracy: 0.1323 - val_loss: 5.6553 - val_class_1_loss: 2.2267 - val_class_2_loss: 2.2097 - val_class_final_loss: 2.2849 - val_rate_loss: 0.0892 - val_class_1_accuracy: 0.1542 - val_class_2_accuracy: 0.1589 - val_class_final_accuracy: 0.1160\n",
      "Epoch 3/10\n",
      "11548/11548 [==============================] - 8s 687us/sample - loss: 5.6975 - class_1_loss: 2.2527 - class_2_loss: 2.2369 - class_final_loss: 2.2704 - rate_loss: 0.0723 - class_1_accuracy: 0.1351 - class_2_accuracy: 0.1487 - class_final_accuracy: 0.1366 - val_loss: 5.5968 - val_class_1_loss: 2.2126 - val_class_2_loss: 2.1845 - val_class_final_loss: 2.2582 - val_rate_loss: 0.0865 - val_class_1_accuracy: 0.1511 - val_class_2_accuracy: 0.1752 - val_class_final_accuracy: 0.1480\n",
      "Epoch 4/10\n",
      "11548/11548 [==============================] - 8s 690us/sample - loss: 5.6359 - class_1_loss: 2.2326 - class_2_loss: 2.2093 - class_final_loss: 2.2511 - rate_loss: 0.0688 - class_1_accuracy: 0.1451 - class_2_accuracy: 0.1547 - class_final_accuracy: 0.1386 - val_loss: 5.5088 - val_class_1_loss: 2.1763 - val_class_2_loss: 2.1547 - val_class_final_loss: 2.2318 - val_rate_loss: 0.0817 - val_class_1_accuracy: 0.1558 - val_class_2_accuracy: 0.1667 - val_class_final_accuracy: 0.1472\n",
      "Epoch 5/10\n",
      "11548/11548 [==============================] - 8s 688us/sample - loss: 5.5537 - class_1_loss: 2.1922 - class_2_loss: 2.1760 - class_final_loss: 2.2373 - rate_loss: 0.0663 - class_1_accuracy: 0.1610 - class_2_accuracy: 0.1736 - class_final_accuracy: 0.1385 - val_loss: 5.4618 - val_class_1_loss: 2.1540 - val_class_2_loss: 2.1361 - val_class_final_loss: 2.2127 - val_rate_loss: 0.0866 - val_class_1_accuracy: 0.1783 - val_class_2_accuracy: 0.1690 - val_class_final_accuracy: 0.1682\n",
      "Epoch 6/10\n",
      "11548/11548 [==============================] - 8s 687us/sample - loss: 5.5062 - class_1_loss: 2.1690 - class_2_loss: 2.1645 - class_final_loss: 2.2154 - rate_loss: 0.0648 - class_1_accuracy: 0.1660 - class_2_accuracy: 0.1689 - class_final_accuracy: 0.1508 - val_loss: 5.3869 - val_class_1_loss: 2.1202 - val_class_2_loss: 2.1171 - val_class_final_loss: 2.1840 - val_rate_loss: 0.0827 - val_class_1_accuracy: 0.1838 - val_class_2_accuracy: 0.1838 - val_class_final_accuracy: 0.1830\n",
      "Epoch 7/10\n",
      "11548/11548 [==============================] - 8s 689us/sample - loss: 5.4390 - class_1_loss: 2.1435 - class_2_loss: 2.1342 - class_final_loss: 2.1943 - rate_loss: 0.0636 - class_1_accuracy: 0.1777 - class_2_accuracy: 0.1794 - class_final_accuracy: 0.1602 - val_loss: 5.3189 - val_class_1_loss: 2.0996 - val_class_2_loss: 2.0891 - val_class_final_loss: 2.1550 - val_rate_loss: 0.0814 - val_class_1_accuracy: 0.1760 - val_class_2_accuracy: 0.1916 - val_class_final_accuracy: 0.1783\n",
      "Epoch 8/10\n",
      "11548/11548 [==============================] - 8s 689us/sample - loss: 5.4091 - class_1_loss: 2.1292 - class_2_loss: 2.1297 - class_final_loss: 2.1768 - rate_loss: 0.0610 - class_1_accuracy: 0.1789 - class_2_accuracy: 0.1814 - class_final_accuracy: 0.1612 - val_loss: 5.2912 - val_class_1_loss: 2.0914 - val_class_2_loss: 2.0881 - val_class_final_loss: 2.1333 - val_rate_loss: 0.0766 - val_class_1_accuracy: 0.1900 - val_class_2_accuracy: 0.1978 - val_class_final_accuracy: 0.1807\n",
      "Epoch 9/10\n",
      "11548/11548 [==============================] - 8s 683us/sample - loss: 5.3555 - class_1_loss: 2.1157 - class_2_loss: 2.1080 - class_final_loss: 2.1455 - rate_loss: 0.0591 - class_1_accuracy: 0.1870 - class_2_accuracy: 0.1878 - class_final_accuracy: 0.1772 - val_loss: 5.2615 - val_class_1_loss: 2.0841 - val_class_2_loss: 2.0806 - val_class_final_loss: 2.1125 - val_rate_loss: 0.0755 - val_class_1_accuracy: 0.1924 - val_class_2_accuracy: 0.1955 - val_class_final_accuracy: 0.1783\n",
      "Epoch 10/10\n",
      "11548/11548 [==============================] - 8s 689us/sample - loss: 5.3198 - class_1_loss: 2.0958 - class_2_loss: 2.1001 - class_final_loss: 2.1357 - rate_loss: 0.0567 - class_1_accuracy: 0.1934 - class_2_accuracy: 0.1855 - class_final_accuracy: 0.1795 - val_loss: 5.2405 - val_class_1_loss: 2.0791 - val_class_2_loss: 2.0733 - val_class_final_loss: 2.1009 - val_rate_loss: 0.0692 - val_class_1_accuracy: 0.1963 - val_class_2_accuracy: 0.1955 - val_class_final_accuracy: 0.1877\n"
     ]
    }
   ],
   "source": [
    "model.model_train()"
   ]
  },
  {
   "cell_type": "code",
   "execution_count": 12,
   "metadata": {},
   "outputs": [
    {
     "name": "stdout",
     "output_type": "stream",
     "text": [
      "loss             : 5.2231\n",
      "class_1_loss     : 2.0659\n",
      "class_2_loss     : 2.0604\n",
      "class_final_loss : 2.0700\n",
      "rate_loss        : 0.0633\n",
      "class_1_accuracy : 0.1993\n",
      "class_2_accuracy : 0.2177\n",
      "class_final_accuracy : 0.1956\n"
     ]
    },
    {
     "data": {
      "text/plain": [
       "{'total_loss': 5.223104170767583,\n",
       " 'test_rate_loss': 0.063270435,\n",
       " 'test_data_pearson': 0.466248775146247,\n",
       " 'test_data_spearman': 0.4408719349232149,\n",
       " 'bench_data_pearson': 0.5145057590035704,\n",
       " 'bench_data_spearman': 0.4475531077891423}"
      ]
     },
     "execution_count": 12,
     "metadata": {},
     "output_type": "execute_result"
    }
   ],
   "source": [
    "model.model_evaluate(verbose=1)"
   ]
  },
  {
   "cell_type": "code",
   "execution_count": null,
   "metadata": {},
   "outputs": [],
   "source": []
  }
 ],
 "metadata": {
  "kernelspec": {
   "display_name": "Python 3",
   "language": "python",
   "name": "python3"
  },
  "language_info": {
   "codemirror_mode": {
    "name": "ipython",
    "version": 3
   },
   "file_extension": ".py",
   "mimetype": "text/x-python",
   "name": "python",
   "nbconvert_exporter": "python",
   "pygments_lexer": "ipython3",
   "version": "3.6.9"
  }
 },
 "nbformat": 4,
 "nbformat_minor": 4
}
