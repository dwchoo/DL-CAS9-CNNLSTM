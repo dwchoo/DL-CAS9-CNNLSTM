{
 "cells": [
  {
   "cell_type": "code",
   "execution_count": 1,
   "metadata": {},
   "outputs": [],
   "source": [
    "import numpy as np\n",
    "from scipy.stats import pearsonr, spearmanr\n",
    "import matplotlib.pyplot as plt\n",
    "%matplotlib notebook\n",
    "#%matplotlib inline"
   ]
  },
  {
   "cell_type": "code",
   "execution_count": 2,
   "metadata": {},
   "outputs": [],
   "source": [
    "import tensorflow as tf\n",
    "from tensorflow.keras.layers import *\n",
    "from tensorflow.keras import Input, Model"
   ]
  },
  {
   "cell_type": "code",
   "execution_count": 3,
   "metadata": {},
   "outputs": [],
   "source": [
    "from data_import_preprocessing import import_data_preprocessing"
   ]
  },
  {
   "cell_type": "code",
   "execution_count": 4,
   "metadata": {},
   "outputs": [],
   "source": [
    "gpus = tf.config.experimental.list_physical_devices('GPU')\n",
    "if gpus:\n",
    "    gpu_num = 1\n",
    "    try:\n",
    "        tf.config.experimental.set_visible_devices(gpus[gpu_num], 'GPU')\n",
    "        #tf.config.experimental.set_memory_growth(gpus[gpu_num], True)\n",
    "        tf.config.experimental.set_virtual_device_configuration(\n",
    "            gpus[gpu_num],\n",
    "            [tf.config.experimental.VirtualDeviceConfiguration(memory_limit=4000)])\n",
    "    except RuntimeError as e:\n",
    "        print(e)"
   ]
  },
  {
   "cell_type": "code",
   "execution_count": 5,
   "metadata": {},
   "outputs": [
    {
     "data": {
      "text/plain": [
       "[PhysicalDevice(name='/physical_device:GPU:0', device_type='GPU'),\n",
       " PhysicalDevice(name='/physical_device:GPU:1', device_type='GPU'),\n",
       " PhysicalDevice(name='/physical_device:GPU:2', device_type='GPU')]"
      ]
     },
     "execution_count": 5,
     "metadata": {},
     "output_type": "execute_result"
    }
   ],
   "source": [
    "gpus"
   ]
  },
  {
   "cell_type": "code",
   "execution_count": 6,
   "metadata": {},
   "outputs": [
    {
     "name": "stdout",
     "output_type": "stream",
     "text": [
      "train_data :  ['target', 'target_20bp', 'indel_percent', 'indel_rate']\n",
      "train_data :  ['target', 'target_20bp', 'indel_percent', 'indel_rate']\n"
     ]
    }
   ],
   "source": [
    "train_data_name = 'data/nb_data_changed_HT_1-1.csv'\n",
    "test_data_name = 'data/nb_data_changed_HT_1-2.csv'\n",
    "preprocessing = import_data_preprocessing(train_data_file_name = train_data_name,\n",
    "                                          test_data_file_name= test_data_name,\n",
    "                                          \n",
    "                                         )\n",
    "print('train_data : ', preprocessing.train_data_file_sample_column)\n",
    "print('train_data : ', preprocessing.test_data_file_sample_column)"
   ]
  },
  {
   "cell_type": "code",
   "execution_count": 7,
   "metadata": {},
   "outputs": [],
   "source": [
    "data = preprocessing(sgRNA_column='target',\n",
    "                    indel_column='indel_percent',\n",
    "                    split_data=0.1\n",
    "                    )"
   ]
  },
  {
   "cell_type": "code",
   "execution_count": 8,
   "metadata": {},
   "outputs": [
    {
     "name": "stdout",
     "output_type": "stream",
     "text": [
      "dict_keys(['train', 'val', 'total', 'test'])\n",
      "dict_keys(['seq', 'indel_rate', 'indel_class', 'read_cnt', 'info'])\n"
     ]
    }
   ],
   "source": [
    "print(data.keys())\n",
    "print(data['train'].keys())"
   ]
  },
  {
   "cell_type": "code",
   "execution_count": 9,
   "metadata": {},
   "outputs": [],
   "source": [
    "X_train = data['total']['seq']\n",
    "class_train = data['total']['indel_class']\n",
    "rate_train = data['total']['indel_rate']\n",
    "\n",
    "X_val = data['val']['seq']\n",
    "class_val = data['val']['indel_class']\n",
    "rate_val = data['val']['indel_rate']\n",
    "\n",
    "X_test = data['test']['seq']\n",
    "class_test = data['test']['indel_class']\n",
    "rate_test = data['test']['indel_rate']\n",
    "\n",
    "input_shape = X_train.shape[1:]"
   ]
  },
  {
   "cell_type": "code",
   "execution_count": 10,
   "metadata": {},
   "outputs": [
    {
     "data": {
      "text/plain": [
       "(1500, 34, 4)"
      ]
     },
     "execution_count": 10,
     "metadata": {},
     "output_type": "execute_result"
    }
   ],
   "source": [
    "X_val.shape"
   ]
  },
  {
   "cell_type": "code",
   "execution_count": 11,
   "metadata": {},
   "outputs": [],
   "source": [
    "batch_size = 128\n",
    "\n",
    "en_lr = 0.001\n",
    "en_epochs = 500\n",
    "\n",
    "dnn_lr = 0.001\n",
    "dnn_epochs = 400\n",
    "\n",
    "\n",
    "dropout_RNN = 0.5\n",
    "dropout_RNN_out = 0.5\n",
    "dropout_DNN = 0.5\n",
    "dropout2_DNN = 0.5\n",
    "\n",
    "\n",
    "DNN_1 = 100\n",
    "DNN_2 = 100\n",
    "DNN_3 = 100\n",
    "\n",
    "DNN_num_mis_1 = 100\n",
    "DNN_num_mis_2 = 100\n",
    "DNN_num_mis_3 = 5\n",
    "\n",
    "DNN_class_1 = 100\n",
    "DNN_class_2 = 100\n",
    "DNN_class_3 = 11\n",
    "\n",
    "DNN_rate_1 = 100\n",
    "DNN_rate_2 = 100\n",
    "DNN_rate_3 = 1\n",
    "\n",
    "verbose = 1"
   ]
  },
  {
   "cell_type": "code",
   "execution_count": 12,
   "metadata": {},
   "outputs": [],
   "source": [
    "CNNLSTM_input = Input(shape=input_shape)\n",
    "#CNNLSTM_input_reshape = Reshape((23,8))(CNNLSTM_input)\n",
    "\n",
    "kernal0 = 16\n",
    "dropout0 = 0.5\n",
    "CNN0_1 = Conv1D(kernal0, [1], activation='relu', padding='same', kernel_initializer='he_normal')(CNNLSTM_input)\n",
    "CNN0_1 = Dropout(0.3)(CNN0_1)\n",
    "\n",
    "CNN0_2 = Conv1D(kernal0, [2], activation='relu', padding='same', kernel_initializer='he_normal')(CNNLSTM_input)\n",
    "CNN0_2 = Dropout(0.3)(CNN0_2)\n",
    "\n",
    "CNN0_3 = Conv1D(kernal0, [3], activation='relu', padding='same', kernel_initializer='he_normal')(CNNLSTM_input)\n",
    "CNN0_3 = Dropout(0.3)(CNN0_3)\n",
    "\n",
    "CNN0_4 = Conv1D(kernal0, [4], activation='relu', padding='same', kernel_initializer='he_normal')(CNNLSTM_input)\n",
    "CNN0_4 = Dropout(0.3)(CNN0_4)\n",
    "\n",
    "CNN0_5 = Conv1D(kernal0, [5], activation='relu', padding='same', kernel_initializer='he_normal')(CNNLSTM_input)\n",
    "CNN0_5 = Dropout(0.3)(CNN0_5)\n",
    "\n",
    "concatenate0 = concatenate([CNN0_1, CNN0_2, CNN0_3, CNN0_4, CNN0_5])\n",
    "\n",
    "#squeezed = Lambda(lambda x: keras.backend.squeeze(x,axis=2))(concatenate0)\n",
    "\n",
    "LSTM0 = LSTM(64, return_sequences=True)(concatenate0)\n",
    "LSTM0 = Dropout(dropout0)(LSTM0)\n",
    "\n",
    "concatenate1 = concatenate([LSTM0, CNNLSTM_input])\n",
    "\n",
    "\n",
    "kernal1 = 32\n",
    "dropout1 = 0.5\n",
    "CNN1_1 = Conv1D(kernal1, [1], activation='relu', padding='same', kernel_initializer='he_normal')(concatenate1)\n",
    "CNN1_1 = Dropout(dropout1)(CNN1_1)\n",
    "\n",
    "CNN1_2 = Conv1D(kernal1, [2], activation='relu', padding='same', kernel_initializer='he_normal')(concatenate1)\n",
    "CNN1_2 = Dropout(dropout1)(CNN1_2)\n",
    "\n",
    "CNN1_3 = Conv1D(kernal1, [3], activation='relu', padding='same', kernel_initializer='he_normal')(concatenate1)\n",
    "CNN1_3 = Dropout(dropout1)(CNN1_3)\n",
    "\n",
    "CNN1_4 = Conv1D(kernal1, [4], activation='relu', padding='same', kernel_initializer='he_normal')(concatenate1)\n",
    "CNN1_4 = Dropout(dropout1)(CNN1_4)\n",
    "\n",
    "CNN1_5 = Conv1D(kernal1, [5], activation='relu', padding='same', kernel_initializer='he_normal')(concatenate1)\n",
    "CNN1_5 = Dropout(dropout1)(CNN1_5)\n",
    "\n",
    "CNN1_concatenate = concatenate([CNN1_1, CNN1_2, CNN1_3, CNN1_4, CNN1_5])\n",
    "\n",
    "LSTM1 = LSTM(128, return_sequences=True)(CNN1_concatenate)\n",
    "LSTM1 = Dropout(dropout1)(LSTM1)\n",
    "\n",
    "\n",
    "#concatenate2 = concatenate([CNNLSTM_input_reshape,LSTM1])\n",
    "concatenate2 = concatenate([LSTM1, LSTM0])\n",
    "kernal2 = 64\n",
    "dropout2 = 0.5\n",
    "CNN2_1 = Conv1D(kernal2, [1], activation='relu', padding='same', kernel_initializer='he_normal')(concatenate2)\n",
    "#CNN2_1 = MaxPool1D()(CNN2_1)\n",
    "CNN2_1 = Dropout(dropout2)(CNN2_1)\n",
    "\n",
    "CNN2_2 = Conv1D(kernal2, [2], activation='relu', padding='same', kernel_initializer='he_normal')(concatenate2)\n",
    "#CNN2_2 = MaxPool1D()(CNN2_2)\n",
    "CNN2_2 = Dropout(dropout2)(CNN2_2)\n",
    "\n",
    "CNN2_3 = Conv1D(kernal2, [3], activation='relu', padding='same', kernel_initializer='he_normal')(concatenate2)\n",
    "#CNN2_3 = MaxPool1D()(CNN2_3)\n",
    "CNN2_3 = Dropout(dropout2)(CNN2_3)\n",
    "\n",
    "CNN2_4 = Conv1D(kernal2, [4], activation='relu', padding='same', kernel_initializer='he_normal')(concatenate2)\n",
    "#CNN2_4 = MaxPool1D()(CNN2_4)\n",
    "CNN2_4 = Dropout(dropout2)(CNN2_4)\n",
    "\n",
    "CNN2_5 = Conv1D(kernal2, [5], activation='relu', padding='same', kernel_initializer='he_normal')(concatenate2)\n",
    "#CNN2_5 = MaxPool1D()(CNN2_5)\n",
    "CNN2_5 = Dropout(dropout2)(CNN2_5)\n",
    "\n",
    "CNN2_concatenate = concatenate([CNN2_1, CNN2_2, CNN2_3, CNN2_4, CNN2_5])\n",
    "\n",
    "LSTM2 = LSTM(256, return_sequences=True)(CNN2_concatenate)\n",
    "LSTM2 = Dropout(dropout2)(LSTM2)\n",
    "\n",
    "\n",
    "#concatenate3 = concatenate([CNNLSTM_input_reshape,LSTM2])\n",
    "concatenate3 = concatenate([LSTM2,LSTM1])\n",
    "kernal3 = 128\n",
    "dropout3 = 0.5\n",
    "CNN3_1 = Conv1D(kernal3, [1], activation='relu', padding='same', kernel_initializer='he_normal')(concatenate3)\n",
    "#CNN3_1 = MaxPool1D()(CNN3_1)\n",
    "CNN3_1 = Dropout(dropout3)(CNN3_1)\n",
    "\n",
    "CNN3_2 = Conv1D(kernal3, [2], activation='relu', padding='same', kernel_initializer='he_normal')(concatenate3)\n",
    "#CNN3_2 = MaxPool1D()(CNN3_2)\n",
    "CNN3_2 = Dropout(dropout3)(CNN3_2)\n",
    "\n",
    "CNN3_3 = Conv1D(kernal3, [3], activation='relu', padding='same', kernel_initializer='he_normal')(concatenate3)\n",
    "#CNN3_3 = MaxPool1D()(CNN3_3)\n",
    "CNN3_3 = Dropout(dropout3)(CNN3_3)\n",
    "\n",
    "CNN3_4 = Conv1D(kernal3, [4], activation='relu', padding='same', kernel_initializer='he_normal')(concatenate3)\n",
    "#CNN3_4 = MaxPool1D()(CNN3_4)\n",
    "CNN3_4 = Dropout(dropout3)(CNN3_4)\n",
    "\n",
    "CNN3_5 = Conv1D(kernal3, [5], activation='relu', padding='same', kernel_initializer='he_normal')(concatenate3)\n",
    "#CNN3_5 = MaxPool1D()(CNN3_5)\n",
    "CNN3_5 = Dropout(dropout3)(CNN3_5)\n",
    "\n",
    "CNN3_concatenate = concatenate([CNN3_1, CNN3_2, CNN3_3, CNN3_4, CNN3_5])\n",
    "\n",
    "LSTM3 = LSTM(256, return_sequences=True)(CNN3_concatenate)\n",
    "LSTM3 = Dropout(dropout3)(LSTM3)\n",
    "\n",
    "\n",
    "\n",
    "#concatenate4 = LSTM3#concatenate([CNNLSTM_input_reshape,LSTM2])\n",
    "concatenate4 =concatenate([LSTM3, LSTM2])\n",
    "\n",
    "kernal4 = 128\n",
    "dropout3 = 0.5\n",
    "CNN4_1 = Conv1D(kernal4, [1], activation='relu', padding='same', kernel_initializer='he_normal')(concatenate4)\n",
    "#CNN4_1 = MaxPool1D()(CNN4_1)\n",
    "CNN4_1 = Dropout(dropout3)(CNN4_1)\n",
    "\n",
    "CNN4_2 = Conv1D(kernal4, [2], activation='relu', padding='same', kernel_initializer='he_normal')(concatenate4)\n",
    "#CNN4_2 = MaxPool1D()(CNN4_2)\n",
    "CNN4_2 = Dropout(dropout3)(CNN4_2)\n",
    "\n",
    "CNN4_3 = Conv1D(kernal4, [3], activation='relu', padding='same', kernel_initializer='he_normal')(concatenate4)\n",
    "#CNN4_3 = MaxPool1D()(CNN4_3)\n",
    "CNN4_3 = Dropout(dropout3)(CNN4_3)\n",
    "\n",
    "CNN4_4 = Conv1D(kernal4, [4], activation='relu', padding='same', kernel_initializer='he_normal')(concatenate4)\n",
    "#CNN4_4 = MaxPool1D()(CNN4_4)\n",
    "CNN4_4 = Dropout(dropout3)(CNN4_4)\n",
    "\n",
    "CNN4_5 = Conv1D(kernal4, [5], activation='relu', padding='same', kernel_initializer='he_normal')(concatenate4)\n",
    "#CNN4_5 = MaxPool1D()(CNN4_5)\n",
    "CNN4_5 = Dropout(dropout3)(CNN4_5)\n",
    "\n",
    "CNN4_concatenate = concatenate([CNN4_1, CNN4_2, CNN4_3, CNN4_4, CNN4_5])\n",
    "\n",
    "LSTM4 = LSTM(256, return_sequences=True)(CNN4_concatenate)\n",
    "LSTM4 = Dropout(dropout3)(LSTM4)\n",
    "\n",
    "CNN_model = Model(CNNLSTM_input, LSTM4)\n",
    "#CNN_model.summary()"
   ]
  },
  {
   "cell_type": "code",
   "execution_count": 13,
   "metadata": {},
   "outputs": [
    {
     "name": "stdout",
     "output_type": "stream",
     "text": [
      "Failed to import pydot. You must install pydot and graphviz for `pydotprint` to work.\n"
     ]
    }
   ],
   "source": [
    "graph = tf.keras.utils.plot_model(CNN_model, show_shapes=True)"
   ]
  },
  {
   "cell_type": "code",
   "execution_count": 14,
   "metadata": {},
   "outputs": [],
   "source": [
    "LSTM_middel = Lambda(lambda x: x[:,-1,:])(LSTM2) #Flatten()(CNN2_concatenate)\n",
    "LSTM_middel_2 = Lambda(lambda x: x[:,-1,:])(LSTM3) #Flatten()(CNN2_concatenate)\n",
    "LSTM_result = Lambda(lambda x: x[:,-1,:])(LSTM4) #Flatten()(CNN3_concatenate)\n",
    "\"\"\"\n",
    "#DNN model - number of mismatch prediction\n",
    "DNN_nummis_layer_input = LSTM_middel_2\n",
    "DNN_nummis_layer = Dense(DNN_num_mis_1, activation='relu')(DNN_nummis_layer_input)\n",
    "DNN_nummis_layer = Dropout(dropout2_DNN)(DNN_nummis_layer)\n",
    "DNN_nummis_layer = Dense(DNN_num_mis_3, activation='softmax', name='num_mis')(DNN_nummis_layer)\n",
    "\n",
    "\"\"\"\n",
    "#DNN model - class prediction\n",
    "DNN_class_layer_input = LSTM_middel\n",
    "DNN_class_layer_mid = Dense(DNN_class_1, activation='relu')(DNN_class_layer_input)\n",
    "DNN_class_layer = Dropout(dropout2_DNN)(DNN_class_layer_mid)\n",
    "DNN_class_layer = Dense(DNN_class_2, activation='relu')(DNN_class_layer)\n",
    "DNN_class_layer = Dropout(dropout2_DNN)(DNN_class_layer)\n",
    "DNN_class_layer = Dense(DNN_class_3, activation='softmax', name='class_1')(DNN_class_layer)\n",
    "\n",
    "DNN_class_layer_input_2 = LSTM_middel_2\n",
    "DNN_class_layer_mid_2 = Dense(DNN_class_1, activation='relu')(DNN_class_layer_input_2)\n",
    "DNN_class_layer_2 = Dropout(dropout2_DNN)(DNN_class_layer_mid_2)\n",
    "DNN_class_layer_2 = Dense(DNN_class_2, activation='relu')(DNN_class_layer_2)\n",
    "DNN_class_layer_2 = Dropout(dropout2_DNN)(DNN_class_layer_2)\n",
    "DNN_class_layer_2 = Dense(DNN_class_3, activation='softmax', name='class_2')(DNN_class_layer_2)\n",
    "\n",
    "\n",
    "#DNN model - class prediction 2\n",
    "DNN_class_layer_input_result = LSTM_result\n",
    "DNN_class_layer_result = Dense(DNN_class_1, activation='relu')(DNN_class_layer_input_result)\n",
    "DNN_class_layer_result = Dropout(dropout2_DNN)(DNN_class_layer_result)\n",
    "DNN_class_layer_mid_result = Dense(DNN_class_2, activation='relu')(DNN_class_layer_result)\n",
    "DNN_class_layer_result = Dropout(dropout2_DNN)(DNN_class_layer_mid_result)\n",
    "DNN_class_layer_result = Dense(DNN_class_3, activation='softmax', name='class_result')(DNN_class_layer_result)\n",
    "\n",
    "\n",
    "#DNN model - real value prediction\n",
    "#DNN_rate_layer_input = LSTM_result\n",
    "#DNN_rate_layer = Dense(DNN_rate_1, activation='relu', kernel_initializer='he_normal')(DNN_rate_layer_input)\n",
    "#DNN_rate_layer = Dropout(dropout2_DNN)(DNN_rate_layer)\n",
    "DNN_rate_layer = Dense(DNN_rate_2, activation='relu', kernel_initializer='he_normal')(DNN_class_layer_mid_result)\n",
    "DNN_rate_layer = Dropout(dropout2_DNN)(DNN_rate_layer)\n",
    "DNN_rate_layer = Dense(DNN_rate_3, activation='linear', kernel_initializer='he_normal', name='rate')(DNN_rate_layer)\n",
    "\n",
    "\n",
    "\n",
    "MTL_model = Model(CNNLSTM_input, [DNN_class_layer, DNN_class_layer_2,\n",
    "                                  DNN_class_layer_result, DNN_rate_layer])\n",
    "\n",
    "\n",
    "cluster_model = Model(CNNLSTM_input,DNN_class_layer)\n",
    "regression_model = Model(CNNLSTM_input, DNN_rate_layer)\n",
    "cluster_tsne_model = Model(CNNLSTM_input, DNN_class_layer_mid_result)\n",
    "\n",
    "\n",
    "#MTL_model.summary()"
   ]
  },
  {
   "cell_type": "code",
   "execution_count": 15,
   "metadata": {},
   "outputs": [
    {
     "data": {
      "text/plain": [
       "\"\\nregression_model.compile(optimizer='adam',\\n                        loss={'rate' : 'mean_squared_error'},\\n                        )\\n\""
      ]
     },
     "execution_count": 15,
     "metadata": {},
     "output_type": "execute_result"
    }
   ],
   "source": [
    "#optimizer = Adam(lr=0.0001)\n",
    "#optimizer_2 = Adam(lr=0.0001)\n",
    "\n",
    "MTL_model.compile(optimizer='adam',\n",
    "              loss={\n",
    "                  #'num_mis': 'categorical_crossentropy',\n",
    "                  'class_1': 'categorical_crossentropy',\n",
    "                  'class_2': 'categorical_crossentropy',\n",
    "                  'class_result': 'categorical_crossentropy',\n",
    "                  'rate': 'mean_squared_error'},\n",
    "              loss_weights={\n",
    "                  #'num_mis': 0.5,\n",
    "                  'class_1': 1,\n",
    "                  'class_2': 1,\n",
    "                  'class_result': 0.5,\n",
    "                  'rate': 1},\n",
    "              metrics={\n",
    "                  #'num_mis': 'accuracy',\n",
    "                  'class_1': \"accuracy\",\n",
    "                  'class_2': \"accuracy\",\n",
    "                  'class_result': \"accuracy\"}\n",
    "             )\n",
    "'''\n",
    "regression_model.compile(optimizer='adam',\n",
    "                        loss={'rate' : 'mean_squared_error'},\n",
    "                        )\n",
    "'''"
   ]
  },
  {
   "cell_type": "code",
   "execution_count": 16,
   "metadata": {},
   "outputs": [
    {
     "name": "stdout",
     "output_type": "stream",
     "text": [
      "class_weight\n",
      "{0: 0.43917435221783047, 1: 0.952260030472321, 2: 1.1575860472295108, 3: 1.2164463547157571, 4: 1.1411182959300115, 5: 1.040943789035392, 6: 1.02993683054106, 7: 0.9838646202282566, 8: 1.090037061260083, 9: 1.4384349827387801, 10: 1.8181818181818181}\n",
      "sample_weight\n",
      "{0: 0.43917435221783047, 1: 0.952260030472321, 2: 1.1575860472295108, 3: 1.2164463547157571, 4: 1.1411182959300115, 5: 1.040943789035392, 6: 1.02993683054106, 7: 0.9838646202282566, 8: 1.090037061260083, 9: 1.4384349827387801, 10: 1.8181818181818181}\n"
     ]
    }
   ],
   "source": [
    "from sklearn.utils import class_weight\n",
    "class_train_num = class_train.argmax(axis=-1)\n",
    "class_weights = class_weight.compute_class_weight('balanced',\n",
    "                                                  np.unique(class_train_num),\n",
    "                                                  class_train_num\n",
    "                                                 )\n",
    "class_weights_dict = dict(enumerate(class_weights))#{ i : class_weights[i] for i in range(11)}\n",
    "print(\"class_weight\")\n",
    "print(class_weights_dict)\n",
    "\n",
    "class_wieghts_dict_tuned = class_weights_dict\n",
    "for i in range(0,11):\n",
    "    multiple_constant = 2\n",
    "    cutoff_class = 5\n",
    "    \n",
    "    if i <=cutoff_class:\n",
    "        class_wieghts_dict_tuned[i] = class_weights_dict[i]#1.0\n",
    "    else:\n",
    "        class_wieghts_dict_tuned[i] = class_weights_dict[i]#multiple_constant*np.tanh((class_weights_dict[i]-2)/2) + multiple_constant\n",
    "    \n",
    "print(\"sample_weight\")\n",
    "print(class_wieghts_dict_tuned)\n",
    "\n",
    "sample_weight = np.array([class_wieghts_dict_tuned[i] for i in class_train_num])"
   ]
  },
  {
   "cell_type": "code",
   "execution_count": 17,
   "metadata": {
    "scrolled": true
   },
   "outputs": [
    {
     "name": "stdout",
     "output_type": "stream",
     "text": [
      "Train on 15000 samples, validate on 1500 samples\n",
      "Epoch 1/100\n",
      "15000/15000 [==============================] - 23s 2ms/sample - loss: 6.1271 - class_1_loss: 2.3976 - class_2_loss: 2.3983 - class_result_loss: 2.4062 - rate_loss: 0.1248 - class_1_accuracy: 0.1013 - class_2_accuracy: 0.1063 - class_result_accuracy: 0.0885 - val_loss: 5.9802 - val_class_1_loss: 2.3470 - val_class_2_loss: 2.3304 - val_class_result_loss: 2.4059 - val_rate_loss: 0.0998 - val_class_1_accuracy: 0.1993 - val_class_2_accuracy: 0.1953 - val_class_result_accuracy: 0.0833\n",
      "Epoch 2/100\n",
      "15000/15000 [==============================] - 8s 520us/sample - loss: 5.9887 - class_1_loss: 2.3429 - class_2_loss: 2.3495 - class_result_loss: 2.3892 - rate_loss: 0.0998 - class_1_accuracy: 0.1581 - class_2_accuracy: 0.1582 - class_result_accuracy: 0.1094 - val_loss: 5.8755 - val_class_1_loss: 2.3139 - val_class_2_loss: 2.2913 - val_class_result_loss: 2.3682 - val_rate_loss: 0.0843 - val_class_1_accuracy: 0.1627 - val_class_2_accuracy: 0.1673 - val_class_result_accuracy: 0.1880\n",
      "Epoch 3/100\n",
      "15000/15000 [==============================] - 8s 519us/sample - loss: 5.8746 - class_1_loss: 2.3049 - class_2_loss: 2.3075 - class_result_loss: 2.3356 - rate_loss: 0.0913 - class_1_accuracy: 0.1679 - class_2_accuracy: 0.1779 - class_result_accuracy: 0.1888 - val_loss: 5.7636 - val_class_1_loss: 2.2729 - val_class_2_loss: 2.2772 - val_class_result_loss: 2.2704 - val_rate_loss: 0.0763 - val_class_1_accuracy: 0.1853 - val_class_2_accuracy: 0.1813 - val_class_result_accuracy: 0.2227\n",
      "Epoch 4/100\n",
      "15000/15000 [==============================] - 8s 519us/sample - loss: 5.8105 - class_1_loss: 2.2881 - class_2_loss: 2.2914 - class_result_loss: 2.3031 - rate_loss: 0.0855 - class_1_accuracy: 0.1885 - class_2_accuracy: 0.1847 - class_result_accuracy: 0.1905 - val_loss: 5.6925 - val_class_1_loss: 2.2470 - val_class_2_loss: 2.2469 - val_class_result_loss: 2.2456 - val_rate_loss: 0.0782 - val_class_1_accuracy: 0.1807 - val_class_2_accuracy: 0.1807 - val_class_result_accuracy: 0.1880\n",
      "Epoch 5/100\n",
      "15000/15000 [==============================] - 8s 521us/sample - loss: 5.7569 - class_1_loss: 2.2644 - class_2_loss: 2.2692 - class_result_loss: 2.2747 - rate_loss: 0.0808 - class_1_accuracy: 0.1901 - class_2_accuracy: 0.1862 - class_result_accuracy: 0.1925 - val_loss: 5.5511 - val_class_1_loss: 2.1957 - val_class_2_loss: 2.1947 - val_class_result_loss: 2.1985 - val_rate_loss: 0.0630 - val_class_1_accuracy: 0.2487 - val_class_2_accuracy: 0.2253 - val_class_result_accuracy: 0.2427\n",
      "Epoch 6/100\n",
      "15000/15000 [==============================] - 8s 525us/sample - loss: 5.6978 - class_1_loss: 2.2427 - class_2_loss: 2.2498 - class_result_loss: 2.2571 - rate_loss: 0.0769 - class_1_accuracy: 0.2002 - class_2_accuracy: 0.1993 - class_result_accuracy: 0.1991 - val_loss: 5.4548 - val_class_1_loss: 2.1538 - val_class_2_loss: 2.1604 - val_class_result_loss: 2.1636 - val_rate_loss: 0.0597 - val_class_1_accuracy: 0.2480 - val_class_2_accuracy: 0.2493 - val_class_result_accuracy: 0.2620\n",
      "Epoch 7/100\n",
      "15000/15000 [==============================] - 8s 522us/sample - loss: 5.5887 - class_1_loss: 2.2022 - class_2_loss: 2.2089 - class_result_loss: 2.2138 - rate_loss: 0.0710 - class_1_accuracy: 0.2158 - class_2_accuracy: 0.2147 - class_result_accuracy: 0.2130 - val_loss: 5.4433 - val_class_1_loss: 2.1468 - val_class_2_loss: 2.1576 - val_class_result_loss: 2.1537 - val_rate_loss: 0.0628 - val_class_1_accuracy: 0.2193 - val_class_2_accuracy: 0.2120 - val_class_result_accuracy: 0.2287\n",
      "Epoch 8/100\n",
      "15000/15000 [==============================] - 8s 532us/sample - loss: 5.5318 - class_1_loss: 2.1802 - class_2_loss: 2.1874 - class_result_loss: 2.1921 - rate_loss: 0.0677 - class_1_accuracy: 0.2209 - class_2_accuracy: 0.2229 - class_result_accuracy: 0.2193 - val_loss: 5.2711 - val_class_1_loss: 2.0845 - val_class_2_loss: 2.0872 - val_class_result_loss: 2.0912 - val_rate_loss: 0.0540 - val_class_1_accuracy: 0.2693 - val_class_2_accuracy: 0.2667 - val_class_result_accuracy: 0.2693\n",
      "Epoch 9/100\n",
      "15000/15000 [==============================] - 8s 533us/sample - loss: 5.4685 - class_1_loss: 2.1580 - class_2_loss: 2.1634 - class_result_loss: 2.1677 - rate_loss: 0.0648 - class_1_accuracy: 0.2327 - class_2_accuracy: 0.2283 - class_result_accuracy: 0.2250 - val_loss: 5.3109 - val_class_1_loss: 2.0950 - val_class_2_loss: 2.1079 - val_class_result_loss: 2.1100 - val_rate_loss: 0.0557 - val_class_1_accuracy: 0.2580 - val_class_2_accuracy: 0.2493 - val_class_result_accuracy: 0.2567\n",
      "Epoch 10/100\n",
      "15000/15000 [==============================] - 8s 524us/sample - loss: 5.4252 - class_1_loss: 2.1366 - class_2_loss: 2.1488 - class_result_loss: 2.1539 - rate_loss: 0.0624 - class_1_accuracy: 0.2319 - class_2_accuracy: 0.2392 - class_result_accuracy: 0.2309 - val_loss: 5.3302 - val_class_1_loss: 2.0992 - val_class_2_loss: 2.1143 - val_class_result_loss: 2.1160 - val_rate_loss: 0.0575 - val_class_1_accuracy: 0.2140 - val_class_2_accuracy: 0.2220 - val_class_result_accuracy: 0.2393\n",
      "Epoch 11/100\n",
      "15000/15000 [==============================] - 8s 521us/sample - loss: 5.3855 - class_1_loss: 2.1265 - class_2_loss: 2.1313 - class_result_loss: 2.1354 - rate_loss: 0.0602 - class_1_accuracy: 0.2296 - class_2_accuracy: 0.2281 - class_result_accuracy: 0.2323 - val_loss: 5.2015 - val_class_1_loss: 2.0581 - val_class_2_loss: 2.0588 - val_class_result_loss: 2.0710 - val_rate_loss: 0.0497 - val_class_1_accuracy: 0.2753 - val_class_2_accuracy: 0.2767 - val_class_result_accuracy: 0.2713\n",
      "Epoch 12/100\n",
      "15000/15000 [==============================] - 8s 531us/sample - loss: 5.3796 - class_1_loss: 2.1229 - class_2_loss: 2.1286 - class_result_loss: 2.1348 - rate_loss: 0.0608 - class_1_accuracy: 0.2293 - class_2_accuracy: 0.2308 - class_result_accuracy: 0.2387 - val_loss: 5.1787 - val_class_1_loss: 2.0470 - val_class_2_loss: 2.0615 - val_class_result_loss: 2.0464 - val_rate_loss: 0.0480 - val_class_1_accuracy: 0.2760 - val_class_2_accuracy: 0.2700 - val_class_result_accuracy: 0.2833\n",
      "Epoch 13/100\n",
      "15000/15000 [==============================] - 8s 521us/sample - loss: 5.3543 - class_1_loss: 2.1164 - class_2_loss: 2.1193 - class_result_loss: 2.1268 - rate_loss: 0.0587 - class_1_accuracy: 0.2413 - class_2_accuracy: 0.2366 - class_result_accuracy: 0.2445 - val_loss: 5.2587 - val_class_1_loss: 2.0720 - val_class_2_loss: 2.0862 - val_class_result_loss: 2.0891 - val_rate_loss: 0.0540 - val_class_1_accuracy: 0.2507 - val_class_2_accuracy: 0.2513 - val_class_result_accuracy: 0.2660\n",
      "Epoch 14/100\n",
      "15000/15000 [==============================] - 8s 503us/sample - loss: 5.3376 - class_1_loss: 2.1096 - class_2_loss: 2.1116 - class_result_loss: 2.1128 - rate_loss: 0.0577 - class_1_accuracy: 0.2473 - class_2_accuracy: 0.2379 - class_result_accuracy: 0.2467 - val_loss: 5.1762 - val_class_1_loss: 2.0510 - val_class_2_loss: 2.0497 - val_class_result_loss: 2.0537 - val_rate_loss: 0.0470 - val_class_1_accuracy: 0.2860 - val_class_2_accuracy: 0.2860 - val_class_result_accuracy: 0.2800\n",
      "Epoch 15/100\n",
      "15000/15000 [==============================] - 8s 512us/sample - loss: 5.3143 - class_1_loss: 2.0986 - class_2_loss: 2.1030 - class_result_loss: 2.1085 - rate_loss: 0.0572 - class_1_accuracy: 0.2471 - class_2_accuracy: 0.2409 - class_result_accuracy: 0.2453 - val_loss: 5.1861 - val_class_1_loss: 2.0540 - val_class_2_loss: 2.0508 - val_class_result_loss: 2.0619 - val_rate_loss: 0.0497 - val_class_1_accuracy: 0.2740 - val_class_2_accuracy: 0.2667 - val_class_result_accuracy: 0.2627\n",
      "Epoch 16/100\n",
      "15000/15000 [==============================] - 8s 503us/sample - loss: 5.2849 - class_1_loss: 2.0890 - class_2_loss: 2.0976 - class_result_loss: 2.0952 - rate_loss: 0.0555 - class_1_accuracy: 0.2439 - class_2_accuracy: 0.2461 - class_result_accuracy: 0.2538 - val_loss: 5.1641 - val_class_1_loss: 2.0368 - val_class_2_loss: 2.0476 - val_class_result_loss: 2.0516 - val_rate_loss: 0.0502 - val_class_1_accuracy: 0.2520 - val_class_2_accuracy: 0.2380 - val_class_result_accuracy: 0.2727\n",
      "Epoch 17/100\n",
      "15000/15000 [==============================] - 8s 509us/sample - loss: 5.2933 - class_1_loss: 2.0934 - class_2_loss: 2.0933 - class_result_loss: 2.0960 - rate_loss: 0.0561 - class_1_accuracy: 0.2439 - class_2_accuracy: 0.2415 - class_result_accuracy: 0.2452 - val_loss: 5.1493 - val_class_1_loss: 2.0323 - val_class_2_loss: 2.0425 - val_class_result_loss: 2.0413 - val_rate_loss: 0.0528 - val_class_1_accuracy: 0.2700 - val_class_2_accuracy: 0.2547 - val_class_result_accuracy: 0.2840\n",
      "Epoch 18/100\n",
      "15000/15000 [==============================] - 8s 510us/sample - loss: 5.2798 - class_1_loss: 2.0868 - class_2_loss: 2.0916 - class_result_loss: 2.0990 - rate_loss: 0.0565 - class_1_accuracy: 0.2477 - class_2_accuracy: 0.2521 - class_result_accuracy: 0.2493 - val_loss: 5.1575 - val_class_1_loss: 2.0393 - val_class_2_loss: 2.0416 - val_class_result_loss: 2.0490 - val_rate_loss: 0.0516 - val_class_1_accuracy: 0.2573 - val_class_2_accuracy: 0.2520 - val_class_result_accuracy: 0.2547\n",
      "Epoch 19/100\n",
      "15000/15000 [==============================] - 8s 501us/sample - loss: 5.2718 - class_1_loss: 2.0822 - class_2_loss: 2.0854 - class_result_loss: 2.0919 - rate_loss: 0.0555 - class_1_accuracy: 0.2540 - class_2_accuracy: 0.2457 - class_result_accuracy: 0.2504 - val_loss: 5.1433 - val_class_1_loss: 2.0388 - val_class_2_loss: 2.0354 - val_class_result_loss: 2.0506 - val_rate_loss: 0.0457 - val_class_1_accuracy: 0.2753 - val_class_2_accuracy: 0.2773 - val_class_result_accuracy: 0.2867\n",
      "Epoch 20/100\n",
      "15000/15000 [==============================] - 8s 505us/sample - loss: 5.2540 - class_1_loss: 2.0708 - class_2_loss: 2.0778 - class_result_loss: 2.0840 - rate_loss: 0.0546 - class_1_accuracy: 0.2564 - class_2_accuracy: 0.2511 - class_result_accuracy: 0.2586 - val_loss: 5.1667 - val_class_1_loss: 2.0409 - val_class_2_loss: 2.0473 - val_class_result_loss: 2.0502 - val_rate_loss: 0.0503 - val_class_1_accuracy: 0.2953 - val_class_2_accuracy: 0.2807 - val_class_result_accuracy: 0.2987\n",
      "Epoch 21/100\n",
      "15000/15000 [==============================] - 7s 496us/sample - loss: 5.2481 - class_1_loss: 2.0759 - class_2_loss: 2.0776 - class_result_loss: 2.0789 - rate_loss: 0.0548 - class_1_accuracy: 0.2520 - class_2_accuracy: 0.2519 - class_result_accuracy: 0.2538 - val_loss: 5.1127 - val_class_1_loss: 2.0283 - val_class_2_loss: 2.0199 - val_class_result_loss: 2.0305 - val_rate_loss: 0.0457 - val_class_1_accuracy: 0.2833 - val_class_2_accuracy: 0.2840 - val_class_result_accuracy: 0.2827\n",
      "Epoch 22/100\n",
      "15000/15000 [==============================] - 8s 525us/sample - loss: 5.2470 - class_1_loss: 2.0735 - class_2_loss: 2.0790 - class_result_loss: 2.0914 - rate_loss: 0.0553 - class_1_accuracy: 0.2517 - class_2_accuracy: 0.2467 - class_result_accuracy: 0.2487 - val_loss: 5.1347 - val_class_1_loss: 2.0302 - val_class_2_loss: 2.0365 - val_class_result_loss: 2.0392 - val_rate_loss: 0.0470 - val_class_1_accuracy: 0.2833 - val_class_2_accuracy: 0.2900 - val_class_result_accuracy: 0.2887\n",
      "Epoch 23/100\n",
      "15000/15000 [==============================] - 8s 529us/sample - loss: 5.2307 - class_1_loss: 2.0703 - class_2_loss: 2.0719 - class_result_loss: 2.0734 - rate_loss: 0.0534 - class_1_accuracy: 0.2541 - class_2_accuracy: 0.2580 - class_result_accuracy: 0.2567 - val_loss: 5.0562 - val_class_1_loss: 2.0022 - val_class_2_loss: 2.0047 - val_class_result_loss: 2.0049 - val_rate_loss: 0.0459 - val_class_1_accuracy: 0.2740 - val_class_2_accuracy: 0.2620 - val_class_result_accuracy: 0.2647\n",
      "Epoch 24/100\n",
      "15000/15000 [==============================] - 8s 529us/sample - loss: 5.2187 - class_1_loss: 2.0630 - class_2_loss: 2.0657 - class_result_loss: 2.0709 - rate_loss: 0.0532 - class_1_accuracy: 0.2556 - class_2_accuracy: 0.2483 - class_result_accuracy: 0.2505 - val_loss: 5.1745 - val_class_1_loss: 2.0431 - val_class_2_loss: 2.0452 - val_class_result_loss: 2.0552 - val_rate_loss: 0.0580 - val_class_1_accuracy: 0.2413 - val_class_2_accuracy: 0.2473 - val_class_result_accuracy: 0.2560\n",
      "Epoch 25/100\n",
      "15000/15000 [==============================] - 8s 528us/sample - loss: 5.2108 - class_1_loss: 2.0607 - class_2_loss: 2.0638 - class_result_loss: 2.0667 - rate_loss: 0.0532 - class_1_accuracy: 0.2570 - class_2_accuracy: 0.2551 - class_result_accuracy: 0.2569 - val_loss: 5.0357 - val_class_1_loss: 1.9953 - val_class_2_loss: 1.9969 - val_class_result_loss: 1.9959 - val_rate_loss: 0.0447 - val_class_1_accuracy: 0.2960 - val_class_2_accuracy: 0.2893 - val_class_result_accuracy: 0.2913\n",
      "Epoch 26/100\n",
      "15000/15000 [==============================] - 8s 528us/sample - loss: 5.2118 - class_1_loss: 2.0614 - class_2_loss: 2.0609 - class_result_loss: 2.0709 - rate_loss: 0.0527 - class_1_accuracy: 0.2529 - class_2_accuracy: 0.2612 - class_result_accuracy: 0.2574 - val_loss: 5.0620 - val_class_1_loss: 1.9988 - val_class_2_loss: 2.0051 - val_class_result_loss: 2.0188 - val_rate_loss: 0.0457 - val_class_1_accuracy: 0.2807 - val_class_2_accuracy: 0.2793 - val_class_result_accuracy: 0.2913\n",
      "Epoch 27/100\n",
      "15000/15000 [==============================] - 8s 528us/sample - loss: 5.1828 - class_1_loss: 2.0507 - class_2_loss: 2.0510 - class_result_loss: 2.0543 - rate_loss: 0.0513 - class_1_accuracy: 0.2597 - class_2_accuracy: 0.2606 - class_result_accuracy: 0.2642 - val_loss: 5.0462 - val_class_1_loss: 1.9968 - val_class_2_loss: 2.0015 - val_class_result_loss: 2.0048 - val_rate_loss: 0.0427 - val_class_1_accuracy: 0.2953 - val_class_2_accuracy: 0.2933 - val_class_result_accuracy: 0.2960\n",
      "Epoch 28/100\n",
      "15000/15000 [==============================] - 8s 532us/sample - loss: 5.1728 - class_1_loss: 2.0466 - class_2_loss: 2.0499 - class_result_loss: 2.0509 - rate_loss: 0.0515 - class_1_accuracy: 0.2588 - class_2_accuracy: 0.2578 - class_result_accuracy: 0.2605 - val_loss: 5.0212 - val_class_1_loss: 1.9907 - val_class_2_loss: 1.9885 - val_class_result_loss: 1.9937 - val_rate_loss: 0.0424 - val_class_1_accuracy: 0.2647 - val_class_2_accuracy: 0.2773 - val_class_result_accuracy: 0.2753\n",
      "Epoch 29/100\n",
      "15000/15000 [==============================] - 8s 534us/sample - loss: 5.1896 - class_1_loss: 2.0537 - class_2_loss: 2.0585 - class_result_loss: 2.0614 - rate_loss: 0.0524 - class_1_accuracy: 0.2627 - class_2_accuracy: 0.2587 - class_result_accuracy: 0.2576 - val_loss: 5.0027 - val_class_1_loss: 1.9799 - val_class_2_loss: 1.9850 - val_class_result_loss: 1.9838 - val_rate_loss: 0.0423 - val_class_1_accuracy: 0.2853 - val_class_2_accuracy: 0.2907 - val_class_result_accuracy: 0.2873\n",
      "Epoch 30/100\n",
      "15000/15000 [==============================] - 8s 529us/sample - loss: 5.1890 - class_1_loss: 2.0518 - class_2_loss: 2.0583 - class_result_loss: 2.0584 - rate_loss: 0.0517 - class_1_accuracy: 0.2573 - class_2_accuracy: 0.2543 - class_result_accuracy: 0.2546 - val_loss: 4.9655 - val_class_1_loss: 1.9660 - val_class_2_loss: 1.9683 - val_class_result_loss: 1.9721 - val_rate_loss: 0.0437 - val_class_1_accuracy: 0.3027 - val_class_2_accuracy: 0.3020 - val_class_result_accuracy: 0.3027\n",
      "Epoch 31/100\n",
      "15000/15000 [==============================] - 8s 531us/sample - loss: 5.1639 - class_1_loss: 2.0423 - class_2_loss: 2.0447 - class_result_loss: 2.0490 - rate_loss: 0.0518 - class_1_accuracy: 0.2565 - class_2_accuracy: 0.2571 - class_result_accuracy: 0.2592 - val_loss: 5.0063 - val_class_1_loss: 1.9807 - val_class_2_loss: 1.9826 - val_class_result_loss: 1.9930 - val_rate_loss: 0.0429 - val_class_1_accuracy: 0.2840 - val_class_2_accuracy: 0.2913 - val_class_result_accuracy: 0.2927\n",
      "Epoch 32/100\n",
      "15000/15000 [==============================] - 8s 541us/sample - loss: 5.1588 - class_1_loss: 2.0442 - class_2_loss: 2.0416 - class_result_loss: 2.0435 - rate_loss: 0.0515 - class_1_accuracy: 0.2577 - class_2_accuracy: 0.2619 - class_result_accuracy: 0.2633 - val_loss: 5.0018 - val_class_1_loss: 1.9821 - val_class_2_loss: 1.9791 - val_class_result_loss: 1.9895 - val_rate_loss: 0.0443 - val_class_1_accuracy: 0.2887 - val_class_2_accuracy: 0.2893 - val_class_result_accuracy: 0.2867\n",
      "Epoch 33/100\n",
      "15000/15000 [==============================] - 8s 538us/sample - loss: 5.1684 - class_1_loss: 2.0439 - class_2_loss: 2.0453 - class_result_loss: 2.0496 - rate_loss: 0.0511 - class_1_accuracy: 0.2579 - class_2_accuracy: 0.2589 - class_result_accuracy: 0.2567 - val_loss: 4.9812 - val_class_1_loss: 1.9714 - val_class_2_loss: 1.9748 - val_class_result_loss: 1.9782 - val_rate_loss: 0.0443 - val_class_1_accuracy: 0.2893 - val_class_2_accuracy: 0.2933 - val_class_result_accuracy: 0.2867\n",
      "Epoch 34/100\n",
      "15000/15000 [==============================] - 8s 534us/sample - loss: 5.1475 - class_1_loss: 2.0338 - class_2_loss: 2.0402 - class_result_loss: 2.0391 - rate_loss: 0.0509 - class_1_accuracy: 0.2607 - class_2_accuracy: 0.2569 - class_result_accuracy: 0.2660 - val_loss: 4.9825 - val_class_1_loss: 1.9721 - val_class_2_loss: 1.9776 - val_class_result_loss: 1.9726 - val_rate_loss: 0.0426 - val_class_1_accuracy: 0.2807 - val_class_2_accuracy: 0.2793 - val_class_result_accuracy: 0.2933\n",
      "Epoch 35/100\n",
      "15000/15000 [==============================] - 8s 535us/sample - loss: 5.1409 - class_1_loss: 2.0303 - class_2_loss: 2.0396 - class_result_loss: 2.0383 - rate_loss: 0.0507 - class_1_accuracy: 0.2625 - class_2_accuracy: 0.2599 - class_result_accuracy: 0.2591 - val_loss: 5.0540 - val_class_1_loss: 1.9967 - val_class_2_loss: 2.0068 - val_class_result_loss: 2.0021 - val_rate_loss: 0.0488 - val_class_1_accuracy: 0.2653 - val_class_2_accuracy: 0.2673 - val_class_result_accuracy: 0.2713\n",
      "Epoch 36/100\n",
      "15000/15000 [==============================] - 8s 548us/sample - loss: 5.1447 - class_1_loss: 2.0352 - class_2_loss: 2.0345 - class_result_loss: 2.0416 - rate_loss: 0.0508 - class_1_accuracy: 0.2561 - class_2_accuracy: 0.2634 - class_result_accuracy: 0.2597 - val_loss: 4.9950 - val_class_1_loss: 1.9794 - val_class_2_loss: 1.9807 - val_class_result_loss: 1.9814 - val_rate_loss: 0.0428 - val_class_1_accuracy: 0.2847 - val_class_2_accuracy: 0.2947 - val_class_result_accuracy: 0.3000\n",
      "Epoch 37/100\n",
      "15000/15000 [==============================] - 8s 535us/sample - loss: 5.1258 - class_1_loss: 2.0281 - class_2_loss: 2.0329 - class_result_loss: 2.0332 - rate_loss: 0.0501 - class_1_accuracy: 0.2618 - class_2_accuracy: 0.2582 - class_result_accuracy: 0.2630 - val_loss: 5.0692 - val_class_1_loss: 1.9983 - val_class_2_loss: 2.0106 - val_class_result_loss: 2.0161 - val_rate_loss: 0.0515 - val_class_1_accuracy: 0.2720 - val_class_2_accuracy: 0.2493 - val_class_result_accuracy: 0.2507\n",
      "Epoch 38/100\n",
      "15000/15000 [==============================] - 8s 534us/sample - loss: 5.1253 - class_1_loss: 2.0295 - class_2_loss: 2.0286 - class_result_loss: 2.0330 - rate_loss: 0.0498 - class_1_accuracy: 0.2674 - class_2_accuracy: 0.2638 - class_result_accuracy: 0.2673 - val_loss: 4.9784 - val_class_1_loss: 1.9695 - val_class_2_loss: 1.9731 - val_class_result_loss: 1.9735 - val_rate_loss: 0.0470 - val_class_1_accuracy: 0.2887 - val_class_2_accuracy: 0.2847 - val_class_result_accuracy: 0.2840\n",
      "Epoch 39/100\n",
      "15000/15000 [==============================] - 8s 537us/sample - loss: 5.1175 - class_1_loss: 2.0225 - class_2_loss: 2.0292 - class_result_loss: 2.0327 - rate_loss: 0.0501 - class_1_accuracy: 0.2625 - class_2_accuracy: 0.2543 - class_result_accuracy: 0.2659 - val_loss: 4.9410 - val_class_1_loss: 1.9571 - val_class_2_loss: 1.9568 - val_class_result_loss: 1.9631 - val_rate_loss: 0.0443 - val_class_1_accuracy: 0.2993 - val_class_2_accuracy: 0.3027 - val_class_result_accuracy: 0.2940\n",
      "Epoch 40/100\n",
      "15000/15000 [==============================] - 8s 535us/sample - loss: 5.1185 - class_1_loss: 2.0257 - class_2_loss: 2.0287 - class_result_loss: 2.0306 - rate_loss: 0.0500 - class_1_accuracy: 0.2611 - class_2_accuracy: 0.2635 - class_result_accuracy: 0.2646 - val_loss: 4.9979 - val_class_1_loss: 1.9790 - val_class_2_loss: 1.9788 - val_class_result_loss: 1.9827 - val_rate_loss: 0.0454 - val_class_1_accuracy: 0.3047 - val_class_2_accuracy: 0.2960 - val_class_result_accuracy: 0.3100\n",
      "Epoch 41/100\n",
      "15000/15000 [==============================] - 8s 537us/sample - loss: 5.0966 - class_1_loss: 2.0169 - class_2_loss: 2.0240 - class_result_loss: 2.0225 - rate_loss: 0.0491 - class_1_accuracy: 0.2699 - class_2_accuracy: 0.2655 - class_result_accuracy: 0.2668 - val_loss: 4.9688 - val_class_1_loss: 1.9635 - val_class_2_loss: 1.9699 - val_class_result_loss: 1.9770 - val_rate_loss: 0.0433 - val_class_1_accuracy: 0.2827 - val_class_2_accuracy: 0.2800 - val_class_result_accuracy: 0.2807\n",
      "Epoch 42/100\n",
      "15000/15000 [==============================] - 8s 536us/sample - loss: 5.1091 - class_1_loss: 2.0208 - class_2_loss: 2.0217 - class_result_loss: 2.0277 - rate_loss: 0.0495 - class_1_accuracy: 0.2701 - class_2_accuracy: 0.2617 - class_result_accuracy: 0.2683 - val_loss: 4.9497 - val_class_1_loss: 1.9569 - val_class_2_loss: 1.9610 - val_class_result_loss: 1.9690 - val_rate_loss: 0.0445 - val_class_1_accuracy: 0.2733 - val_class_2_accuracy: 0.2793 - val_class_result_accuracy: 0.2913\n",
      "Epoch 43/100\n",
      "15000/15000 [==============================] - 8s 534us/sample - loss: 5.0881 - class_1_loss: 2.0146 - class_2_loss: 2.0182 - class_result_loss: 2.0196 - rate_loss: 0.0488 - class_1_accuracy: 0.2677 - class_2_accuracy: 0.2678 - class_result_accuracy: 0.2680 - val_loss: 4.9535 - val_class_1_loss: 1.9580 - val_class_2_loss: 1.9663 - val_class_result_loss: 1.9630 - val_rate_loss: 0.0438 - val_class_1_accuracy: 0.3020 - val_class_2_accuracy: 0.3000 - val_class_result_accuracy: 0.3047\n",
      "Epoch 44/100\n",
      "15000/15000 [==============================] - 8s 535us/sample - loss: 5.0812 - class_1_loss: 2.0116 - class_2_loss: 2.0140 - class_result_loss: 2.0109 - rate_loss: 0.0484 - class_1_accuracy: 0.2662 - class_2_accuracy: 0.2665 - class_result_accuracy: 0.2705 - val_loss: 4.9520 - val_class_1_loss: 1.9584 - val_class_2_loss: 1.9652 - val_class_result_loss: 1.9641 - val_rate_loss: 0.0464 - val_class_1_accuracy: 0.2980 - val_class_2_accuracy: 0.2927 - val_class_result_accuracy: 0.2887\n",
      "Epoch 45/100\n",
      "15000/15000 [==============================] - 8s 535us/sample - loss: 5.0927 - class_1_loss: 2.0169 - class_2_loss: 2.0167 - class_result_loss: 2.0171 - rate_loss: 0.0486 - class_1_accuracy: 0.2653 - class_2_accuracy: 0.2654 - class_result_accuracy: 0.2601 - val_loss: 4.9257 - val_class_1_loss: 1.9482 - val_class_2_loss: 1.9513 - val_class_result_loss: 1.9544 - val_rate_loss: 0.0459 - val_class_1_accuracy: 0.3033 - val_class_2_accuracy: 0.2980 - val_class_result_accuracy: 0.2987\n",
      "Epoch 46/100\n",
      "15000/15000 [==============================] - 8s 537us/sample - loss: 5.0579 - class_1_loss: 2.0016 - class_2_loss: 2.0041 - class_result_loss: 2.0074 - rate_loss: 0.0477 - class_1_accuracy: 0.2711 - class_2_accuracy: 0.2741 - class_result_accuracy: 0.2696 - val_loss: 4.9158 - val_class_1_loss: 1.9466 - val_class_2_loss: 1.9478 - val_class_result_loss: 1.9531 - val_rate_loss: 0.0413 - val_class_1_accuracy: 0.3120 - val_class_2_accuracy: 0.2900 - val_class_result_accuracy: 0.3000\n",
      "Epoch 47/100\n",
      "15000/15000 [==============================] - 8s 535us/sample - loss: 5.0761 - class_1_loss: 2.0127 - class_2_loss: 2.0122 - class_result_loss: 2.0130 - rate_loss: 0.0483 - class_1_accuracy: 0.2697 - class_2_accuracy: 0.2627 - class_result_accuracy: 0.2648 - val_loss: 4.9337 - val_class_1_loss: 1.9543 - val_class_2_loss: 1.9564 - val_class_result_loss: 1.9537 - val_rate_loss: 0.0443 - val_class_1_accuracy: 0.3087 - val_class_2_accuracy: 0.2987 - val_class_result_accuracy: 0.3113\n",
      "Epoch 48/100\n",
      "15000/15000 [==============================] - 8s 535us/sample - loss: 5.0790 - class_1_loss: 2.0102 - class_2_loss: 2.0134 - class_result_loss: 2.0136 - rate_loss: 0.0485 - class_1_accuracy: 0.2673 - class_2_accuracy: 0.2693 - class_result_accuracy: 0.2717 - val_loss: 4.9297 - val_class_1_loss: 1.9486 - val_class_2_loss: 1.9543 - val_class_result_loss: 1.9561 - val_rate_loss: 0.0463 - val_class_1_accuracy: 0.2980 - val_class_2_accuracy: 0.3067 - val_class_result_accuracy: 0.3127\n",
      "Epoch 49/100\n",
      "15000/15000 [==============================] - 8s 541us/sample - loss: 5.0527 - class_1_loss: 1.9993 - class_2_loss: 2.0024 - class_result_loss: 2.0022 - rate_loss: 0.0473 - class_1_accuracy: 0.2687 - class_2_accuracy: 0.2713 - class_result_accuracy: 0.2715 - val_loss: 4.8779 - val_class_1_loss: 1.9323 - val_class_2_loss: 1.9331 - val_class_result_loss: 1.9372 - val_rate_loss: 0.0420 - val_class_1_accuracy: 0.2933 - val_class_2_accuracy: 0.3120 - val_class_result_accuracy: 0.3033\n",
      "Epoch 50/100\n",
      "15000/15000 [==============================] - 8s 535us/sample - loss: 5.0544 - class_1_loss: 2.0007 - class_2_loss: 2.0003 - class_result_loss: 2.0036 - rate_loss: 0.0477 - class_1_accuracy: 0.2711 - class_2_accuracy: 0.2745 - class_result_accuracy: 0.2703 - val_loss: 4.8985 - val_class_1_loss: 1.9395 - val_class_2_loss: 1.9414 - val_class_result_loss: 1.9493 - val_rate_loss: 0.0396 - val_class_1_accuracy: 0.3040 - val_class_2_accuracy: 0.3020 - val_class_result_accuracy: 0.2920\n",
      "Epoch 51/100\n",
      "15000/15000 [==============================] - 8s 543us/sample - loss: 5.0304 - class_1_loss: 1.9914 - class_2_loss: 1.9920 - class_result_loss: 1.9981 - rate_loss: 0.0469 - class_1_accuracy: 0.2666 - class_2_accuracy: 0.2746 - class_result_accuracy: 0.2649 - val_loss: 4.8721 - val_class_1_loss: 1.9295 - val_class_2_loss: 1.9311 - val_class_result_loss: 1.9373 - val_rate_loss: 0.0390 - val_class_1_accuracy: 0.3053 - val_class_2_accuracy: 0.3067 - val_class_result_accuracy: 0.2973\n",
      "Epoch 52/100\n",
      "15000/15000 [==============================] - 8s 535us/sample - loss: 5.0466 - class_1_loss: 1.9995 - class_2_loss: 1.9960 - class_result_loss: 2.0034 - rate_loss: 0.0476 - class_1_accuracy: 0.2733 - class_2_accuracy: 0.2721 - class_result_accuracy: 0.2721 - val_loss: 4.8838 - val_class_1_loss: 1.9335 - val_class_2_loss: 1.9342 - val_class_result_loss: 1.9387 - val_rate_loss: 0.0432 - val_class_1_accuracy: 0.2953 - val_class_2_accuracy: 0.2953 - val_class_result_accuracy: 0.3093\n",
      "Epoch 53/100\n",
      "15000/15000 [==============================] - 8s 534us/sample - loss: 5.0391 - class_1_loss: 1.9988 - class_2_loss: 1.9963 - class_result_loss: 2.0022 - rate_loss: 0.0476 - class_1_accuracy: 0.2763 - class_2_accuracy: 0.2725 - class_result_accuracy: 0.2761 - val_loss: 4.8558 - val_class_1_loss: 1.9232 - val_class_2_loss: 1.9234 - val_class_result_loss: 1.9286 - val_rate_loss: 0.0408 - val_class_1_accuracy: 0.2867 - val_class_2_accuracy: 0.2973 - val_class_result_accuracy: 0.2993\n",
      "Epoch 54/100\n",
      "15000/15000 [==============================] - 8s 534us/sample - loss: 5.0277 - class_1_loss: 1.9898 - class_2_loss: 1.9943 - class_result_loss: 1.9958 - rate_loss: 0.0472 - class_1_accuracy: 0.2689 - class_2_accuracy: 0.2691 - class_result_accuracy: 0.2729 - val_loss: 4.8547 - val_class_1_loss: 1.9198 - val_class_2_loss: 1.9276 - val_class_result_loss: 1.9265 - val_rate_loss: 0.0408 - val_class_1_accuracy: 0.2880 - val_class_2_accuracy: 0.2887 - val_class_result_accuracy: 0.2927\n",
      "Epoch 55/100\n",
      "15000/15000 [==============================] - 8s 534us/sample - loss: 5.0186 - class_1_loss: 1.9888 - class_2_loss: 1.9883 - class_result_loss: 1.9943 - rate_loss: 0.0463 - class_1_accuracy: 0.2737 - class_2_accuracy: 0.2795 - class_result_accuracy: 0.2771 - val_loss: 4.8547 - val_class_1_loss: 1.9221 - val_class_2_loss: 1.9239 - val_class_result_loss: 1.9311 - val_rate_loss: 0.0416 - val_class_1_accuracy: 0.2940 - val_class_2_accuracy: 0.2967 - val_class_result_accuracy: 0.2973\n",
      "Epoch 56/100\n",
      "15000/15000 [==============================] - 8s 542us/sample - loss: 5.0400 - class_1_loss: 1.9954 - class_2_loss: 1.9919 - class_result_loss: 1.9988 - rate_loss: 0.0471 - class_1_accuracy: 0.2692 - class_2_accuracy: 0.2627 - class_result_accuracy: 0.2729 - val_loss: 4.8272 - val_class_1_loss: 1.9126 - val_class_2_loss: 1.9135 - val_class_result_loss: 1.9170 - val_rate_loss: 0.0400 - val_class_1_accuracy: 0.3027 - val_class_2_accuracy: 0.3100 - val_class_result_accuracy: 0.3113\n",
      "Epoch 57/100\n",
      "15000/15000 [==============================] - 8s 534us/sample - loss: 5.0241 - class_1_loss: 1.9919 - class_2_loss: 1.9901 - class_result_loss: 1.9960 - rate_loss: 0.0472 - class_1_accuracy: 0.2717 - class_2_accuracy: 0.2719 - class_result_accuracy: 0.2721 - val_loss: 4.8571 - val_class_1_loss: 1.9225 - val_class_2_loss: 1.9268 - val_class_result_loss: 1.9290 - val_rate_loss: 0.0407 - val_class_1_accuracy: 0.3047 - val_class_2_accuracy: 0.2987 - val_class_result_accuracy: 0.2940\n",
      "Epoch 58/100\n",
      "15000/15000 [==============================] - 8s 541us/sample - loss: 5.0145 - class_1_loss: 1.9844 - class_2_loss: 1.9897 - class_result_loss: 1.9913 - rate_loss: 0.0466 - class_1_accuracy: 0.2725 - class_2_accuracy: 0.2705 - class_result_accuracy: 0.2725 - val_loss: 4.8517 - val_class_1_loss: 1.9205 - val_class_2_loss: 1.9178 - val_class_result_loss: 1.9368 - val_rate_loss: 0.0404 - val_class_1_accuracy: 0.3080 - val_class_2_accuracy: 0.3133 - val_class_result_accuracy: 0.3107\n",
      "Epoch 59/100\n",
      "15000/15000 [==============================] - 8s 534us/sample - loss: 5.0033 - class_1_loss: 1.9811 - class_2_loss: 1.9859 - class_result_loss: 1.9849 - rate_loss: 0.0460 - class_1_accuracy: 0.2782 - class_2_accuracy: 0.2719 - class_result_accuracy: 0.2812 - val_loss: 4.9124 - val_class_1_loss: 1.9435 - val_class_2_loss: 1.9455 - val_class_result_loss: 1.9511 - val_rate_loss: 0.0459 - val_class_1_accuracy: 0.2900 - val_class_2_accuracy: 0.2933 - val_class_result_accuracy: 0.3007\n",
      "Epoch 60/100\n",
      "15000/15000 [==============================] - 8s 544us/sample - loss: 4.9788 - class_1_loss: 1.9674 - class_2_loss: 1.9741 - class_result_loss: 1.9741 - rate_loss: 0.0447 - class_1_accuracy: 0.2747 - class_2_accuracy: 0.2791 - class_result_accuracy: 0.2795 - val_loss: 4.8493 - val_class_1_loss: 1.9252 - val_class_2_loss: 1.9137 - val_class_result_loss: 1.9281 - val_rate_loss: 0.0390 - val_class_1_accuracy: 0.3020 - val_class_2_accuracy: 0.3060 - val_class_result_accuracy: 0.3107\n",
      "Epoch 61/100\n",
      "15000/15000 [==============================] - 8s 539us/sample - loss: 4.9851 - class_1_loss: 1.9708 - class_2_loss: 1.9777 - class_result_loss: 1.9797 - rate_loss: 0.0450 - class_1_accuracy: 0.2782 - class_2_accuracy: 0.2739 - class_result_accuracy: 0.2753 - val_loss: 4.7834 - val_class_1_loss: 1.8924 - val_class_2_loss: 1.8966 - val_class_result_loss: 1.9003 - val_rate_loss: 0.0385 - val_class_1_accuracy: 0.3200 - val_class_2_accuracy: 0.3180 - val_class_result_accuracy: 0.3180\n",
      "Epoch 62/100\n",
      "15000/15000 [==============================] - 8s 535us/sample - loss: 4.9889 - class_1_loss: 1.9759 - class_2_loss: 1.9782 - class_result_loss: 1.9776 - rate_loss: 0.0455 - class_1_accuracy: 0.2773 - class_2_accuracy: 0.2719 - class_result_accuracy: 0.2727 - val_loss: 4.7943 - val_class_1_loss: 1.8925 - val_class_2_loss: 1.9018 - val_class_result_loss: 1.9096 - val_rate_loss: 0.0396 - val_class_1_accuracy: 0.3127 - val_class_2_accuracy: 0.3140 - val_class_result_accuracy: 0.3053\n",
      "Epoch 63/100\n",
      "15000/15000 [==============================] - 8s 535us/sample - loss: 4.9828 - class_1_loss: 1.9711 - class_2_loss: 1.9757 - class_result_loss: 1.9770 - rate_loss: 0.0450 - class_1_accuracy: 0.2698 - class_2_accuracy: 0.2656 - class_result_accuracy: 0.2723 - val_loss: 4.7914 - val_class_1_loss: 1.8926 - val_class_2_loss: 1.9034 - val_class_result_loss: 1.9037 - val_rate_loss: 0.0386 - val_class_1_accuracy: 0.3280 - val_class_2_accuracy: 0.3260 - val_class_result_accuracy: 0.3267\n",
      "Epoch 64/100\n",
      "15000/15000 [==============================] - 8s 534us/sample - loss: 4.9778 - class_1_loss: 1.9713 - class_2_loss: 1.9794 - class_result_loss: 1.9772 - rate_loss: 0.0453 - class_1_accuracy: 0.2811 - class_2_accuracy: 0.2754 - class_result_accuracy: 0.2811 - val_loss: 4.7821 - val_class_1_loss: 1.8883 - val_class_2_loss: 1.8966 - val_class_result_loss: 1.9054 - val_rate_loss: 0.0400 - val_class_1_accuracy: 0.3200 - val_class_2_accuracy: 0.3087 - val_class_result_accuracy: 0.3147\n",
      "Epoch 65/100\n",
      "15000/15000 [==============================] - 8s 538us/sample - loss: 4.9676 - class_1_loss: 1.9660 - class_2_loss: 1.9700 - class_result_loss: 1.9714 - rate_loss: 0.0447 - class_1_accuracy: 0.2807 - class_2_accuracy: 0.2815 - class_result_accuracy: 0.2819 - val_loss: 4.7366 - val_class_1_loss: 1.8710 - val_class_2_loss: 1.8797 - val_class_result_loss: 1.8843 - val_rate_loss: 0.0391 - val_class_1_accuracy: 0.3200 - val_class_2_accuracy: 0.3173 - val_class_result_accuracy: 0.3120\n",
      "Epoch 66/100\n",
      "15000/15000 [==============================] - 8s 534us/sample - loss: 4.9676 - class_1_loss: 1.9656 - class_2_loss: 1.9654 - class_result_loss: 1.9700 - rate_loss: 0.0451 - class_1_accuracy: 0.2785 - class_2_accuracy: 0.2730 - class_result_accuracy: 0.2789 - val_loss: 4.8447 - val_class_1_loss: 1.9119 - val_class_2_loss: 1.9231 - val_class_result_loss: 1.9310 - val_rate_loss: 0.0403 - val_class_1_accuracy: 0.3227 - val_class_2_accuracy: 0.3153 - val_class_result_accuracy: 0.3107\n",
      "Epoch 67/100\n",
      "15000/15000 [==============================] - 8s 534us/sample - loss: 4.9508 - class_1_loss: 1.9632 - class_2_loss: 1.9635 - class_result_loss: 1.9651 - rate_loss: 0.0440 - class_1_accuracy: 0.2825 - class_2_accuracy: 0.2794 - class_result_accuracy: 0.2750 - val_loss: 4.7605 - val_class_1_loss: 1.8843 - val_class_2_loss: 1.8866 - val_class_result_loss: 1.8918 - val_rate_loss: 0.0374 - val_class_1_accuracy: 0.3027 - val_class_2_accuracy: 0.3020 - val_class_result_accuracy: 0.3020\n",
      "Epoch 68/100\n",
      "15000/15000 [==============================] - 8s 540us/sample - loss: 4.9412 - class_1_loss: 1.9585 - class_2_loss: 1.9587 - class_result_loss: 1.9644 - rate_loss: 0.0439 - class_1_accuracy: 0.2818 - class_2_accuracy: 0.2823 - class_result_accuracy: 0.2829 - val_loss: 4.7629 - val_class_1_loss: 1.8831 - val_class_2_loss: 1.8898 - val_class_result_loss: 1.8937 - val_rate_loss: 0.0385 - val_class_1_accuracy: 0.3093 - val_class_2_accuracy: 0.3073 - val_class_result_accuracy: 0.3067\n",
      "Epoch 69/100\n",
      "15000/15000 [==============================] - 8s 535us/sample - loss: 4.9309 - class_1_loss: 1.9552 - class_2_loss: 1.9540 - class_result_loss: 1.9610 - rate_loss: 0.0436 - class_1_accuracy: 0.2821 - class_2_accuracy: 0.2805 - class_result_accuracy: 0.2807 - val_loss: 4.8162 - val_class_1_loss: 1.8970 - val_class_2_loss: 1.9097 - val_class_result_loss: 1.9225 - val_rate_loss: 0.0453 - val_class_1_accuracy: 0.2793 - val_class_2_accuracy: 0.2927 - val_class_result_accuracy: 0.2813\n",
      "Epoch 70/100\n",
      "15000/15000 [==============================] - 8s 538us/sample - loss: 4.9382 - class_1_loss: 1.9576 - class_2_loss: 1.9539 - class_result_loss: 1.9614 - rate_loss: 0.0442 - class_1_accuracy: 0.2740 - class_2_accuracy: 0.2741 - class_result_accuracy: 0.2781 - val_loss: 4.7744 - val_class_1_loss: 1.8903 - val_class_2_loss: 1.8935 - val_class_result_loss: 1.8995 - val_rate_loss: 0.0370 - val_class_1_accuracy: 0.2987 - val_class_2_accuracy: 0.3047 - val_class_result_accuracy: 0.3033\n",
      "Epoch 71/100\n",
      "15000/15000 [==============================] - 8s 539us/sample - loss: 4.9226 - class_1_loss: 1.9481 - class_2_loss: 1.9519 - class_result_loss: 1.9564 - rate_loss: 0.0438 - class_1_accuracy: 0.2751 - class_2_accuracy: 0.2790 - class_result_accuracy: 0.2796 - val_loss: 4.7348 - val_class_1_loss: 1.8698 - val_class_2_loss: 1.8819 - val_class_result_loss: 1.8795 - val_rate_loss: 0.0391 - val_class_1_accuracy: 0.3067 - val_class_2_accuracy: 0.2973 - val_class_result_accuracy: 0.3027\n",
      "Epoch 72/100\n",
      "15000/15000 [==============================] - 8s 535us/sample - loss: 4.9391 - class_1_loss: 1.9581 - class_2_loss: 1.9618 - class_result_loss: 1.9593 - rate_loss: 0.0439 - class_1_accuracy: 0.2787 - class_2_accuracy: 0.2811 - class_result_accuracy: 0.2769 - val_loss: 4.7036 - val_class_1_loss: 1.8591 - val_class_2_loss: 1.8660 - val_class_result_loss: 1.8682 - val_rate_loss: 0.0410 - val_class_1_accuracy: 0.3320 - val_class_2_accuracy: 0.3233 - val_class_result_accuracy: 0.3227\n",
      "Epoch 73/100\n",
      "15000/15000 [==============================] - 8s 536us/sample - loss: 4.9136 - class_1_loss: 1.9480 - class_2_loss: 1.9478 - class_result_loss: 1.9505 - rate_loss: 0.0437 - class_1_accuracy: 0.2823 - class_2_accuracy: 0.2851 - class_result_accuracy: 0.2805 - val_loss: 4.7446 - val_class_1_loss: 1.8738 - val_class_2_loss: 1.8799 - val_class_result_loss: 1.8943 - val_rate_loss: 0.0385 - val_class_1_accuracy: 0.3133 - val_class_2_accuracy: 0.3180 - val_class_result_accuracy: 0.3153\n",
      "Epoch 74/100\n",
      "15000/15000 [==============================] - 8s 536us/sample - loss: 4.9034 - class_1_loss: 1.9414 - class_2_loss: 1.9470 - class_result_loss: 1.9499 - rate_loss: 0.0431 - class_1_accuracy: 0.2825 - class_2_accuracy: 0.2819 - class_result_accuracy: 0.2809 - val_loss: 4.6547 - val_class_1_loss: 1.8420 - val_class_2_loss: 1.8458 - val_class_result_loss: 1.8521 - val_rate_loss: 0.0367 - val_class_1_accuracy: 0.3307 - val_class_2_accuracy: 0.3273 - val_class_result_accuracy: 0.3353\n",
      "Epoch 75/100\n",
      "15000/15000 [==============================] - 8s 535us/sample - loss: 4.8903 - class_1_loss: 1.9360 - class_2_loss: 1.9360 - class_result_loss: 1.9464 - rate_loss: 0.0427 - class_1_accuracy: 0.2835 - class_2_accuracy: 0.2863 - class_result_accuracy: 0.2878 - val_loss: 4.6671 - val_class_1_loss: 1.8449 - val_class_2_loss: 1.8523 - val_class_result_loss: 1.8556 - val_rate_loss: 0.0370 - val_class_1_accuracy: 0.3187 - val_class_2_accuracy: 0.3253 - val_class_result_accuracy: 0.3233\n",
      "Epoch 76/100\n",
      "15000/15000 [==============================] - 8s 534us/sample - loss: 4.8946 - class_1_loss: 1.9439 - class_2_loss: 1.9374 - class_result_loss: 1.9466 - rate_loss: 0.0434 - class_1_accuracy: 0.2819 - class_2_accuracy: 0.2851 - class_result_accuracy: 0.2809 - val_loss: 4.6453 - val_class_1_loss: 1.8403 - val_class_2_loss: 1.8408 - val_class_result_loss: 1.8477 - val_rate_loss: 0.0368 - val_class_1_accuracy: 0.3127 - val_class_2_accuracy: 0.3273 - val_class_result_accuracy: 0.3273\n",
      "Epoch 77/100\n",
      "15000/15000 [==============================] - 8s 535us/sample - loss: 4.8937 - class_1_loss: 1.9378 - class_2_loss: 1.9391 - class_result_loss: 1.9410 - rate_loss: 0.0425 - class_1_accuracy: 0.2844 - class_2_accuracy: 0.2803 - class_result_accuracy: 0.2810 - val_loss: 4.6888 - val_class_1_loss: 1.8561 - val_class_2_loss: 1.8601 - val_class_result_loss: 1.8637 - val_rate_loss: 0.0372 - val_class_1_accuracy: 0.3300 - val_class_2_accuracy: 0.3280 - val_class_result_accuracy: 0.3227\n",
      "Epoch 78/100\n",
      "15000/15000 [==============================] - 8s 535us/sample - loss: 4.8750 - class_1_loss: 1.9299 - class_2_loss: 1.9302 - class_result_loss: 1.9333 - rate_loss: 0.0422 - class_1_accuracy: 0.2883 - class_2_accuracy: 0.2885 - class_result_accuracy: 0.2822 - val_loss: 4.6452 - val_class_1_loss: 1.8399 - val_class_2_loss: 1.8428 - val_class_result_loss: 1.8431 - val_rate_loss: 0.0356 - val_class_1_accuracy: 0.3320 - val_class_2_accuracy: 0.3213 - val_class_result_accuracy: 0.3220\n",
      "Epoch 79/100\n",
      "15000/15000 [==============================] - 8s 534us/sample - loss: 4.8528 - class_1_loss: 1.9267 - class_2_loss: 1.9224 - class_result_loss: 1.9279 - rate_loss: 0.0414 - class_1_accuracy: 0.2865 - class_2_accuracy: 0.2857 - class_result_accuracy: 0.2917 - val_loss: 4.6353 - val_class_1_loss: 1.8324 - val_class_2_loss: 1.8378 - val_class_result_loss: 1.8473 - val_rate_loss: 0.0379 - val_class_1_accuracy: 0.3307 - val_class_2_accuracy: 0.3327 - val_class_result_accuracy: 0.3333\n",
      "Epoch 80/100\n",
      "15000/15000 [==============================] - 8s 546us/sample - loss: 4.8654 - class_1_loss: 1.9270 - class_2_loss: 1.9268 - class_result_loss: 1.9333 - rate_loss: 0.0424 - class_1_accuracy: 0.2846 - class_2_accuracy: 0.2821 - class_result_accuracy: 0.2825 - val_loss: 4.6577 - val_class_1_loss: 1.8425 - val_class_2_loss: 1.8468 - val_class_result_loss: 1.8543 - val_rate_loss: 0.0358 - val_class_1_accuracy: 0.3300 - val_class_2_accuracy: 0.3307 - val_class_result_accuracy: 0.3360\n",
      "Epoch 81/100\n",
      "15000/15000 [==============================] - 8s 535us/sample - loss: 4.8529 - class_1_loss: 1.9209 - class_2_loss: 1.9216 - class_result_loss: 1.9270 - rate_loss: 0.0417 - class_1_accuracy: 0.2829 - class_2_accuracy: 0.2862 - class_result_accuracy: 0.2874 - val_loss: 4.5940 - val_class_1_loss: 1.8209 - val_class_2_loss: 1.8197 - val_class_result_loss: 1.8296 - val_rate_loss: 0.0338 - val_class_1_accuracy: 0.3393 - val_class_2_accuracy: 0.3247 - val_class_result_accuracy: 0.3260\n",
      "Epoch 82/100\n",
      "15000/15000 [==============================] - 8s 533us/sample - loss: 4.8429 - class_1_loss: 1.9179 - class_2_loss: 1.9171 - class_result_loss: 1.9217 - rate_loss: 0.0413 - class_1_accuracy: 0.2819 - class_2_accuracy: 0.2827 - class_result_accuracy: 0.2865 - val_loss: 4.5933 - val_class_1_loss: 1.8193 - val_class_2_loss: 1.8217 - val_class_result_loss: 1.8311 - val_rate_loss: 0.0340 - val_class_1_accuracy: 0.3260 - val_class_2_accuracy: 0.3200 - val_class_result_accuracy: 0.3213\n",
      "Epoch 83/100\n",
      "15000/15000 [==============================] - 8s 535us/sample - loss: 4.8478 - class_1_loss: 1.9202 - class_2_loss: 1.9246 - class_result_loss: 1.9241 - rate_loss: 0.0418 - class_1_accuracy: 0.2813 - class_2_accuracy: 0.2870 - class_result_accuracy: 0.2866 - val_loss: 4.5797 - val_class_1_loss: 1.8101 - val_class_2_loss: 1.8168 - val_class_result_loss: 1.8265 - val_rate_loss: 0.0354 - val_class_1_accuracy: 0.3347 - val_class_2_accuracy: 0.3360 - val_class_result_accuracy: 0.3347\n",
      "Epoch 84/100\n",
      "15000/15000 [==============================] - 8s 535us/sample - loss: 4.8206 - class_1_loss: 1.9118 - class_2_loss: 1.9148 - class_result_loss: 1.9171 - rate_loss: 0.0406 - class_1_accuracy: 0.2905 - class_2_accuracy: 0.2891 - class_result_accuracy: 0.2895 - val_loss: 4.5753 - val_class_1_loss: 1.8129 - val_class_2_loss: 1.8144 - val_class_result_loss: 1.8232 - val_rate_loss: 0.0324 - val_class_1_accuracy: 0.3380 - val_class_2_accuracy: 0.3367 - val_class_result_accuracy: 0.3367\n",
      "Epoch 85/100\n",
      "15000/15000 [==============================] - 8s 534us/sample - loss: 4.8125 - class_1_loss: 1.9038 - class_2_loss: 1.9018 - class_result_loss: 1.9086 - rate_loss: 0.0407 - class_1_accuracy: 0.2932 - class_2_accuracy: 0.2936 - class_result_accuracy: 0.2965 - val_loss: 4.6118 - val_class_1_loss: 1.8274 - val_class_2_loss: 1.8260 - val_class_result_loss: 1.8342 - val_rate_loss: 0.0358 - val_class_1_accuracy: 0.3333 - val_class_2_accuracy: 0.3380 - val_class_result_accuracy: 0.3367\n",
      "Epoch 86/100\n",
      "15000/15000 [==============================] - 8s 535us/sample - loss: 4.8315 - class_1_loss: 1.9129 - class_2_loss: 1.9135 - class_result_loss: 1.9201 - rate_loss: 0.0411 - class_1_accuracy: 0.2874 - class_2_accuracy: 0.2849 - class_result_accuracy: 0.2832 - val_loss: 4.5392 - val_class_1_loss: 1.7955 - val_class_2_loss: 1.8023 - val_class_result_loss: 1.8061 - val_rate_loss: 0.0324 - val_class_1_accuracy: 0.3507 - val_class_2_accuracy: 0.3513 - val_class_result_accuracy: 0.3500\n",
      "Epoch 87/100\n",
      "15000/15000 [==============================] - 8s 536us/sample - loss: 4.7958 - class_1_loss: 1.9009 - class_2_loss: 1.9035 - class_result_loss: 1.9068 - rate_loss: 0.0402 - class_1_accuracy: 0.2843 - class_2_accuracy: 0.2900 - class_result_accuracy: 0.2877 - val_loss: 4.5574 - val_class_1_loss: 1.8020 - val_class_2_loss: 1.8074 - val_class_result_loss: 1.8198 - val_rate_loss: 0.0360 - val_class_1_accuracy: 0.3307 - val_class_2_accuracy: 0.3207 - val_class_result_accuracy: 0.3213\n",
      "Epoch 88/100\n",
      "15000/15000 [==============================] - 8s 534us/sample - loss: 4.8083 - class_1_loss: 1.9034 - class_2_loss: 1.9088 - class_result_loss: 1.9061 - rate_loss: 0.0406 - class_1_accuracy: 0.2857 - class_2_accuracy: 0.2901 - class_result_accuracy: 0.2885 - val_loss: 4.5243 - val_class_1_loss: 1.7909 - val_class_2_loss: 1.7974 - val_class_result_loss: 1.7991 - val_rate_loss: 0.0323 - val_class_1_accuracy: 0.3520 - val_class_2_accuracy: 0.3493 - val_class_result_accuracy: 0.3413\n",
      "Epoch 89/100\n",
      "15000/15000 [==============================] - 8s 535us/sample - loss: 4.8023 - class_1_loss: 1.9001 - class_2_loss: 1.9018 - class_result_loss: 1.9037 - rate_loss: 0.0405 - class_1_accuracy: 0.2891 - class_2_accuracy: 0.2873 - class_result_accuracy: 0.2897 - val_loss: 4.5485 - val_class_1_loss: 1.7967 - val_class_2_loss: 1.8062 - val_class_result_loss: 1.8152 - val_rate_loss: 0.0334 - val_class_1_accuracy: 0.3407 - val_class_2_accuracy: 0.3327 - val_class_result_accuracy: 0.3373\n",
      "Epoch 90/100\n",
      "15000/15000 [==============================] - 8s 534us/sample - loss: 4.7881 - class_1_loss: 1.8993 - class_2_loss: 1.8981 - class_result_loss: 1.9016 - rate_loss: 0.0401 - class_1_accuracy: 0.2930 - class_2_accuracy: 0.2925 - class_result_accuracy: 0.2905 - val_loss: 4.4931 - val_class_1_loss: 1.7801 - val_class_2_loss: 1.7859 - val_class_result_loss: 1.7841 - val_rate_loss: 0.0316 - val_class_1_accuracy: 0.3327 - val_class_2_accuracy: 0.3340 - val_class_result_accuracy: 0.3347\n",
      "Epoch 91/100\n",
      "15000/15000 [==============================] - 8s 543us/sample - loss: 4.7704 - class_1_loss: 1.8890 - class_2_loss: 1.8902 - class_result_loss: 1.8981 - rate_loss: 0.0396 - class_1_accuracy: 0.2889 - class_2_accuracy: 0.2906 - class_result_accuracy: 0.2875 - val_loss: 4.4528 - val_class_1_loss: 1.7630 - val_class_2_loss: 1.7655 - val_class_result_loss: 1.7748 - val_rate_loss: 0.0324 - val_class_1_accuracy: 0.3440 - val_class_2_accuracy: 0.3400 - val_class_result_accuracy: 0.3373\n",
      "Epoch 92/100\n",
      "15000/15000 [==============================] - 8s 534us/sample - loss: 4.7577 - class_1_loss: 1.8860 - class_2_loss: 1.8906 - class_result_loss: 1.8927 - rate_loss: 0.0394 - class_1_accuracy: 0.2911 - class_2_accuracy: 0.2915 - class_result_accuracy: 0.2933 - val_loss: 4.5076 - val_class_1_loss: 1.7823 - val_class_2_loss: 1.7927 - val_class_result_loss: 1.7944 - val_rate_loss: 0.0318 - val_class_1_accuracy: 0.3333 - val_class_2_accuracy: 0.3240 - val_class_result_accuracy: 0.3247\n",
      "Epoch 93/100\n",
      "15000/15000 [==============================] - 8s 536us/sample - loss: 4.7663 - class_1_loss: 1.8874 - class_2_loss: 1.8927 - class_result_loss: 1.8944 - rate_loss: 0.0392 - class_1_accuracy: 0.2905 - class_2_accuracy: 0.2951 - class_result_accuracy: 0.2991 - val_loss: 4.8475 - val_class_1_loss: 1.9168 - val_class_2_loss: 1.9177 - val_class_result_loss: 1.9260 - val_rate_loss: 0.0481 - val_class_1_accuracy: 0.2840 - val_class_2_accuracy: 0.2733 - val_class_result_accuracy: 0.2887\n",
      "Epoch 94/100\n",
      "15000/15000 [==============================] - 8s 537us/sample - loss: 4.7889 - class_1_loss: 1.8936 - class_2_loss: 1.8993 - class_result_loss: 1.8985 - rate_loss: 0.0406 - class_1_accuracy: 0.2940 - class_2_accuracy: 0.2942 - class_result_accuracy: 0.2918 - val_loss: 4.4332 - val_class_1_loss: 1.7506 - val_class_2_loss: 1.7636 - val_class_result_loss: 1.7692 - val_rate_loss: 0.0313 - val_class_1_accuracy: 0.3653 - val_class_2_accuracy: 0.3607 - val_class_result_accuracy: 0.3607\n",
      "Epoch 95/100\n",
      "15000/15000 [==============================] - 8s 536us/sample - loss: 4.7404 - class_1_loss: 1.8792 - class_2_loss: 1.8809 - class_result_loss: 1.8822 - rate_loss: 0.0387 - class_1_accuracy: 0.3002 - class_2_accuracy: 0.2921 - class_result_accuracy: 0.2938 - val_loss: 4.4371 - val_class_1_loss: 1.7547 - val_class_2_loss: 1.7627 - val_class_result_loss: 1.7663 - val_rate_loss: 0.0317 - val_class_1_accuracy: 0.3520 - val_class_2_accuracy: 0.3500 - val_class_result_accuracy: 0.3387\n",
      "Epoch 96/100\n",
      "15000/15000 [==============================] - 8s 533us/sample - loss: 4.7348 - class_1_loss: 1.8756 - class_2_loss: 1.8748 - class_result_loss: 1.8793 - rate_loss: 0.0386 - class_1_accuracy: 0.2995 - class_2_accuracy: 0.2925 - class_result_accuracy: 0.2998 - val_loss: 4.4102 - val_class_1_loss: 1.7452 - val_class_2_loss: 1.7490 - val_class_result_loss: 1.7575 - val_rate_loss: 0.0329 - val_class_1_accuracy: 0.3387 - val_class_2_accuracy: 0.3413 - val_class_result_accuracy: 0.3380\n",
      "Epoch 97/100\n",
      "15000/15000 [==============================] - 8s 547us/sample - loss: 4.7325 - class_1_loss: 1.8758 - class_2_loss: 1.8796 - class_result_loss: 1.8800 - rate_loss: 0.0386 - class_1_accuracy: 0.2922 - class_2_accuracy: 0.2933 - class_result_accuracy: 0.2938 - val_loss: 4.4559 - val_class_1_loss: 1.7636 - val_class_2_loss: 1.7679 - val_class_result_loss: 1.7769 - val_rate_loss: 0.0314 - val_class_1_accuracy: 0.3533 - val_class_2_accuracy: 0.3407 - val_class_result_accuracy: 0.3500\n",
      "Epoch 98/100\n",
      "15000/15000 [==============================] - 8s 534us/sample - loss: 4.7186 - class_1_loss: 1.8711 - class_2_loss: 1.8733 - class_result_loss: 1.8722 - rate_loss: 0.0386 - class_1_accuracy: 0.2967 - class_2_accuracy: 0.2973 - class_result_accuracy: 0.3019 - val_loss: 4.4005 - val_class_1_loss: 1.7441 - val_class_2_loss: 1.7454 - val_class_result_loss: 1.7521 - val_rate_loss: 0.0300 - val_class_1_accuracy: 0.3507 - val_class_2_accuracy: 0.3527 - val_class_result_accuracy: 0.3553\n",
      "Epoch 99/100\n",
      "15000/15000 [==============================] - 8s 536us/sample - loss: 4.6951 - class_1_loss: 1.8608 - class_2_loss: 1.8631 - class_result_loss: 1.8656 - rate_loss: 0.0377 - class_1_accuracy: 0.2944 - class_2_accuracy: 0.3027 - class_result_accuracy: 0.2999 - val_loss: 4.4370 - val_class_1_loss: 1.7612 - val_class_2_loss: 1.7563 - val_class_result_loss: 1.7632 - val_rate_loss: 0.0349 - val_class_1_accuracy: 0.3160 - val_class_2_accuracy: 0.3267 - val_class_result_accuracy: 0.3320\n",
      "Epoch 100/100\n",
      "15000/15000 [==============================] - 8s 535us/sample - loss: 4.6930 - class_1_loss: 1.8614 - class_2_loss: 1.8637 - class_result_loss: 1.8640 - rate_loss: 0.0378 - class_1_accuracy: 0.2966 - class_2_accuracy: 0.2999 - class_result_accuracy: 0.2986 - val_loss: 4.3863 - val_class_1_loss: 1.7386 - val_class_2_loss: 1.7361 - val_class_result_loss: 1.7487 - val_rate_loss: 0.0309 - val_class_1_accuracy: 0.3640 - val_class_2_accuracy: 0.3660 - val_class_result_accuracy: 0.3613\n"
     ]
    },
    {
     "data": {
      "text/plain": [
       "\"\\nregression_model.fit(x=X_train,\\n                     y=rate_train,\\n                     validation_data=(X_val, rate_val),\\n                     sample_weight={'rate' : sample_weight},\\n                     shuffle=True,\\n                     epochs = 300,\\n                     batch_size=batch_size,\\n                     callbacks=[early_stopping]\\n                    \\n                    )\\n\""
      ]
     },
     "execution_count": 17,
     "metadata": {},
     "output_type": "execute_result"
    }
   ],
   "source": [
    "early_stopping = tf.keras.callbacks.EarlyStopping(monitor='val_loss',\n",
    "                                                  min_delta=0.0001,\n",
    "                                                  patience=30, verbose=0, mode='auto')\n",
    "\n",
    "MTL_model.fit(x=X_train,\n",
    "              y={\n",
    "                  #'num_mis': num_mis_train,\n",
    "                  'class_1': class_train,\n",
    "                  'class_2': class_train,\n",
    "                  'class_result': class_train,\n",
    "                  'rate': rate_train},\n",
    "              validation_data=(X_val, {#'num_mis': num_mis_val,\n",
    "                                       'class_1': class_val,\n",
    "                                       'class_2': class_val,\n",
    "                                       'class_result': class_val,\n",
    "                                       'rate': rate_val}),\n",
    "              class_weight={\n",
    "                  'class_1' : class_weights_dict,\n",
    "                  'class_2' : class_weights_dict,\n",
    "                  'class_result' : class_weights_dict},\n",
    "              sample_weight={'rate' : sample_weight},\n",
    "              shuffle=True,\n",
    "              epochs=300,\n",
    "              batch_size=batch_size,\n",
    "              verbose=verbose,\n",
    "              #callbacks=[early_stopping]\n",
    "             )\n",
    "\"\"\"\n",
    "regression_model.fit(x=X_train,\n",
    "                     y=rate_train,\n",
    "                     validation_data=(X_val, rate_val),\n",
    "                     sample_weight={'rate' : sample_weight},\n",
    "                     shuffle=True,\n",
    "                     epochs = 300,\n",
    "                     batch_size=batch_size,\n",
    "                     callbacks=[early_stopping]\n",
    "                    \n",
    "                    )\n",
    "\"\"\""
   ]
  },
  {
   "cell_type": "code",
   "execution_count": 18,
   "metadata": {},
   "outputs": [
    {
     "name": "stdout",
     "output_type": "stream",
     "text": [
      "Correlation : 0.7482150434590887\n",
      "Pearson Correlation : 0.748215043459089\n",
      "Spearman Correlation : 0.7475653058089394\n"
     ]
    }
   ],
   "source": [
    "test_prediction = regression_model.predict(X_test)\n",
    "test_prediction = np.array(test_prediction).reshape(-1,)\n",
    "test_true = rate_test.reshape(-1,)\n",
    "\n",
    "test_correlation = np.corrcoef(test_prediction, test_true).flatten()[1]\n",
    "pearson_corr = pearsonr(test_prediction, test_true)\n",
    "spearman_corr = spearmanr(test_prediction, test_true)\n",
    "print('Correlation : {}'.format(test_correlation))\n",
    "print('Pearson Correlation : {}'.format(pearson_corr[0]))\n",
    "print('Spearman Correlation : {}'.format(spearman_corr[0]))"
   ]
  },
  {
   "cell_type": "code",
   "execution_count": 19,
   "metadata": {},
   "outputs": [
    {
     "name": "stdout",
     "output_type": "stream",
     "text": [
      "loss             : 4.9433\n",
      "class_1_loss     : 1.9395\n",
      "class_2_loss     : 1.9414\n",
      "class_result_loss : 1.9344\n",
      "rate_loss        : 0.0455\n",
      "class_1_accuracy : 0.2616\n",
      "class_2_accuracy : 0.2701\n",
      "class_result_accuracy : 0.2786\n"
     ]
    }
   ],
   "source": [
    "class_result_acc = MTL_model.evaluate(X_test,\n",
    "                                      {\n",
    "                                          #'num_mis': num_mis_test,\n",
    "                                          'class_1': class_test,\n",
    "                                          'class_2': class_test,\n",
    "                                          'class_result': class_test,\n",
    "                                          'rate': rate_test},\n",
    "                                      verbose=0\n",
    "                                     )\n",
    "#print(MTL_model.metrics_names)\n",
    "#print(class_result_acc)\n",
    "result_label = MTL_model.metrics_names\n",
    "for label, result in zip(result_label, class_result_acc):\n",
    "    print('{:16} : {:>6.4f}'.format(label,result))"
   ]
  },
  {
   "cell_type": "code",
   "execution_count": 20,
   "metadata": {},
   "outputs": [
    {
     "data": {
      "image/png": "[encoded data removed]",
      "text/plain": [
       "<Figure size 432x432 with 1 Axes>"
      ]
     },
     "metadata": {
      "needs_background": "light"
     },
     "output_type": "display_data"
    }
   ],
   "source": [
    "indel_predict = test_prediction\n",
    "indel_true = test_true\n",
    "\n",
    "fig, ax = plt.subplots(figsize=(6,6))\n",
    "ax.scatter(x=indel_true, y=indel_predict)\n",
    "ax.set_title('Test data', fontsize=20)\n",
    "ax.set_xlabel('True', fontsize=15)\n",
    "ax.set_ylabel('Prediction', fontsize=15)\n",
    "ax.set_xlim(0,1)\n",
    "ax.set_ylim(0,1)\n",
    "ax.grid(True)\n",
    "fig.show()"
   ]
  },
  {
   "cell_type": "code",
   "execution_count": null,
   "metadata": {},
   "outputs": [],
   "source": []
  },
  {
   "cell_type": "code",
   "execution_count": 21,
   "metadata": {},
   "outputs": [],
   "source": [
    "train_prediction = regression_model.predict(X_train).reshape(-1,)\n",
    "train_true = rate_train.reshape(-1,)"
   ]
  },
  {
   "cell_type": "code",
   "execution_count": 22,
   "metadata": {},
   "outputs": [
    {
     "data": {
      "image/png": "[encoded data removed]",
      "text/plain": [
       "<Figure size 432x432 with 1 Axes>"
      ]
     },
     "metadata": {
      "needs_background": "light"
     },
     "output_type": "display_data"
    }
   ],
   "source": [
    "indel_predict = train_prediction\n",
    "indel_true = train_true\n",
    "\n",
    "fig, ax = plt.subplots(figsize=(6,6))\n",
    "ax.scatter(x=indel_true, y=indel_predict)\n",
    "ax.set_title('Train data', fontsize=20)\n",
    "ax.set_xlabel('True', fontsize=15)\n",
    "ax.set_ylabel('Prediction', fontsize=15)\n",
    "ax.set_xlim(0,1)\n",
    "ax.set_ylim(0,1)\n",
    "ax.grid(True)\n",
    "fig.show()"
   ]
  },
  {
   "cell_type": "code",
   "execution_count": null,
   "metadata": {},
   "outputs": [],
   "source": []
  }
 ],
 "metadata": {
  "kernelspec": {
   "display_name": "Python 3",
   "language": "python",
   "name": "python3"
  },
  "language_info": {
   "codemirror_mode": {
    "name": "ipython",
    "version": 3
   },
   "file_extension": ".py",
   "mimetype": "text/x-python",
   "name": "python",
   "nbconvert_exporter": "python",
   "pygments_lexer": "ipython3",
   "version": "3.6.9"
  }
 },
 "nbformat": 4,
 "nbformat_minor": 4
}
