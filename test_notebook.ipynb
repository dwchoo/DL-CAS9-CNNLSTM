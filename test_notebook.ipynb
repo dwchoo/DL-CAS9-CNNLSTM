{
 "cells": [
  {
   "cell_type": "code",
   "execution_count": 29,
   "metadata": {},
   "outputs": [],
   "source": [
    "import pandas as pd\n",
    "import numpy as np"
   ]
  },
  {
   "cell_type": "code",
   "execution_count": 2,
   "metadata": {},
   "outputs": [],
   "source": [
    "from sklearn.model_selection import train_test_split"
   ]
  },
  {
   "cell_type": "code",
   "execution_count": 3,
   "metadata": {},
   "outputs": [],
   "source": [
    "file_name = 'HT_Cas9_train.csv'\n",
    "df = pd.read_csv(file_name)"
   ]
  },
  {
   "cell_type": "code",
   "execution_count": 4,
   "metadata": {},
   "outputs": [
    {
     "data": {
      "text/plain": [
       "Index(['Barcode', 'Target context sequence', 'Total read count (Day 0)',\n",
       "       'Indel read count\\n(Day 0)', 'Background\\nindel frequencies (%)',\n",
       "       'Total read count\\n(Day 2.9)', 'Indel read count\\n(Day 2.9)',\n",
       "       'Indel frequencies (%)', 'Background subtracted indel'],\n",
       "      dtype='object')"
      ]
     },
     "execution_count": 4,
     "metadata": {},
     "output_type": "execute_result"
    }
   ],
   "source": [
    "df.columns"
   ]
  },
  {
   "cell_type": "code",
   "execution_count": 5,
   "metadata": {},
   "outputs": [
    {
     "name": "stdout",
     "output_type": "stream",
     "text": [
      "['Barcode', 'Target context sequence', 'Total read count (Day 0)', 'Indel read count\\n(Day 0)', 'Background\\nindel frequencies (%)', 'Total read count\\n(Day 2.9)', 'Indel read count\\n(Day 2.9)', 'Indel frequencies (%)', 'Background subtracted indel']\n"
     ]
    }
   ],
   "source": [
    "#%%timeit\n",
    "df2 = pd.read_csv(file_name, nrows=1)\n",
    "df2_column = df2.columns\n",
    "print(list(df2_column))"
   ]
  },
  {
   "cell_type": "code",
   "execution_count": 7,
   "metadata": {},
   "outputs": [],
   "source": [
    "#%%timeit\n",
    "df3 = pd.read_csv(file_name)\n",
    "#df3"
   ]
  },
  {
   "cell_type": "code",
   "execution_count": 8,
   "metadata": {},
   "outputs": [
    {
     "data": {
      "text/plain": [
       "0        24.287805\n",
       "1        69.500438\n",
       "2        25.994760\n",
       "3        57.964590\n",
       "4        39.355020\n",
       "           ...    \n",
       "12827    40.853256\n",
       "12828    11.480880\n",
       "12829    63.861469\n",
       "12830    51.650932\n",
       "12831    40.019124\n",
       "Name: Background subtracted indel, Length: 12832, dtype: float64"
      ]
     },
     "execution_count": 8,
     "metadata": {},
     "output_type": "execute_result"
    }
   ],
   "source": [
    "df['Background subtracted indel']"
   ]
  },
  {
   "cell_type": "code",
   "execution_count": 9,
   "metadata": {},
   "outputs": [
    {
     "data": {
      "text/plain": [
       "0        TTCTGCCTTGTTTCTTTCCTCTCTGGGTCG\n",
       "1        ACGACCTTCAGCTCAGTGACAGTGAGGACA\n",
       "2        AGGACGACGACTACAATAAGCCTCTGGATC\n",
       "3        GCAGCAAACTGACGGAGAACCTTGTGGCCC\n",
       "4        CCGGCAGATATCCGTGAAGGCTCTAGGTAC\n",
       "                      ...              \n",
       "12827    GGGAATACGACGACCAGAGAGCGCTGGAGA\n",
       "12828    TCATGGATTTCCTGGCTCGGGGACTGGTCT\n",
       "12829    GCCTTGTTTCTTTCCTCTCTGGGTCGGATT\n",
       "12830    TCGCACCTGATAGAGCATGTGACAAGGAGA\n",
       "12831    CCCTCTGCGCATGGTCTTCCGGGGTGGCTC\n",
       "Name: Target context sequence, Length: 12832, dtype: object"
      ]
     },
     "execution_count": 9,
     "metadata": {},
     "output_type": "execute_result"
    }
   ],
   "source": [
    "df['Target context sequence']"
   ]
  },
  {
   "cell_type": "code",
   "execution_count": 10,
   "metadata": {},
   "outputs": [
    {
     "data": {
      "text/html": [
       "<div>\n",
       "<style scoped>\n",
       "    .dataframe tbody tr th:only-of-type {\n",
       "        vertical-align: middle;\n",
       "    }\n",
       "\n",
       "    .dataframe tbody tr th {\n",
       "        vertical-align: top;\n",
       "    }\n",
       "\n",
       "    .dataframe thead th {\n",
       "        text-align: right;\n",
       "    }\n",
       "</style>\n",
       "<table border=\"1\" class=\"dataframe\">\n",
       "  <thead>\n",
       "    <tr style=\"text-align: right;\">\n",
       "      <th></th>\n",
       "      <th>Barcode</th>\n",
       "      <th>Target context sequence</th>\n",
       "      <th>Total read count (Day 0)</th>\n",
       "      <th>Indel read count\\n(Day 0)</th>\n",
       "      <th>Background\\nindel frequencies (%)</th>\n",
       "      <th>Total read count\\n(Day 2.9)</th>\n",
       "      <th>Indel read count\\n(Day 2.9)</th>\n",
       "      <th>Indel frequencies (%)</th>\n",
       "      <th>Background subtracted indel</th>\n",
       "    </tr>\n",
       "  </thead>\n",
       "  <tbody>\n",
       "    <tr>\n",
       "      <th>0</th>\n",
       "      <td>TTTGACACACACGCACTAG</td>\n",
       "      <td>TTCTGCCTTGTTTCTTTCCTCTCTGGGTCG</td>\n",
       "      <td>2673</td>\n",
       "      <td>2</td>\n",
       "      <td>0.074822</td>\n",
       "      <td>9801</td>\n",
       "      <td>2386</td>\n",
       "      <td>24.344455</td>\n",
       "      <td>24.287805</td>\n",
       "    </tr>\n",
       "    <tr>\n",
       "      <th>1</th>\n",
       "      <td>TTTGACACACACTCGTATG</td>\n",
       "      <td>ACGACCTTCAGCTCAGTGACAGTGAGGACA</td>\n",
       "      <td>458</td>\n",
       "      <td>0</td>\n",
       "      <td>0.000000</td>\n",
       "      <td>1141</td>\n",
       "      <td>793</td>\n",
       "      <td>69.500438</td>\n",
       "      <td>69.500438</td>\n",
       "    </tr>\n",
       "    <tr>\n",
       "      <th>2</th>\n",
       "      <td>TTTGACACACACTCTCGTC</td>\n",
       "      <td>AGGACGACGACTACAATAAGCCTCTGGATC</td>\n",
       "      <td>3422</td>\n",
       "      <td>2</td>\n",
       "      <td>0.058445</td>\n",
       "      <td>12259</td>\n",
       "      <td>3192</td>\n",
       "      <td>26.038013</td>\n",
       "      <td>25.994760</td>\n",
       "    </tr>\n",
       "    <tr>\n",
       "      <th>3</th>\n",
       "      <td>TTTGACACACACTCTGCTG</td>\n",
       "      <td>GCAGCAAACTGACGGAGAACCTTGTGGCCC</td>\n",
       "      <td>1595</td>\n",
       "      <td>2</td>\n",
       "      <td>0.125392</td>\n",
       "      <td>4509</td>\n",
       "      <td>2616</td>\n",
       "      <td>58.017299</td>\n",
       "      <td>57.964590</td>\n",
       "    </tr>\n",
       "    <tr>\n",
       "      <th>4</th>\n",
       "      <td>TTTGACACACACTGCATAT</td>\n",
       "      <td>CCGGCAGATATCCGTGAAGGCTCTAGGTAC</td>\n",
       "      <td>2770</td>\n",
       "      <td>2</td>\n",
       "      <td>0.072202</td>\n",
       "      <td>8716</td>\n",
       "      <td>3434</td>\n",
       "      <td>39.398807</td>\n",
       "      <td>39.355020</td>\n",
       "    </tr>\n",
       "    <tr>\n",
       "      <th>...</th>\n",
       "      <td>...</td>\n",
       "      <td>...</td>\n",
       "      <td>...</td>\n",
       "      <td>...</td>\n",
       "      <td>...</td>\n",
       "      <td>...</td>\n",
       "      <td>...</td>\n",
       "      <td>...</td>\n",
       "      <td>...</td>\n",
       "    </tr>\n",
       "    <tr>\n",
       "      <th>12827</th>\n",
       "      <td>TTTGTGTGTCTCGTATCAC</td>\n",
       "      <td>GGGAATACGACGACCAGAGAGCGCTGGAGA</td>\n",
       "      <td>2361</td>\n",
       "      <td>0</td>\n",
       "      <td>0.000000</td>\n",
       "      <td>7571</td>\n",
       "      <td>3093</td>\n",
       "      <td>40.853256</td>\n",
       "      <td>40.853256</td>\n",
       "    </tr>\n",
       "    <tr>\n",
       "      <th>12828</th>\n",
       "      <td>TTTGTGTGTCTCTACACGC</td>\n",
       "      <td>TCATGGATTTCCTGGCTCGGGGACTGGTCT</td>\n",
       "      <td>3748</td>\n",
       "      <td>2</td>\n",
       "      <td>0.053362</td>\n",
       "      <td>15241</td>\n",
       "      <td>1757</td>\n",
       "      <td>11.528115</td>\n",
       "      <td>11.480880</td>\n",
       "    </tr>\n",
       "    <tr>\n",
       "      <th>12829</th>\n",
       "      <td>TTTGTGTGTCTCTCACGTA</td>\n",
       "      <td>GCCTTGTTTCTTTCCTCTCTGGGTCGGATT</td>\n",
       "      <td>2505</td>\n",
       "      <td>3</td>\n",
       "      <td>0.119760</td>\n",
       "      <td>7181</td>\n",
       "      <td>4589</td>\n",
       "      <td>63.904749</td>\n",
       "      <td>63.861469</td>\n",
       "    </tr>\n",
       "    <tr>\n",
       "      <th>12830</th>\n",
       "      <td>TTTGTGTGTCTCTCTAGTC</td>\n",
       "      <td>TCGCACCTGATAGAGCATGTGACAAGGAGA</td>\n",
       "      <td>3175</td>\n",
       "      <td>1</td>\n",
       "      <td>0.031496</td>\n",
       "      <td>9873</td>\n",
       "      <td>5101</td>\n",
       "      <td>51.666160</td>\n",
       "      <td>51.650932</td>\n",
       "    </tr>\n",
       "    <tr>\n",
       "      <th>12831</th>\n",
       "      <td>TTTGTGTGTCTCTCTCAGA</td>\n",
       "      <td>CCCTCTGCGCATGGTCTTCCGGGGTGGCTC</td>\n",
       "      <td>4879</td>\n",
       "      <td>9</td>\n",
       "      <td>0.184464</td>\n",
       "      <td>16337</td>\n",
       "      <td>6556</td>\n",
       "      <td>40.129767</td>\n",
       "      <td>40.019124</td>\n",
       "    </tr>\n",
       "  </tbody>\n",
       "</table>\n",
       "<p>12832 rows × 9 columns</p>\n",
       "</div>"
      ],
      "text/plain": [
       "                   Barcode         Target context sequence  \\\n",
       "0      TTTGACACACACGCACTAG  TTCTGCCTTGTTTCTTTCCTCTCTGGGTCG   \n",
       "1      TTTGACACACACTCGTATG  ACGACCTTCAGCTCAGTGACAGTGAGGACA   \n",
       "2      TTTGACACACACTCTCGTC  AGGACGACGACTACAATAAGCCTCTGGATC   \n",
       "3      TTTGACACACACTCTGCTG  GCAGCAAACTGACGGAGAACCTTGTGGCCC   \n",
       "4      TTTGACACACACTGCATAT  CCGGCAGATATCCGTGAAGGCTCTAGGTAC   \n",
       "...                    ...                             ...   \n",
       "12827  TTTGTGTGTCTCGTATCAC  GGGAATACGACGACCAGAGAGCGCTGGAGA   \n",
       "12828  TTTGTGTGTCTCTACACGC  TCATGGATTTCCTGGCTCGGGGACTGGTCT   \n",
       "12829  TTTGTGTGTCTCTCACGTA  GCCTTGTTTCTTTCCTCTCTGGGTCGGATT   \n",
       "12830  TTTGTGTGTCTCTCTAGTC  TCGCACCTGATAGAGCATGTGACAAGGAGA   \n",
       "12831  TTTGTGTGTCTCTCTCAGA  CCCTCTGCGCATGGTCTTCCGGGGTGGCTC   \n",
       "\n",
       "       Total read count (Day 0)  Indel read count\\n(Day 0)  \\\n",
       "0                          2673                          2   \n",
       "1                           458                          0   \n",
       "2                          3422                          2   \n",
       "3                          1595                          2   \n",
       "4                          2770                          2   \n",
       "...                         ...                        ...   \n",
       "12827                      2361                          0   \n",
       "12828                      3748                          2   \n",
       "12829                      2505                          3   \n",
       "12830                      3175                          1   \n",
       "12831                      4879                          9   \n",
       "\n",
       "       Background\\nindel frequencies (%)  Total read count\\n(Day 2.9)  \\\n",
       "0                               0.074822                         9801   \n",
       "1                               0.000000                         1141   \n",
       "2                               0.058445                        12259   \n",
       "3                               0.125392                         4509   \n",
       "4                               0.072202                         8716   \n",
       "...                                  ...                          ...   \n",
       "12827                           0.000000                         7571   \n",
       "12828                           0.053362                        15241   \n",
       "12829                           0.119760                         7181   \n",
       "12830                           0.031496                         9873   \n",
       "12831                           0.184464                        16337   \n",
       "\n",
       "       Indel read count\\n(Day 2.9)  Indel frequencies (%)  \\\n",
       "0                             2386              24.344455   \n",
       "1                              793              69.500438   \n",
       "2                             3192              26.038013   \n",
       "3                             2616              58.017299   \n",
       "4                             3434              39.398807   \n",
       "...                            ...                    ...   \n",
       "12827                         3093              40.853256   \n",
       "12828                         1757              11.528115   \n",
       "12829                         4589              63.904749   \n",
       "12830                         5101              51.666160   \n",
       "12831                         6556              40.129767   \n",
       "\n",
       "       Background subtracted indel  \n",
       "0                        24.287805  \n",
       "1                        69.500438  \n",
       "2                        25.994760  \n",
       "3                        57.964590  \n",
       "4                        39.355020  \n",
       "...                            ...  \n",
       "12827                    40.853256  \n",
       "12828                    11.480880  \n",
       "12829                    63.861469  \n",
       "12830                    51.650932  \n",
       "12831                    40.019124  \n",
       "\n",
       "[12832 rows x 9 columns]"
      ]
     },
     "execution_count": 10,
     "metadata": {},
     "output_type": "execute_result"
    }
   ],
   "source": [
    "df"
   ]
  },
  {
   "cell_type": "code",
   "execution_count": 11,
   "metadata": {},
   "outputs": [],
   "source": [
    "selected_df = pd.read_csv(file_name, usecols=['Background subtracted indel','Background subtracted indel','Target context sequence', 'Target context sequence'])"
   ]
  },
  {
   "cell_type": "code",
   "execution_count": 12,
   "metadata": {},
   "outputs": [
    {
     "data": {
      "text/html": [
       "<div>\n",
       "<style scoped>\n",
       "    .dataframe tbody tr th:only-of-type {\n",
       "        vertical-align: middle;\n",
       "    }\n",
       "\n",
       "    .dataframe tbody tr th {\n",
       "        vertical-align: top;\n",
       "    }\n",
       "\n",
       "    .dataframe thead th {\n",
       "        text-align: right;\n",
       "    }\n",
       "</style>\n",
       "<table border=\"1\" class=\"dataframe\">\n",
       "  <thead>\n",
       "    <tr style=\"text-align: right;\">\n",
       "      <th></th>\n",
       "      <th>Target context sequence</th>\n",
       "      <th>Background subtracted indel</th>\n",
       "    </tr>\n",
       "  </thead>\n",
       "  <tbody>\n",
       "    <tr>\n",
       "      <th>0</th>\n",
       "      <td>TTCTGCCTTGTTTCTTTCCTCTCTGGGTCG</td>\n",
       "      <td>24.287805</td>\n",
       "    </tr>\n",
       "    <tr>\n",
       "      <th>1</th>\n",
       "      <td>ACGACCTTCAGCTCAGTGACAGTGAGGACA</td>\n",
       "      <td>69.500438</td>\n",
       "    </tr>\n",
       "    <tr>\n",
       "      <th>2</th>\n",
       "      <td>AGGACGACGACTACAATAAGCCTCTGGATC</td>\n",
       "      <td>25.994760</td>\n",
       "    </tr>\n",
       "    <tr>\n",
       "      <th>3</th>\n",
       "      <td>GCAGCAAACTGACGGAGAACCTTGTGGCCC</td>\n",
       "      <td>57.964590</td>\n",
       "    </tr>\n",
       "    <tr>\n",
       "      <th>4</th>\n",
       "      <td>CCGGCAGATATCCGTGAAGGCTCTAGGTAC</td>\n",
       "      <td>39.355020</td>\n",
       "    </tr>\n",
       "    <tr>\n",
       "      <th>...</th>\n",
       "      <td>...</td>\n",
       "      <td>...</td>\n",
       "    </tr>\n",
       "    <tr>\n",
       "      <th>12827</th>\n",
       "      <td>GGGAATACGACGACCAGAGAGCGCTGGAGA</td>\n",
       "      <td>40.853256</td>\n",
       "    </tr>\n",
       "    <tr>\n",
       "      <th>12828</th>\n",
       "      <td>TCATGGATTTCCTGGCTCGGGGACTGGTCT</td>\n",
       "      <td>11.480880</td>\n",
       "    </tr>\n",
       "    <tr>\n",
       "      <th>12829</th>\n",
       "      <td>GCCTTGTTTCTTTCCTCTCTGGGTCGGATT</td>\n",
       "      <td>63.861469</td>\n",
       "    </tr>\n",
       "    <tr>\n",
       "      <th>12830</th>\n",
       "      <td>TCGCACCTGATAGAGCATGTGACAAGGAGA</td>\n",
       "      <td>51.650932</td>\n",
       "    </tr>\n",
       "    <tr>\n",
       "      <th>12831</th>\n",
       "      <td>CCCTCTGCGCATGGTCTTCCGGGGTGGCTC</td>\n",
       "      <td>40.019124</td>\n",
       "    </tr>\n",
       "  </tbody>\n",
       "</table>\n",
       "<p>12832 rows × 2 columns</p>\n",
       "</div>"
      ],
      "text/plain": [
       "              Target context sequence  Background subtracted indel\n",
       "0      TTCTGCCTTGTTTCTTTCCTCTCTGGGTCG                    24.287805\n",
       "1      ACGACCTTCAGCTCAGTGACAGTGAGGACA                    69.500438\n",
       "2      AGGACGACGACTACAATAAGCCTCTGGATC                    25.994760\n",
       "3      GCAGCAAACTGACGGAGAACCTTGTGGCCC                    57.964590\n",
       "4      CCGGCAGATATCCGTGAAGGCTCTAGGTAC                    39.355020\n",
       "...                               ...                          ...\n",
       "12827  GGGAATACGACGACCAGAGAGCGCTGGAGA                    40.853256\n",
       "12828  TCATGGATTTCCTGGCTCGGGGACTGGTCT                    11.480880\n",
       "12829  GCCTTGTTTCTTTCCTCTCTGGGTCGGATT                    63.861469\n",
       "12830  TCGCACCTGATAGAGCATGTGACAAGGAGA                    51.650932\n",
       "12831  CCCTCTGCGCATGGTCTTCCGGGGTGGCTC                    40.019124\n",
       "\n",
       "[12832 rows x 2 columns]"
      ]
     },
     "execution_count": 12,
     "metadata": {},
     "output_type": "execute_result"
    }
   ],
   "source": [
    "selected_df"
   ]
  },
  {
   "cell_type": "code",
   "execution_count": null,
   "metadata": {},
   "outputs": [],
   "source": []
  },
  {
   "cell_type": "code",
   "execution_count": 13,
   "metadata": {},
   "outputs": [],
   "source": [
    "#%%timeit\n",
    "indel = np.array(selected_df['Background subtracted indel'])"
   ]
  },
  {
   "cell_type": "code",
   "execution_count": 14,
   "metadata": {},
   "outputs": [
    {
     "data": {
      "text/plain": [
       "95.10357122"
      ]
     },
     "execution_count": 14,
     "metadata": {},
     "output_type": "execute_result"
    }
   ],
   "source": [
    "#%%timeit\n",
    "indel.max()"
   ]
  },
  {
   "cell_type": "code",
   "execution_count": 15,
   "metadata": {},
   "outputs": [
    {
     "data": {
      "text/plain": [
       "True"
      ]
     },
     "execution_count": 15,
     "metadata": {},
     "output_type": "execute_result"
    }
   ],
   "source": [
    "#%%timeit\n",
    "any(indel > 1.1)"
   ]
  },
  {
   "cell_type": "code",
   "execution_count": 16,
   "metadata": {},
   "outputs": [
    {
     "data": {
      "text/plain": [
       "True"
      ]
     },
     "execution_count": 16,
     "metadata": {},
     "output_type": "execute_result"
    }
   ],
   "source": [
    "any(indel > 1.1)"
   ]
  },
  {
   "cell_type": "code",
   "execution_count": 17,
   "metadata": {},
   "outputs": [],
   "source": [
    "test_list = [0,1,2,3,4,-0.5,-1]"
   ]
  },
  {
   "cell_type": "code",
   "execution_count": 18,
   "metadata": {},
   "outputs": [
    {
     "data": {
      "text/plain": [
       "[0, 1, 2, 3, 4, 0, 0]"
      ]
     },
     "execution_count": 18,
     "metadata": {},
     "output_type": "execute_result"
    }
   ],
   "source": [
    "list(map(lambda x: 0 if x < 0 else x, test_list))"
   ]
  },
  {
   "cell_type": "code",
   "execution_count": 19,
   "metadata": {},
   "outputs": [],
   "source": [
    "def indel_change(indel_list):\n",
    "    indel_list = np.array(indel_list)\n",
    "    if indel_list.max() > 1.0:\n",
    "        new_indel_list = list(map(lambda x: x/100, indel_list))\n",
    "    else:\n",
    "        new_indel_list = indel_list\n",
    "    new_indel_list = list(map(lambda x: 0 if x < 0 else x, new_indel_list))\n",
    "    return np.array(new_indel_list)"
   ]
  },
  {
   "cell_type": "code",
   "execution_count": 20,
   "metadata": {},
   "outputs": [],
   "source": [
    "new_indel = indel_change(indel)"
   ]
  },
  {
   "cell_type": "code",
   "execution_count": 21,
   "metadata": {},
   "outputs": [
    {
     "data": {
      "text/plain": [
       "array([0., 0., 0.])"
      ]
     },
     "execution_count": 21,
     "metadata": {},
     "output_type": "execute_result"
    }
   ],
   "source": [
    "np.zeros(3)"
   ]
  },
  {
   "cell_type": "code",
   "execution_count": 22,
   "metadata": {},
   "outputs": [
    {
     "data": {
      "text/plain": [
       "[0, 0, 0]"
      ]
     },
     "execution_count": 22,
     "metadata": {},
     "output_type": "execute_result"
    }
   ],
   "source": [
    "[0]*3"
   ]
  },
  {
   "cell_type": "code",
   "execution_count": 23,
   "metadata": {},
   "outputs": [],
   "source": [
    "#%%timeit\n",
    "num_indel_class = 11\n",
    "indel_class_one_hot_encoder = {}\n",
    "for i in range(num_indel_class):\n",
    "    rate = i /10\n",
    "    initial_list = [0] * num_indel_class\n",
    "    initial_list[i] = 1\n",
    "    indel_class_one_hot_encoder[rate] = initial_list"
   ]
  },
  {
   "cell_type": "code",
   "execution_count": 24,
   "metadata": {},
   "outputs": [
    {
     "data": {
      "text/plain": [
       "{0.0: [1, 0, 0, 0, 0, 0, 0, 0, 0, 0, 0],\n",
       " 0.1: [0, 1, 0, 0, 0, 0, 0, 0, 0, 0, 0],\n",
       " 0.2: [0, 0, 1, 0, 0, 0, 0, 0, 0, 0, 0],\n",
       " 0.3: [0, 0, 0, 1, 0, 0, 0, 0, 0, 0, 0],\n",
       " 0.4: [0, 0, 0, 0, 1, 0, 0, 0, 0, 0, 0],\n",
       " 0.5: [0, 0, 0, 0, 0, 1, 0, 0, 0, 0, 0],\n",
       " 0.6: [0, 0, 0, 0, 0, 0, 1, 0, 0, 0, 0],\n",
       " 0.7: [0, 0, 0, 0, 0, 0, 0, 1, 0, 0, 0],\n",
       " 0.8: [0, 0, 0, 0, 0, 0, 0, 0, 1, 0, 0],\n",
       " 0.9: [0, 0, 0, 0, 0, 0, 0, 0, 0, 1, 0],\n",
       " 1.0: [0, 0, 0, 0, 0, 0, 0, 0, 0, 0, 1]}"
      ]
     },
     "execution_count": 24,
     "metadata": {},
     "output_type": "execute_result"
    }
   ],
   "source": [
    "indel_class_one_hot_encoder"
   ]
  },
  {
   "cell_type": "code",
   "execution_count": 25,
   "metadata": {},
   "outputs": [
    {
     "data": {
      "text/plain": [
       "[1, 0, 0, 0, 0, 0, 0, 0, 0, 0, 0]"
      ]
     },
     "execution_count": 25,
     "metadata": {},
     "output_type": "execute_result"
    }
   ],
   "source": [
    "indel_class_one_hot_encoder[0.0]"
   ]
  },
  {
   "cell_type": "code",
   "execution_count": 26,
   "metadata": {},
   "outputs": [
    {
     "data": {
      "text/plain": [
       "0.0"
      ]
     },
     "execution_count": 26,
     "metadata": {},
     "output_type": "execute_result"
    }
   ],
   "source": [
    "round(0.0001,1)"
   ]
  },
  {
   "cell_type": "code",
   "execution_count": 27,
   "metadata": {},
   "outputs": [
    {
     "data": {
      "text/plain": [
       "[1, 0, 0, 0, 0, 0, 0, 0, 0, 0, 0]"
      ]
     },
     "execution_count": 27,
     "metadata": {},
     "output_type": "execute_result"
    }
   ],
   "source": [
    "indel_class_one_hot_encoder[round(0.0001,1)]"
   ]
  },
  {
   "cell_type": "code",
   "execution_count": 28,
   "metadata": {},
   "outputs": [],
   "source": [
    "from data_import_preprocessing import import_data_preprocessing"
   ]
  },
  {
   "cell_type": "code",
   "execution_count": 29,
   "metadata": {},
   "outputs": [],
   "source": [
    "train_data_csv = 'HT_Cas9_train.csv'\n",
    "test_data_csv = 'HT_Cas9_test.csv'\n",
    "data_preprocess = import_data_preprocessing(train_data_file_name=train_data_csv,\n",
    "                                           test_data_file_name=test_data_csv)"
   ]
  },
  {
   "cell_type": "code",
   "execution_count": 32,
   "metadata": {},
   "outputs": [
    {
     "data": {
      "text/plain": [
       "['Barcode',\n",
       " 'Target context sequence',\n",
       " 'Total read count (Day 0)',\n",
       " 'Indel read count\\n(Day 0)',\n",
       " 'Background\\nindel frequencies (%)',\n",
       " 'Total read count\\n(Day 2.9)',\n",
       " 'Indel read count\\n(Day 2.9)',\n",
       " 'Indel frequencies (%)',\n",
       " 'Background subtracted indel']"
      ]
     },
     "execution_count": 32,
     "metadata": {},
     "output_type": "execute_result"
    }
   ],
   "source": [
    "data_preprocess.train_data_file_sample_column"
   ]
  },
  {
   "cell_type": "code",
   "execution_count": 24,
   "metadata": {},
   "outputs": [
    {
     "ename": "NameError",
     "evalue": "name 'data_preprocess' is not defined",
     "output_type": "error",
     "traceback": [
      "\u001b[0;31m---------------------------------------------------------------------------\u001b[0m",
      "\u001b[0;31mNameError\u001b[0m                                 Traceback (most recent call last)",
      "\u001b[0;32m<ipython-input-24-e873fc707a96>\u001b[0m in \u001b[0;36m<module>\u001b[0;34m\u001b[0m\n\u001b[0;32m----> 1\u001b[0;31m data_preprocess.Read_csv_file(file_path = train_data_csv, sgRNA_column='Target context sequence',\n\u001b[0m\u001b[1;32m      2\u001b[0m                              indel_column='Background subtracted indel')\n",
      "\u001b[0;31mNameError\u001b[0m: name 'data_preprocess' is not defined"
     ]
    }
   ],
   "source": [
    "data_preprocess.Read_csv_file(file_path = train_data_csv, sgRNA_column='Target context sequence',\n",
    "                             indel_column='Background subtracted indel')"
   ]
  },
  {
   "cell_type": "code",
   "execution_count": 25,
   "metadata": {},
   "outputs": [],
   "source": [
    "tmp = ['Barcode', 'Target context sequence', 'Total read count (Day 0)',\n",
    "       'Indel read count\\n(Day 0)', 'Background\\nindel frequencies (%)',\n",
    "       'Total read count\\n(Day 2.9)', 'Indel read count\\n(Day 2.9)',\n",
    "       'Indel frequencies (%)', 'Background subtracted indel']"
   ]
  },
  {
   "cell_type": "code",
   "execution_count": 19,
   "metadata": {},
   "outputs": [
    {
     "name": "stdout",
     "output_type": "stream",
     "text": [
      "282 ns ± 2.16 ns per loop (mean ± std. dev. of 7 runs, 1000000 loops each)\n"
     ]
    }
   ],
   "source": [
    "\n",
    "tmp2 = tmp + [None]\n",
    "#%timeit list(filter(None, tmp2))"
   ]
  },
  {
   "cell_type": "code",
   "execution_count": 21,
   "metadata": {},
   "outputs": [
    {
     "name": "stdout",
     "output_type": "stream",
     "text": [
      "334 ns ± 3.99 ns per loop (mean ± std. dev. of 7 runs, 1000000 loops each)\n"
     ]
    }
   ],
   "source": [
    "#%timeit [i for i in tmp2 if i] "
   ]
  },
  {
   "cell_type": "code",
   "execution_count": 30,
   "metadata": {},
   "outputs": [],
   "source": [
    "test_list1 = np.array([[1, 0, 0, 0],\n",
    "       [0, 1, 0, 0],\n",
    "       [0, 0, 1, 0],\n",
    "       [1, 0, 0, 0],\n",
    "       [0, 1, 0, 0],\n",
    "       [0, 1, 0, 0],\n",
    "       [0, 0, 0, 1],\n",
    "       [0, 0, 0, 1],\n",
    "       [0, 1, 0, 0],\n",
    "       [1, 0, 0, 0],\n",
    "       [0, 0, 1, 0],\n",
    "       [0, 1, 0, 0],\n",
    "       [0, 0, 0, 1],\n",
    "       [0, 1, 0, 0],\n",
    "       [1, 0, 0, 0],\n",
    "       [0, 0, 1, 0],\n",
    "       [0, 0, 0, 1],\n",
    "       [0, 0, 1, 0],\n",
    "       [1, 0, 0, 0],\n",
    "       [0, 1, 0, 0],\n",
    "       [1, 0, 0, 0],\n",
    "       [0, 0, 1, 0],\n",
    "       [0, 0, 0, 1],\n",
    "       [0, 0, 1, 0],\n",
    "       [1, 0, 0, 0],\n",
    "       [0, 0, 1, 0],\n",
    "       [0, 0, 1, 0],\n",
    "       [1, 0, 0, 0],\n",
    "       [0, 1, 0, 0],\n",
    "       [1, 0, 0, 0]])\n",
    "test_list2 = np.array([[1, 0, 0, 0],\n",
    "       [0, 0, 1, 0],\n",
    "       [0, 0, 1, 0],\n",
    "       [1, 0, 0, 0],\n",
    "       [0, 1, 0, 0],\n",
    "       [0, 0, 1, 0],\n",
    "       [1, 0, 0, 0],\n",
    "       [0, 1, 0, 0],\n",
    "       [0, 0, 1, 0],\n",
    "       [1, 0, 0, 0],\n",
    "       [0, 1, 0, 0],\n",
    "       [0, 0, 0, 1],\n",
    "       [1, 0, 0, 0],\n",
    "       [0, 1, 0, 0],\n",
    "       [1, 0, 0, 0],\n",
    "       [1, 0, 0, 0],\n",
    "       [0, 0, 0, 1],\n",
    "       [1, 0, 0, 0],\n",
    "       [1, 0, 0, 0],\n",
    "       [0, 0, 1, 0],\n",
    "       [0, 1, 0, 0],\n",
    "       [0, 1, 0, 0],\n",
    "       [0, 0, 0, 1],\n",
    "       [0, 1, 0, 0],\n",
    "       [0, 0, 0, 1],\n",
    "       [0, 0, 1, 0],\n",
    "       [0, 0, 1, 0],\n",
    "       [1, 0, 0, 0],\n",
    "       [0, 0, 0, 1],\n",
    "       [0, 1, 0, 0]])"
   ]
  },
  {
   "cell_type": "code",
   "execution_count": 45,
   "metadata": {},
   "outputs": [
    {
     "data": {
      "text/plain": [
       "array([[2, 0, 0, 0],\n",
       "       [0, 1, 1, 0],\n",
       "       [0, 0, 2, 0],\n",
       "       [2, 0, 0, 0],\n",
       "       [0, 2, 0, 0],\n",
       "       [0, 1, 1, 0],\n",
       "       [1, 0, 0, 1],\n",
       "       [0, 1, 0, 1],\n",
       "       [0, 1, 1, 0],\n",
       "       [2, 0, 0, 0],\n",
       "       [0, 1, 1, 0],\n",
       "       [0, 1, 0, 1],\n",
       "       [1, 0, 0, 1],\n",
       "       [0, 2, 0, 0],\n",
       "       [2, 0, 0, 0],\n",
       "       [1, 0, 1, 0],\n",
       "       [0, 0, 0, 2],\n",
       "       [1, 0, 1, 0],\n",
       "       [2, 0, 0, 0],\n",
       "       [0, 1, 1, 0],\n",
       "       [1, 1, 0, 0],\n",
       "       [0, 1, 1, 0],\n",
       "       [0, 0, 0, 2],\n",
       "       [0, 1, 1, 0],\n",
       "       [1, 0, 0, 1],\n",
       "       [0, 0, 2, 0],\n",
       "       [0, 0, 2, 0],\n",
       "       [2, 0, 0, 0],\n",
       "       [0, 1, 0, 1],\n",
       "       [1, 1, 0, 0]])"
      ]
     },
     "execution_count": 45,
     "metadata": {},
     "output_type": "execute_result"
    }
   ],
   "source": [
    "#%%timeit\n",
    "add_seq = np.add(test_list1, test_list2)\n",
    "add_seq"
   ]
  },
  {
   "cell_type": "code",
   "execution_count": 77,
   "metadata": {},
   "outputs": [
    {
     "name": "stdout",
     "output_type": "stream",
     "text": [
      "44 µs ± 31.3 ns per loop (mean ± std. dev. of 7 runs, 10000 loops each)\n"
     ]
    }
   ],
   "source": [
    "#%%timeit\n",
    "xor_seq = np.bitwise_xor(test_list1,test_list2)\n",
    "mismatch_position_tmp2 = list(map(lambda x: sum(x)//2 , xor_seq))"
   ]
  },
  {
   "cell_type": "code",
   "execution_count": 79,
   "metadata": {},
   "outputs": [
    {
     "data": {
      "text/plain": [
       "[0,\n",
       " 1,\n",
       " 0,\n",
       " 0,\n",
       " 0,\n",
       " 1,\n",
       " 1,\n",
       " 1,\n",
       " 1,\n",
       " 0,\n",
       " 1,\n",
       " 1,\n",
       " 1,\n",
       " 0,\n",
       " 0,\n",
       " 1,\n",
       " 0,\n",
       " 1,\n",
       " 0,\n",
       " 1,\n",
       " 1,\n",
       " 1,\n",
       " 0,\n",
       " 1,\n",
       " 1,\n",
       " 0,\n",
       " 0,\n",
       " 0,\n",
       " 1,\n",
       " 1]"
      ]
     },
     "execution_count": 79,
     "metadata": {},
     "output_type": "execute_result"
    }
   ],
   "source": [
    "mismatch_position_tmp2"
   ]
  },
  {
   "cell_type": "code",
   "execution_count": 117,
   "metadata": {},
   "outputs": [],
   "source": [
    "def mismatch_position_N_number(sgRNA, targetDNA):\n",
    "    xor_seq = np.bitwise_xor(sgRNA, targetDNA)\n",
    "    mismatch_position = list(map(lambda x: sum(x)//2 , xor_seq))\n",
    "    mismatch_number = sum(mismatch_position)\n",
    "    return mismatch_position, mismatch_number"
   ]
  },
  {
   "cell_type": "code",
   "execution_count": 118,
   "metadata": {},
   "outputs": [],
   "source": [
    "seq1_list = np.array([test_list1 for i in range(100000)])\n",
    "seq2_list = np.array([test_list2 for i in range(100000)])"
   ]
  },
  {
   "cell_type": "code",
   "execution_count": 121,
   "metadata": {
    "scrolled": true
   },
   "outputs": [
    {
     "name": "stdout",
     "output_type": "stream",
     "text": [
      "4.61 s ± 18.8 ms per loop (mean ± std. dev. of 7 runs, 1 loop each)\n",
      "7.05 ms ± 48.1 µs per loop (mean ± std. dev. of 7 runs, 100 loops each)\n",
      "9.89 ms ± 22.4 µs per loop (mean ± std. dev. of 7 runs, 100 loops each)\n"
     ]
    }
   ],
   "source": [
    "\n",
    "mismatch = list(map(mismatch_position_N_number,seq1_list, seq2_list))\n",
    "mismatch_position = list(map(lambda x: x[0], mismatch))\n",
    "mismatch_number = list(map(lambda x: x[1], mismatch))"
   ]
  },
  {
   "cell_type": "code",
   "execution_count": 98,
   "metadata": {
    "scrolled": true
   },
   "outputs": [
    {
     "data": {
      "text/plain": [
       "([0,\n",
       "  1,\n",
       "  0,\n",
       "  0,\n",
       "  0,\n",
       "  1,\n",
       "  1,\n",
       "  1,\n",
       "  1,\n",
       "  0,\n",
       "  1,\n",
       "  1,\n",
       "  1,\n",
       "  0,\n",
       "  0,\n",
       "  1,\n",
       "  0,\n",
       "  1,\n",
       "  0,\n",
       "  1,\n",
       "  1,\n",
       "  1,\n",
       "  0,\n",
       "  1,\n",
       "  1,\n",
       "  0,\n",
       "  0,\n",
       "  0,\n",
       "  1,\n",
       "  1],\n",
       " 17)"
      ]
     },
     "execution_count": 98,
     "metadata": {},
     "output_type": "execute_result"
    }
   ],
   "source": [
    "mismatch[0]"
   ]
  },
  {
   "cell_type": "code",
   "execution_count": 101,
   "metadata": {},
   "outputs": [
    {
     "data": {
      "text/plain": [
       "[0,\n",
       " 1,\n",
       " 0,\n",
       " 0,\n",
       " 0,\n",
       " 1,\n",
       " 1,\n",
       " 1,\n",
       " 1,\n",
       " 0,\n",
       " 1,\n",
       " 1,\n",
       " 1,\n",
       " 0,\n",
       " 0,\n",
       " 1,\n",
       " 0,\n",
       " 1,\n",
       " 0,\n",
       " 1,\n",
       " 1,\n",
       " 1,\n",
       " 0,\n",
       " 1,\n",
       " 1,\n",
       " 0,\n",
       " 0,\n",
       " 0,\n",
       " 1,\n",
       " 1]"
      ]
     },
     "execution_count": 101,
     "metadata": {},
     "output_type": "execute_result"
    }
   ],
   "source": [
    "mismatch_position[0]"
   ]
  },
  {
   "cell_type": "code",
   "execution_count": 102,
   "metadata": {},
   "outputs": [
    {
     "data": {
      "text/plain": [
       "17"
      ]
     },
     "execution_count": 102,
     "metadata": {},
     "output_type": "execute_result"
    }
   ],
   "source": [
    "mismatch_number[0]"
   ]
  },
  {
   "cell_type": "code",
   "execution_count": null,
   "metadata": {},
   "outputs": [],
   "source": []
  }
 ],
 "metadata": {
  "kernelspec": {
   "display_name": "Python 3",
   "language": "python",
   "name": "python3"
  },
  "language_info": {
   "codemirror_mode": {
    "name": "ipython",
    "version": 3
   },
   "file_extension": ".py",
   "mimetype": "text/x-python",
   "name": "python",
   "nbconvert_exporter": "python",
   "pygments_lexer": "ipython3",
   "version": "3.6.9"
  }
 },
 "nbformat": 4,
 "nbformat_minor": 4
}
