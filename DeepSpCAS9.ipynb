{
 "cells": [
  {
   "cell_type": "code",
   "execution_count": 18,
   "metadata": {},
   "outputs": [],
   "source": [
    "import pandas as pd\n",
    "import numpy as np"
   ]
  },
  {
   "cell_type": "code",
   "execution_count": 12,
   "metadata": {},
   "outputs": [],
   "source": [
    "from sklearn.model_selection import train_test_split"
   ]
  },
  {
   "cell_type": "code",
   "execution_count": 3,
   "metadata": {},
   "outputs": [],
   "source": [
    "file_name = 'HT_Cas9_train.csv'\n",
    "df = pd.read_csv(file_name)"
   ]
  },
  {
   "cell_type": "code",
   "execution_count": 9,
   "metadata": {},
   "outputs": [
    {
     "data": {
      "text/plain": [
       "Index(['Barcode', 'Target context sequence', 'Total read count (Day 0)',\n",
       "       'Indel read count\\n(Day 0)', 'Background\\nindel frequencies (%)',\n",
       "       'Total read count\\n(Day 2.9)', 'Indel read count\\n(Day 2.9)',\n",
       "       'Indel frequencies (%)', 'Background subtracted indel'],\n",
       "      dtype='object')"
      ]
     },
     "execution_count": 9,
     "metadata": {},
     "output_type": "execute_result"
    }
   ],
   "source": [
    "df.columns"
   ]
  },
  {
   "cell_type": "code",
   "execution_count": 93,
   "metadata": {},
   "outputs": [
    {
     "name": "stdout",
     "output_type": "stream",
     "text": [
      "['Barcode', 'Target context sequence', 'Total read count (Day 0)', 'Indel read count\\n(Day 0)', 'Background\\nindel frequencies (%)', 'Total read count\\n(Day 2.9)', 'Indel read count\\n(Day 2.9)', 'Indel frequencies (%)', 'Background subtracted indel']\n"
     ]
    }
   ],
   "source": [
    "#%%timeit\n",
    "df2 = pd.read_csv(file_name, nrows=1)\n",
    "df2_column = df2.columns\n",
    "print(list(df2_column))"
   ]
  },
  {
   "cell_type": "code",
   "execution_count": 87,
   "metadata": {},
   "outputs": [
    {
     "name": "stdout",
     "output_type": "stream",
     "text": [
      "15.8 ms ± 155 µs per loop (mean ± std. dev. of 7 runs, 100 loops each)\n"
     ]
    }
   ],
   "source": [
    "%%timeit\n",
    "df3 = pd.read_csv(file_name)\n",
    "#df3"
   ]
  },
  {
   "cell_type": "code",
   "execution_count": 10,
   "metadata": {},
   "outputs": [
    {
     "data": {
      "text/plain": [
       "0        24.287805\n",
       "1        69.500438\n",
       "2        25.994760\n",
       "3        57.964590\n",
       "4        39.355020\n",
       "           ...    \n",
       "12827    40.853256\n",
       "12828    11.480880\n",
       "12829    63.861469\n",
       "12830    51.650932\n",
       "12831    40.019124\n",
       "Name: Background subtracted indel, Length: 12832, dtype: float64"
      ]
     },
     "execution_count": 10,
     "metadata": {},
     "output_type": "execute_result"
    }
   ],
   "source": [
    "df['Background subtracted indel']"
   ]
  },
  {
   "cell_type": "code",
   "execution_count": 11,
   "metadata": {},
   "outputs": [
    {
     "data": {
      "text/plain": [
       "0        TTCTGCCTTGTTTCTTTCCTCTCTGGGTCG\n",
       "1        ACGACCTTCAGCTCAGTGACAGTGAGGACA\n",
       "2        AGGACGACGACTACAATAAGCCTCTGGATC\n",
       "3        GCAGCAAACTGACGGAGAACCTTGTGGCCC\n",
       "4        CCGGCAGATATCCGTGAAGGCTCTAGGTAC\n",
       "                      ...              \n",
       "12827    GGGAATACGACGACCAGAGAGCGCTGGAGA\n",
       "12828    TCATGGATTTCCTGGCTCGGGGACTGGTCT\n",
       "12829    GCCTTGTTTCTTTCCTCTCTGGGTCGGATT\n",
       "12830    TCGCACCTGATAGAGCATGTGACAAGGAGA\n",
       "12831    CCCTCTGCGCATGGTCTTCCGGGGTGGCTC\n",
       "Name: Target context sequence, Length: 12832, dtype: object"
      ]
     },
     "execution_count": 11,
     "metadata": {},
     "output_type": "execute_result"
    }
   ],
   "source": [
    "df['Target context sequence']"
   ]
  },
  {
   "cell_type": "code",
   "execution_count": 13,
   "metadata": {},
   "outputs": [
    {
     "data": {
      "text/html": [
       "<div>\n",
       "<style scoped>\n",
       "    .dataframe tbody tr th:only-of-type {\n",
       "        vertical-align: middle;\n",
       "    }\n",
       "\n",
       "    .dataframe tbody tr th {\n",
       "        vertical-align: top;\n",
       "    }\n",
       "\n",
       "    .dataframe thead th {\n",
       "        text-align: right;\n",
       "    }\n",
       "</style>\n",
       "<table border=\"1\" class=\"dataframe\">\n",
       "  <thead>\n",
       "    <tr style=\"text-align: right;\">\n",
       "      <th></th>\n",
       "      <th>Barcode</th>\n",
       "      <th>Target context sequence</th>\n",
       "      <th>Total read count (Day 0)</th>\n",
       "      <th>Indel read count\\n(Day 0)</th>\n",
       "      <th>Background\\nindel frequencies (%)</th>\n",
       "      <th>Total read count\\n(Day 2.9)</th>\n",
       "      <th>Indel read count\\n(Day 2.9)</th>\n",
       "      <th>Indel frequencies (%)</th>\n",
       "      <th>Background subtracted indel</th>\n",
       "    </tr>\n",
       "  </thead>\n",
       "  <tbody>\n",
       "    <tr>\n",
       "      <th>0</th>\n",
       "      <td>TTTGACACACACGCACTAG</td>\n",
       "      <td>TTCTGCCTTGTTTCTTTCCTCTCTGGGTCG</td>\n",
       "      <td>2673</td>\n",
       "      <td>2</td>\n",
       "      <td>0.074822</td>\n",
       "      <td>9801</td>\n",
       "      <td>2386</td>\n",
       "      <td>24.344455</td>\n",
       "      <td>24.287805</td>\n",
       "    </tr>\n",
       "    <tr>\n",
       "      <th>1</th>\n",
       "      <td>TTTGACACACACTCGTATG</td>\n",
       "      <td>ACGACCTTCAGCTCAGTGACAGTGAGGACA</td>\n",
       "      <td>458</td>\n",
       "      <td>0</td>\n",
       "      <td>0.000000</td>\n",
       "      <td>1141</td>\n",
       "      <td>793</td>\n",
       "      <td>69.500438</td>\n",
       "      <td>69.500438</td>\n",
       "    </tr>\n",
       "    <tr>\n",
       "      <th>2</th>\n",
       "      <td>TTTGACACACACTCTCGTC</td>\n",
       "      <td>AGGACGACGACTACAATAAGCCTCTGGATC</td>\n",
       "      <td>3422</td>\n",
       "      <td>2</td>\n",
       "      <td>0.058445</td>\n",
       "      <td>12259</td>\n",
       "      <td>3192</td>\n",
       "      <td>26.038013</td>\n",
       "      <td>25.994760</td>\n",
       "    </tr>\n",
       "    <tr>\n",
       "      <th>3</th>\n",
       "      <td>TTTGACACACACTCTGCTG</td>\n",
       "      <td>GCAGCAAACTGACGGAGAACCTTGTGGCCC</td>\n",
       "      <td>1595</td>\n",
       "      <td>2</td>\n",
       "      <td>0.125392</td>\n",
       "      <td>4509</td>\n",
       "      <td>2616</td>\n",
       "      <td>58.017299</td>\n",
       "      <td>57.964590</td>\n",
       "    </tr>\n",
       "    <tr>\n",
       "      <th>4</th>\n",
       "      <td>TTTGACACACACTGCATAT</td>\n",
       "      <td>CCGGCAGATATCCGTGAAGGCTCTAGGTAC</td>\n",
       "      <td>2770</td>\n",
       "      <td>2</td>\n",
       "      <td>0.072202</td>\n",
       "      <td>8716</td>\n",
       "      <td>3434</td>\n",
       "      <td>39.398807</td>\n",
       "      <td>39.355020</td>\n",
       "    </tr>\n",
       "    <tr>\n",
       "      <th>...</th>\n",
       "      <td>...</td>\n",
       "      <td>...</td>\n",
       "      <td>...</td>\n",
       "      <td>...</td>\n",
       "      <td>...</td>\n",
       "      <td>...</td>\n",
       "      <td>...</td>\n",
       "      <td>...</td>\n",
       "      <td>...</td>\n",
       "    </tr>\n",
       "    <tr>\n",
       "      <th>12827</th>\n",
       "      <td>TTTGTGTGTCTCGTATCAC</td>\n",
       "      <td>GGGAATACGACGACCAGAGAGCGCTGGAGA</td>\n",
       "      <td>2361</td>\n",
       "      <td>0</td>\n",
       "      <td>0.000000</td>\n",
       "      <td>7571</td>\n",
       "      <td>3093</td>\n",
       "      <td>40.853256</td>\n",
       "      <td>40.853256</td>\n",
       "    </tr>\n",
       "    <tr>\n",
       "      <th>12828</th>\n",
       "      <td>TTTGTGTGTCTCTACACGC</td>\n",
       "      <td>TCATGGATTTCCTGGCTCGGGGACTGGTCT</td>\n",
       "      <td>3748</td>\n",
       "      <td>2</td>\n",
       "      <td>0.053362</td>\n",
       "      <td>15241</td>\n",
       "      <td>1757</td>\n",
       "      <td>11.528115</td>\n",
       "      <td>11.480880</td>\n",
       "    </tr>\n",
       "    <tr>\n",
       "      <th>12829</th>\n",
       "      <td>TTTGTGTGTCTCTCACGTA</td>\n",
       "      <td>GCCTTGTTTCTTTCCTCTCTGGGTCGGATT</td>\n",
       "      <td>2505</td>\n",
       "      <td>3</td>\n",
       "      <td>0.119760</td>\n",
       "      <td>7181</td>\n",
       "      <td>4589</td>\n",
       "      <td>63.904749</td>\n",
       "      <td>63.861469</td>\n",
       "    </tr>\n",
       "    <tr>\n",
       "      <th>12830</th>\n",
       "      <td>TTTGTGTGTCTCTCTAGTC</td>\n",
       "      <td>TCGCACCTGATAGAGCATGTGACAAGGAGA</td>\n",
       "      <td>3175</td>\n",
       "      <td>1</td>\n",
       "      <td>0.031496</td>\n",
       "      <td>9873</td>\n",
       "      <td>5101</td>\n",
       "      <td>51.666160</td>\n",
       "      <td>51.650932</td>\n",
       "    </tr>\n",
       "    <tr>\n",
       "      <th>12831</th>\n",
       "      <td>TTTGTGTGTCTCTCTCAGA</td>\n",
       "      <td>CCCTCTGCGCATGGTCTTCCGGGGTGGCTC</td>\n",
       "      <td>4879</td>\n",
       "      <td>9</td>\n",
       "      <td>0.184464</td>\n",
       "      <td>16337</td>\n",
       "      <td>6556</td>\n",
       "      <td>40.129767</td>\n",
       "      <td>40.019124</td>\n",
       "    </tr>\n",
       "  </tbody>\n",
       "</table>\n",
       "<p>12832 rows × 9 columns</p>\n",
       "</div>"
      ],
      "text/plain": [
       "                   Barcode         Target context sequence  \\\n",
       "0      TTTGACACACACGCACTAG  TTCTGCCTTGTTTCTTTCCTCTCTGGGTCG   \n",
       "1      TTTGACACACACTCGTATG  ACGACCTTCAGCTCAGTGACAGTGAGGACA   \n",
       "2      TTTGACACACACTCTCGTC  AGGACGACGACTACAATAAGCCTCTGGATC   \n",
       "3      TTTGACACACACTCTGCTG  GCAGCAAACTGACGGAGAACCTTGTGGCCC   \n",
       "4      TTTGACACACACTGCATAT  CCGGCAGATATCCGTGAAGGCTCTAGGTAC   \n",
       "...                    ...                             ...   \n",
       "12827  TTTGTGTGTCTCGTATCAC  GGGAATACGACGACCAGAGAGCGCTGGAGA   \n",
       "12828  TTTGTGTGTCTCTACACGC  TCATGGATTTCCTGGCTCGGGGACTGGTCT   \n",
       "12829  TTTGTGTGTCTCTCACGTA  GCCTTGTTTCTTTCCTCTCTGGGTCGGATT   \n",
       "12830  TTTGTGTGTCTCTCTAGTC  TCGCACCTGATAGAGCATGTGACAAGGAGA   \n",
       "12831  TTTGTGTGTCTCTCTCAGA  CCCTCTGCGCATGGTCTTCCGGGGTGGCTC   \n",
       "\n",
       "       Total read count (Day 0)  Indel read count\\n(Day 0)  \\\n",
       "0                          2673                          2   \n",
       "1                           458                          0   \n",
       "2                          3422                          2   \n",
       "3                          1595                          2   \n",
       "4                          2770                          2   \n",
       "...                         ...                        ...   \n",
       "12827                      2361                          0   \n",
       "12828                      3748                          2   \n",
       "12829                      2505                          3   \n",
       "12830                      3175                          1   \n",
       "12831                      4879                          9   \n",
       "\n",
       "       Background\\nindel frequencies (%)  Total read count\\n(Day 2.9)  \\\n",
       "0                               0.074822                         9801   \n",
       "1                               0.000000                         1141   \n",
       "2                               0.058445                        12259   \n",
       "3                               0.125392                         4509   \n",
       "4                               0.072202                         8716   \n",
       "...                                  ...                          ...   \n",
       "12827                           0.000000                         7571   \n",
       "12828                           0.053362                        15241   \n",
       "12829                           0.119760                         7181   \n",
       "12830                           0.031496                         9873   \n",
       "12831                           0.184464                        16337   \n",
       "\n",
       "       Indel read count\\n(Day 2.9)  Indel frequencies (%)  \\\n",
       "0                             2386              24.344455   \n",
       "1                              793              69.500438   \n",
       "2                             3192              26.038013   \n",
       "3                             2616              58.017299   \n",
       "4                             3434              39.398807   \n",
       "...                            ...                    ...   \n",
       "12827                         3093              40.853256   \n",
       "12828                         1757              11.528115   \n",
       "12829                         4589              63.904749   \n",
       "12830                         5101              51.666160   \n",
       "12831                         6556              40.129767   \n",
       "\n",
       "       Background subtracted indel  \n",
       "0                        24.287805  \n",
       "1                        69.500438  \n",
       "2                        25.994760  \n",
       "3                        57.964590  \n",
       "4                        39.355020  \n",
       "...                            ...  \n",
       "12827                    40.853256  \n",
       "12828                    11.480880  \n",
       "12829                    63.861469  \n",
       "12830                    51.650932  \n",
       "12831                    40.019124  \n",
       "\n",
       "[12832 rows x 9 columns]"
      ]
     },
     "execution_count": 13,
     "metadata": {},
     "output_type": "execute_result"
    }
   ],
   "source": [
    "df"
   ]
  },
  {
   "cell_type": "code",
   "execution_count": 130,
   "metadata": {},
   "outputs": [],
   "source": [
    "selected_df = pd.read_csv(file_name, usecols=['Background subtracted indel','Background subtracted indel','Target context sequence', 'Target context sequence'])"
   ]
  },
  {
   "cell_type": "code",
   "execution_count": 131,
   "metadata": {},
   "outputs": [
    {
     "data": {
      "text/html": [
       "<div>\n",
       "<style scoped>\n",
       "    .dataframe tbody tr th:only-of-type {\n",
       "        vertical-align: middle;\n",
       "    }\n",
       "\n",
       "    .dataframe tbody tr th {\n",
       "        vertical-align: top;\n",
       "    }\n",
       "\n",
       "    .dataframe thead th {\n",
       "        text-align: right;\n",
       "    }\n",
       "</style>\n",
       "<table border=\"1\" class=\"dataframe\">\n",
       "  <thead>\n",
       "    <tr style=\"text-align: right;\">\n",
       "      <th></th>\n",
       "      <th>Target context sequence</th>\n",
       "      <th>Background subtracted indel</th>\n",
       "    </tr>\n",
       "  </thead>\n",
       "  <tbody>\n",
       "    <tr>\n",
       "      <th>0</th>\n",
       "      <td>TTCTGCCTTGTTTCTTTCCTCTCTGGGTCG</td>\n",
       "      <td>24.287805</td>\n",
       "    </tr>\n",
       "    <tr>\n",
       "      <th>1</th>\n",
       "      <td>ACGACCTTCAGCTCAGTGACAGTGAGGACA</td>\n",
       "      <td>69.500438</td>\n",
       "    </tr>\n",
       "    <tr>\n",
       "      <th>2</th>\n",
       "      <td>AGGACGACGACTACAATAAGCCTCTGGATC</td>\n",
       "      <td>25.994760</td>\n",
       "    </tr>\n",
       "    <tr>\n",
       "      <th>3</th>\n",
       "      <td>GCAGCAAACTGACGGAGAACCTTGTGGCCC</td>\n",
       "      <td>57.964590</td>\n",
       "    </tr>\n",
       "    <tr>\n",
       "      <th>4</th>\n",
       "      <td>CCGGCAGATATCCGTGAAGGCTCTAGGTAC</td>\n",
       "      <td>39.355020</td>\n",
       "    </tr>\n",
       "    <tr>\n",
       "      <th>...</th>\n",
       "      <td>...</td>\n",
       "      <td>...</td>\n",
       "    </tr>\n",
       "    <tr>\n",
       "      <th>12827</th>\n",
       "      <td>GGGAATACGACGACCAGAGAGCGCTGGAGA</td>\n",
       "      <td>40.853256</td>\n",
       "    </tr>\n",
       "    <tr>\n",
       "      <th>12828</th>\n",
       "      <td>TCATGGATTTCCTGGCTCGGGGACTGGTCT</td>\n",
       "      <td>11.480880</td>\n",
       "    </tr>\n",
       "    <tr>\n",
       "      <th>12829</th>\n",
       "      <td>GCCTTGTTTCTTTCCTCTCTGGGTCGGATT</td>\n",
       "      <td>63.861469</td>\n",
       "    </tr>\n",
       "    <tr>\n",
       "      <th>12830</th>\n",
       "      <td>TCGCACCTGATAGAGCATGTGACAAGGAGA</td>\n",
       "      <td>51.650932</td>\n",
       "    </tr>\n",
       "    <tr>\n",
       "      <th>12831</th>\n",
       "      <td>CCCTCTGCGCATGGTCTTCCGGGGTGGCTC</td>\n",
       "      <td>40.019124</td>\n",
       "    </tr>\n",
       "  </tbody>\n",
       "</table>\n",
       "<p>12832 rows × 2 columns</p>\n",
       "</div>"
      ],
      "text/plain": [
       "              Target context sequence  Background subtracted indel\n",
       "0      TTCTGCCTTGTTTCTTTCCTCTCTGGGTCG                    24.287805\n",
       "1      ACGACCTTCAGCTCAGTGACAGTGAGGACA                    69.500438\n",
       "2      AGGACGACGACTACAATAAGCCTCTGGATC                    25.994760\n",
       "3      GCAGCAAACTGACGGAGAACCTTGTGGCCC                    57.964590\n",
       "4      CCGGCAGATATCCGTGAAGGCTCTAGGTAC                    39.355020\n",
       "...                               ...                          ...\n",
       "12827  GGGAATACGACGACCAGAGAGCGCTGGAGA                    40.853256\n",
       "12828  TCATGGATTTCCTGGCTCGGGGACTGGTCT                    11.480880\n",
       "12829  GCCTTGTTTCTTTCCTCTCTGGGTCGGATT                    63.861469\n",
       "12830  TCGCACCTGATAGAGCATGTGACAAGGAGA                    51.650932\n",
       "12831  CCCTCTGCGCATGGTCTTCCGGGGTGGCTC                    40.019124\n",
       "\n",
       "[12832 rows x 2 columns]"
      ]
     },
     "execution_count": 131,
     "metadata": {},
     "output_type": "execute_result"
    }
   ],
   "source": [
    "selected_df"
   ]
  },
  {
   "cell_type": "code",
   "execution_count": 48,
   "metadata": {},
   "outputs": [],
   "source": []
  },
  {
   "cell_type": "code",
   "execution_count": 50,
   "metadata": {},
   "outputs": [],
   "source": [
    "#%%timeit\n",
    "indel = np.array(selected_df['Background subtracted indel'])"
   ]
  },
  {
   "cell_type": "code",
   "execution_count": 39,
   "metadata": {},
   "outputs": [
    {
     "name": "stdout",
     "output_type": "stream",
     "text": [
      "5.46 µs ± 14.8 ns per loop (mean ± std. dev. of 7 runs, 100000 loops each)\n"
     ]
    }
   ],
   "source": [
    "%%timeit\n",
    "indel.max()"
   ]
  },
  {
   "cell_type": "code",
   "execution_count": 40,
   "metadata": {},
   "outputs": [
    {
     "name": "stdout",
     "output_type": "stream",
     "text": [
      "3.33 µs ± 15.4 ns per loop (mean ± std. dev. of 7 runs, 100000 loops each)\n"
     ]
    }
   ],
   "source": [
    "%%timeit\n",
    "any(indel > 1.1)"
   ]
  },
  {
   "cell_type": "code",
   "execution_count": 32,
   "metadata": {},
   "outputs": [
    {
     "data": {
      "text/plain": [
       "True"
      ]
     },
     "execution_count": 32,
     "metadata": {},
     "output_type": "execute_result"
    }
   ],
   "source": [
    "any(indel > 1.1)"
   ]
  },
  {
   "cell_type": "code",
   "execution_count": 44,
   "metadata": {},
   "outputs": [],
   "source": [
    "test_list = [0,1,2,3,4,-0.5,-1]"
   ]
  },
  {
   "cell_type": "code",
   "execution_count": 47,
   "metadata": {},
   "outputs": [
    {
     "data": {
      "text/plain": [
       "[0, 1, 2, 3, 4, 0, 0]"
      ]
     },
     "execution_count": 47,
     "metadata": {},
     "output_type": "execute_result"
    }
   ],
   "source": [
    "list(map(lambda x: 0 if x < 0 else x, test_list))"
   ]
  },
  {
   "cell_type": "code",
   "execution_count": 66,
   "metadata": {},
   "outputs": [],
   "source": [
    "def indel_change(indel_list):\n",
    "    indel_list = np.array(indel_list)\n",
    "    if indel_list.max() > 1.0:\n",
    "        new_indel_list = list(map(lambda x: x/100, indel_list))\n",
    "    else:\n",
    "        new_indel_list = indel_list\n",
    "    new_indel_list = list(map(lambda x: 0 if x < 0 else x, new_indel_list))\n",
    "    return np.array(new_indel_list)"
   ]
  },
  {
   "cell_type": "code",
   "execution_count": 67,
   "metadata": {},
   "outputs": [],
   "source": [
    "new_indel = indel_change(indel)"
   ]
  },
  {
   "cell_type": "code",
   "execution_count": 96,
   "metadata": {},
   "outputs": [
    {
     "data": {
      "text/plain": [
       "array([0., 0., 0.])"
      ]
     },
     "execution_count": 96,
     "metadata": {},
     "output_type": "execute_result"
    }
   ],
   "source": [
    "np.zeros(3)"
   ]
  },
  {
   "cell_type": "code",
   "execution_count": 97,
   "metadata": {},
   "outputs": [
    {
     "data": {
      "text/plain": [
       "[0, 0, 0]"
      ]
     },
     "execution_count": 97,
     "metadata": {},
     "output_type": "execute_result"
    }
   ],
   "source": [
    "[0]*3"
   ]
  },
  {
   "cell_type": "code",
   "execution_count": 108,
   "metadata": {},
   "outputs": [],
   "source": [
    "#%%timeit\n",
    "num_indel_class = 11\n",
    "indel_class_one_hot_encoder = {}\n",
    "for i in range(num_indel_class):\n",
    "    rate = i /10\n",
    "    initial_list = [0] * num_indel_class\n",
    "    initial_list[i] = 1\n",
    "    indel_class_one_hot_encoder[rate] = initial_list"
   ]
  },
  {
   "cell_type": "code",
   "execution_count": 109,
   "metadata": {},
   "outputs": [
    {
     "data": {
      "text/plain": [
       "{0.0: [1, 0, 0, 0, 0, 0, 0, 0, 0, 0, 0],\n",
       " 0.1: [0, 1, 0, 0, 0, 0, 0, 0, 0, 0, 0],\n",
       " 0.2: [0, 0, 1, 0, 0, 0, 0, 0, 0, 0, 0],\n",
       " 0.3: [0, 0, 0, 1, 0, 0, 0, 0, 0, 0, 0],\n",
       " 0.4: [0, 0, 0, 0, 1, 0, 0, 0, 0, 0, 0],\n",
       " 0.5: [0, 0, 0, 0, 0, 1, 0, 0, 0, 0, 0],\n",
       " 0.6: [0, 0, 0, 0, 0, 0, 1, 0, 0, 0, 0],\n",
       " 0.7: [0, 0, 0, 0, 0, 0, 0, 1, 0, 0, 0],\n",
       " 0.8: [0, 0, 0, 0, 0, 0, 0, 0, 1, 0, 0],\n",
       " 0.9: [0, 0, 0, 0, 0, 0, 0, 0, 0, 1, 0],\n",
       " 1.0: [0, 0, 0, 0, 0, 0, 0, 0, 0, 0, 1]}"
      ]
     },
     "execution_count": 109,
     "metadata": {},
     "output_type": "execute_result"
    }
   ],
   "source": [
    "indel_class_one_hot_encoder"
   ]
  },
  {
   "cell_type": "code",
   "execution_count": 111,
   "metadata": {},
   "outputs": [
    {
     "data": {
      "text/plain": [
       "[1, 0, 0, 0, 0, 0, 0, 0, 0, 0, 0]"
      ]
     },
     "execution_count": 111,
     "metadata": {},
     "output_type": "execute_result"
    }
   ],
   "source": [
    "indel_class_one_hot_encoder[0.0]"
   ]
  },
  {
   "cell_type": "code",
   "execution_count": 112,
   "metadata": {},
   "outputs": [
    {
     "data": {
      "text/plain": [
       "0.0"
      ]
     },
     "execution_count": 112,
     "metadata": {},
     "output_type": "execute_result"
    }
   ],
   "source": [
    "round(0.0001,1)"
   ]
  },
  {
   "cell_type": "code",
   "execution_count": 113,
   "metadata": {},
   "outputs": [
    {
     "data": {
      "text/plain": [
       "[1, 0, 0, 0, 0, 0, 0, 0, 0, 0, 0]"
      ]
     },
     "execution_count": 113,
     "metadata": {},
     "output_type": "execute_result"
    }
   ],
   "source": [
    "indel_class_one_hot_encoder[round(0.0001,1)]"
   ]
  },
  {
   "cell_type": "code",
   "execution_count": 143,
   "metadata": {},
   "outputs": [],
   "source": [
    "from data_import_preprocessing import import_data_preprocessing"
   ]
  },
  {
   "cell_type": "code",
   "execution_count": 144,
   "metadata": {},
   "outputs": [],
   "source": [
    "train_data_csv = 'HT_Cas9_train.csv'\n",
    "test_data_csv = 'HT_Cas9_test.csv'\n",
    "data_preprocess = import_data_preprocessing(train_data_file_name=train_data_csv,\n",
    "                                           test_data_file_name=test_data_csv)"
   ]
  },
  {
   "cell_type": "code",
   "execution_count": 145,
   "metadata": {},
   "outputs": [
    {
     "data": {
      "text/plain": [
       "['Barcode',\n",
       " 'Target context sequence',\n",
       " 'Total read count (Day 0)',\n",
       " 'Indel read count\\n(Day 0)',\n",
       " 'Background\\nindel frequencies (%)',\n",
       " 'Total read count\\n(Day 2.9)',\n",
       " 'Indel read count\\n(Day 2.9)',\n",
       " 'Indel frequencies (%)',\n",
       " 'Background subtracted indel']"
      ]
     },
     "execution_count": 145,
     "metadata": {},
     "output_type": "execute_result"
    }
   ],
   "source": [
    "data_preprocess.train_data_file_sampel_column"
   ]
  },
  {
   "cell_type": "code",
   "execution_count": 146,
   "metadata": {},
   "outputs": [
    {
     "ename": "ValueError",
     "evalue": "'usecols' must either be list-like of all strings, all unicode, all integers or a callable.",
     "output_type": "error",
     "traceback": [
      "\u001b[0;31m---------------------------------------------------------------------------\u001b[0m",
      "\u001b[0;31mValueError\u001b[0m                                Traceback (most recent call last)",
      "\u001b[0;32m<ipython-input-146-e873fc707a96>\u001b[0m in \u001b[0;36m<module>\u001b[0;34m\u001b[0m\n\u001b[1;32m      1\u001b[0m data_preprocess.Read_csv_file(file_path = train_data_csv, sgRNA_column='Target context sequence',\n\u001b[0;32m----> 2\u001b[0;31m                              indel_column='Background subtracted indel')\n\u001b[0m",
      "\u001b[0;32m~/volume/python/dl-cas9/CNN_autoencoder_keras_2/CAS9_off_target/data_import_preprocessing.py\u001b[0m in \u001b[0;36mRead_csv_file\u001b[0;34m(self, file_path, sgRNA_column, targetDNA_column, indel_column)\u001b[0m\n\u001b[1;32m     61\u001b[0m                       ):\n\u001b[1;32m     62\u001b[0m \u001b[0;34m\u001b[0m\u001b[0m\n\u001b[0;32m---> 63\u001b[0;31m         \u001b[0;31m#if targetDNA_column == None:\u001b[0m\u001b[0;34m\u001b[0m\u001b[0;34m\u001b[0m\u001b[0;34m\u001b[0m\u001b[0m\n\u001b[0m\u001b[1;32m     64\u001b[0m         \u001b[0;31m#    targetDNA_column = sgRNA_column\u001b[0m\u001b[0;34m\u001b[0m\u001b[0;34m\u001b[0m\u001b[0;34m\u001b[0m\u001b[0m\n\u001b[1;32m     65\u001b[0m         \u001b[0mtargetDNA_column\u001b[0m \u001b[0;34m=\u001b[0m \u001b[0msgRNA_column\u001b[0m\u001b[0;34m\u001b[0m\u001b[0;34m\u001b[0m\u001b[0m\n",
      "\u001b[0;32m/usr/local/lib/python3.6/dist-packages/pandas/io/parsers.py\u001b[0m in \u001b[0;36mparser_f\u001b[0;34m(filepath_or_buffer, sep, delimiter, header, names, index_col, usecols, squeeze, prefix, mangle_dupe_cols, dtype, engine, converters, true_values, false_values, skipinitialspace, skiprows, skipfooter, nrows, na_values, keep_default_na, na_filter, verbose, skip_blank_lines, parse_dates, infer_datetime_format, keep_date_col, date_parser, dayfirst, cache_dates, iterator, chunksize, compression, thousands, decimal, lineterminator, quotechar, quoting, doublequote, escapechar, comment, encoding, dialect, error_bad_lines, warn_bad_lines, delim_whitespace, low_memory, memory_map, float_precision)\u001b[0m\n\u001b[1;32m    683\u001b[0m         )\n\u001b[1;32m    684\u001b[0m \u001b[0;34m\u001b[0m\u001b[0m\n\u001b[0;32m--> 685\u001b[0;31m         \u001b[0;32mreturn\u001b[0m \u001b[0m_read\u001b[0m\u001b[0;34m(\u001b[0m\u001b[0mfilepath_or_buffer\u001b[0m\u001b[0;34m,\u001b[0m \u001b[0mkwds\u001b[0m\u001b[0;34m)\u001b[0m\u001b[0;34m\u001b[0m\u001b[0;34m\u001b[0m\u001b[0m\n\u001b[0m\u001b[1;32m    686\u001b[0m \u001b[0;34m\u001b[0m\u001b[0m\n\u001b[1;32m    687\u001b[0m     \u001b[0mparser_f\u001b[0m\u001b[0;34m.\u001b[0m\u001b[0m__name__\u001b[0m \u001b[0;34m=\u001b[0m \u001b[0mname\u001b[0m\u001b[0;34m\u001b[0m\u001b[0;34m\u001b[0m\u001b[0m\n",
      "\u001b[0;32m/usr/local/lib/python3.6/dist-packages/pandas/io/parsers.py\u001b[0m in \u001b[0;36m_read\u001b[0;34m(filepath_or_buffer, kwds)\u001b[0m\n\u001b[1;32m    455\u001b[0m \u001b[0;34m\u001b[0m\u001b[0m\n\u001b[1;32m    456\u001b[0m     \u001b[0;31m# Create the parser.\u001b[0m\u001b[0;34m\u001b[0m\u001b[0;34m\u001b[0m\u001b[0;34m\u001b[0m\u001b[0m\n\u001b[0;32m--> 457\u001b[0;31m     \u001b[0mparser\u001b[0m \u001b[0;34m=\u001b[0m \u001b[0mTextFileReader\u001b[0m\u001b[0;34m(\u001b[0m\u001b[0mfp_or_buf\u001b[0m\u001b[0;34m,\u001b[0m \u001b[0;34m**\u001b[0m\u001b[0mkwds\u001b[0m\u001b[0;34m)\u001b[0m\u001b[0;34m\u001b[0m\u001b[0;34m\u001b[0m\u001b[0m\n\u001b[0m\u001b[1;32m    458\u001b[0m \u001b[0;34m\u001b[0m\u001b[0m\n\u001b[1;32m    459\u001b[0m     \u001b[0;32mif\u001b[0m \u001b[0mchunksize\u001b[0m \u001b[0;32mor\u001b[0m \u001b[0miterator\u001b[0m\u001b[0;34m:\u001b[0m\u001b[0;34m\u001b[0m\u001b[0;34m\u001b[0m\u001b[0m\n",
      "\u001b[0;32m/usr/local/lib/python3.6/dist-packages/pandas/io/parsers.py\u001b[0m in \u001b[0;36m__init__\u001b[0;34m(self, f, engine, **kwds)\u001b[0m\n\u001b[1;32m    893\u001b[0m             \u001b[0mself\u001b[0m\u001b[0;34m.\u001b[0m\u001b[0moptions\u001b[0m\u001b[0;34m[\u001b[0m\u001b[0;34m\"has_index_names\"\u001b[0m\u001b[0;34m]\u001b[0m \u001b[0;34m=\u001b[0m \u001b[0mkwds\u001b[0m\u001b[0;34m[\u001b[0m\u001b[0;34m\"has_index_names\"\u001b[0m\u001b[0;34m]\u001b[0m\u001b[0;34m\u001b[0m\u001b[0;34m\u001b[0m\u001b[0m\n\u001b[1;32m    894\u001b[0m \u001b[0;34m\u001b[0m\u001b[0m\n\u001b[0;32m--> 895\u001b[0;31m         \u001b[0mself\u001b[0m\u001b[0;34m.\u001b[0m\u001b[0m_make_engine\u001b[0m\u001b[0;34m(\u001b[0m\u001b[0mself\u001b[0m\u001b[0;34m.\u001b[0m\u001b[0mengine\u001b[0m\u001b[0;34m)\u001b[0m\u001b[0;34m\u001b[0m\u001b[0;34m\u001b[0m\u001b[0m\n\u001b[0m\u001b[1;32m    896\u001b[0m \u001b[0;34m\u001b[0m\u001b[0m\n\u001b[1;32m    897\u001b[0m     \u001b[0;32mdef\u001b[0m \u001b[0mclose\u001b[0m\u001b[0;34m(\u001b[0m\u001b[0mself\u001b[0m\u001b[0;34m)\u001b[0m\u001b[0;34m:\u001b[0m\u001b[0;34m\u001b[0m\u001b[0;34m\u001b[0m\u001b[0m\n",
      "\u001b[0;32m/usr/local/lib/python3.6/dist-packages/pandas/io/parsers.py\u001b[0m in \u001b[0;36m_make_engine\u001b[0;34m(self, engine)\u001b[0m\n\u001b[1;32m   1133\u001b[0m     \u001b[0;32mdef\u001b[0m \u001b[0m_make_engine\u001b[0m\u001b[0;34m(\u001b[0m\u001b[0mself\u001b[0m\u001b[0;34m,\u001b[0m \u001b[0mengine\u001b[0m\u001b[0;34m=\u001b[0m\u001b[0;34m\"c\"\u001b[0m\u001b[0;34m)\u001b[0m\u001b[0;34m:\u001b[0m\u001b[0;34m\u001b[0m\u001b[0;34m\u001b[0m\u001b[0m\n\u001b[1;32m   1134\u001b[0m         \u001b[0;32mif\u001b[0m \u001b[0mengine\u001b[0m \u001b[0;34m==\u001b[0m \u001b[0;34m\"c\"\u001b[0m\u001b[0;34m:\u001b[0m\u001b[0;34m\u001b[0m\u001b[0;34m\u001b[0m\u001b[0m\n\u001b[0;32m-> 1135\u001b[0;31m             \u001b[0mself\u001b[0m\u001b[0;34m.\u001b[0m\u001b[0m_engine\u001b[0m \u001b[0;34m=\u001b[0m \u001b[0mCParserWrapper\u001b[0m\u001b[0;34m(\u001b[0m\u001b[0mself\u001b[0m\u001b[0;34m.\u001b[0m\u001b[0mf\u001b[0m\u001b[0;34m,\u001b[0m \u001b[0;34m**\u001b[0m\u001b[0mself\u001b[0m\u001b[0;34m.\u001b[0m\u001b[0moptions\u001b[0m\u001b[0;34m)\u001b[0m\u001b[0;34m\u001b[0m\u001b[0;34m\u001b[0m\u001b[0m\n\u001b[0m\u001b[1;32m   1136\u001b[0m         \u001b[0;32melse\u001b[0m\u001b[0;34m:\u001b[0m\u001b[0;34m\u001b[0m\u001b[0;34m\u001b[0m\u001b[0m\n\u001b[1;32m   1137\u001b[0m             \u001b[0;32mif\u001b[0m \u001b[0mengine\u001b[0m \u001b[0;34m==\u001b[0m \u001b[0;34m\"python\"\u001b[0m\u001b[0;34m:\u001b[0m\u001b[0;34m\u001b[0m\u001b[0;34m\u001b[0m\u001b[0m\n",
      "\u001b[0;32m/usr/local/lib/python3.6/dist-packages/pandas/io/parsers.py\u001b[0m in \u001b[0;36m__init__\u001b[0;34m(self, src, **kwds)\u001b[0m\n\u001b[1;32m   1912\u001b[0m \u001b[0;34m\u001b[0m\u001b[0m\n\u001b[1;32m   1913\u001b[0m         \u001b[0;31m# GH20529, validate usecol arg before TextReader\u001b[0m\u001b[0;34m\u001b[0m\u001b[0;34m\u001b[0m\u001b[0;34m\u001b[0m\u001b[0m\n\u001b[0;32m-> 1914\u001b[0;31m         \u001b[0mself\u001b[0m\u001b[0;34m.\u001b[0m\u001b[0musecols\u001b[0m\u001b[0;34m,\u001b[0m \u001b[0mself\u001b[0m\u001b[0;34m.\u001b[0m\u001b[0musecols_dtype\u001b[0m \u001b[0;34m=\u001b[0m \u001b[0m_validate_usecols_arg\u001b[0m\u001b[0;34m(\u001b[0m\u001b[0mkwds\u001b[0m\u001b[0;34m[\u001b[0m\u001b[0;34m\"usecols\"\u001b[0m\u001b[0;34m]\u001b[0m\u001b[0;34m)\u001b[0m\u001b[0;34m\u001b[0m\u001b[0;34m\u001b[0m\u001b[0m\n\u001b[0m\u001b[1;32m   1915\u001b[0m         \u001b[0mkwds\u001b[0m\u001b[0;34m[\u001b[0m\u001b[0;34m\"usecols\"\u001b[0m\u001b[0;34m]\u001b[0m \u001b[0;34m=\u001b[0m \u001b[0mself\u001b[0m\u001b[0;34m.\u001b[0m\u001b[0musecols\u001b[0m\u001b[0;34m\u001b[0m\u001b[0;34m\u001b[0m\u001b[0m\n\u001b[1;32m   1916\u001b[0m \u001b[0;34m\u001b[0m\u001b[0m\n",
      "\u001b[0;32m/usr/local/lib/python3.6/dist-packages/pandas/io/parsers.py\u001b[0m in \u001b[0;36m_validate_usecols_arg\u001b[0;34m(usecols)\u001b[0m\n\u001b[1;32m   1332\u001b[0m \u001b[0;34m\u001b[0m\u001b[0m\n\u001b[1;32m   1333\u001b[0m         \u001b[0;32mif\u001b[0m \u001b[0musecols_dtype\u001b[0m \u001b[0;32mnot\u001b[0m \u001b[0;32min\u001b[0m \u001b[0;34m(\u001b[0m\u001b[0;34m\"empty\"\u001b[0m\u001b[0;34m,\u001b[0m \u001b[0;34m\"integer\"\u001b[0m\u001b[0;34m,\u001b[0m \u001b[0;34m\"string\"\u001b[0m\u001b[0;34m,\u001b[0m \u001b[0;34m\"unicode\"\u001b[0m\u001b[0;34m)\u001b[0m\u001b[0;34m:\u001b[0m\u001b[0;34m\u001b[0m\u001b[0;34m\u001b[0m\u001b[0m\n\u001b[0;32m-> 1334\u001b[0;31m             \u001b[0;32mraise\u001b[0m \u001b[0mValueError\u001b[0m\u001b[0;34m(\u001b[0m\u001b[0mmsg\u001b[0m\u001b[0;34m)\u001b[0m\u001b[0;34m\u001b[0m\u001b[0;34m\u001b[0m\u001b[0m\n\u001b[0m\u001b[1;32m   1335\u001b[0m \u001b[0;34m\u001b[0m\u001b[0m\n\u001b[1;32m   1336\u001b[0m         \u001b[0musecols\u001b[0m \u001b[0;34m=\u001b[0m \u001b[0mset\u001b[0m\u001b[0;34m(\u001b[0m\u001b[0musecols\u001b[0m\u001b[0;34m)\u001b[0m\u001b[0;34m\u001b[0m\u001b[0;34m\u001b[0m\u001b[0m\n",
      "\u001b[0;31mValueError\u001b[0m: 'usecols' must either be list-like of all strings, all unicode, all integers or a callable."
     ]
    }
   ],
   "source": [
    "data_preprocess.Read_csv_file(file_path = train_data_csv, sgRNA_column='Target context sequence',\n",
    "                             indel_column='Background subtracted indel')"
   ]
  },
  {
   "cell_type": "code",
   "execution_count": null,
   "metadata": {},
   "outputs": [],
   "source": []
  }
 ],
 "metadata": {
  "kernelspec": {
   "display_name": "Python 3",
   "language": "python",
   "name": "python3"
  },
  "language_info": {
   "codemirror_mode": {
    "name": "ipython",
    "version": 3
   },
   "file_extension": ".py",
   "mimetype": "text/x-python",
   "name": "python",
   "nbconvert_exporter": "python",
   "pygments_lexer": "ipython3",
   "version": "3.6.9"
  }
 },
 "nbformat": 4,
 "nbformat_minor": 4
}
