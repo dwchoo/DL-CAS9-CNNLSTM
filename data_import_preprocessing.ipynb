{
 "cells": [
  {
   "cell_type": "code",
   "execution_count": 1,
   "metadata": {},
   "outputs": [],
   "source": [
    "import numpy as np\n",
    "from sklearn.model_selection import train_test_split\n",
    "from data_import_preprocessing import import_data_preprocessing"
   ]
  },
  {
   "cell_type": "code",
   "execution_count": 2,
   "metadata": {},
   "outputs": [],
   "source": [
    "train_data_csv = 'HT_Cas9_train.csv'\n",
    "test_data_csv = 'HT_Cas9_test.csv'\n",
    "data_preprocess = import_data_preprocessing(train_data_file_name=train_data_csv,\n",
    "                                           test_data_file_name=test_data_csv,\n",
    "                                           cut_off_read_count=0)"
   ]
  },
  {
   "cell_type": "code",
   "execution_count": 3,
   "metadata": {},
   "outputs": [
    {
     "data": {
      "text/plain": [
       "['Barcode',\n",
       " 'Target context sequence',\n",
       " 'Total read count (Day 0)',\n",
       " 'Indel read count\\n(Day 0)',\n",
       " 'Background\\nindel frequencies (%)',\n",
       " 'Total read count\\n(Day 2.9)',\n",
       " 'Indel read count\\n(Day 2.9)',\n",
       " 'Indel frequencies (%)',\n",
       " 'Background subtracted indel']"
      ]
     },
     "execution_count": 3,
     "metadata": {},
     "output_type": "execute_result"
    }
   ],
   "source": [
    "data_preprocess.train_data_file_sample_column"
   ]
  },
  {
   "cell_type": "code",
   "execution_count": 4,
   "metadata": {},
   "outputs": [],
   "source": [
    "read_csv = data_preprocess.Read_csv_file(file_path = train_data_csv, sgRNA_column='Target context sequence',\n",
    "                                        indel_column='Background subtracted indel',\n",
    "                                        read_cnt_column='Indel read count\\n(Day 0)'\n",
    "                                        )"
   ]
  },
  {
   "cell_type": "code",
   "execution_count": 5,
   "metadata": {},
   "outputs": [],
   "source": [
    "#%%timeit\n",
    "data = data_preprocess.train_data_preprocessing_ontarget(sgRNA_column='Target context sequence',\n",
    "                                                        indel_column='Background subtracted indel'\n",
    "                                                        )"
   ]
  },
  {
   "cell_type": "code",
   "execution_count": 6,
   "metadata": {},
   "outputs": [],
   "source": [
    "train_data, test_data = data_preprocess.split_data(dictionary_data=data, test_size=0.1)"
   ]
  },
  {
   "cell_type": "code",
   "execution_count": 7,
   "metadata": {},
   "outputs": [
    {
     "data": {
      "text/plain": [
       "{'seq': array([[[0, 1, 0, 0],\n",
       "         [1, 0, 0, 0],\n",
       "         [0, 0, 1, 0],\n",
       "         ...,\n",
       "         [0, 0, 0, 1],\n",
       "         [0, 0, 1, 0],\n",
       "         [0, 0, 1, 0]],\n",
       " \n",
       "        [[0, 0, 0, 1],\n",
       "         [0, 0, 0, 1],\n",
       "         [0, 0, 0, 1],\n",
       "         ...,\n",
       "         [0, 0, 0, 1],\n",
       "         [0, 0, 0, 1],\n",
       "         [1, 0, 0, 0]],\n",
       " \n",
       "        [[0, 0, 1, 0],\n",
       "         [1, 0, 0, 0],\n",
       "         [0, 1, 0, 0],\n",
       "         ...,\n",
       "         [0, 1, 0, 0],\n",
       "         [0, 0, 0, 1],\n",
       "         [0, 0, 1, 0]],\n",
       " \n",
       "        ...,\n",
       " \n",
       "        [[0, 0, 1, 0],\n",
       "         [1, 0, 0, 0],\n",
       "         [0, 0, 1, 0],\n",
       "         ...,\n",
       "         [0, 0, 0, 1],\n",
       "         [0, 1, 0, 0],\n",
       "         [0, 0, 0, 1]],\n",
       " \n",
       "        [[1, 0, 0, 0],\n",
       "         [0, 0, 1, 0],\n",
       "         [0, 0, 1, 0],\n",
       "         ...,\n",
       "         [1, 0, 0, 0],\n",
       "         [1, 0, 0, 0],\n",
       "         [0, 1, 0, 0]],\n",
       " \n",
       "        [[0, 1, 0, 0],\n",
       "         [1, 0, 0, 0],\n",
       "         [0, 0, 0, 1],\n",
       "         ...,\n",
       "         [0, 1, 0, 0],\n",
       "         [1, 0, 0, 0],\n",
       "         [0, 1, 0, 0]]]),\n",
       " 'indel_rate': array([0.77569164, 0.62286272, 0.4753667 , ..., 0.28962179, 0.66980416,\n",
       "        0.49240559]),\n",
       " 'indel_class': array([[0, 0, 0, ..., 1, 0, 0],\n",
       "        [0, 0, 0, ..., 0, 0, 0],\n",
       "        [0, 0, 0, ..., 0, 0, 0],\n",
       "        ...,\n",
       "        [0, 0, 0, ..., 0, 0, 0],\n",
       "        [0, 0, 0, ..., 0, 0, 0],\n",
       "        [0, 0, 0, ..., 0, 0, 0]]),\n",
       " 'read_cnt': None,\n",
       " 'info': array([['CAGAGATGTCCAGCGGGGGCAGCGGGGTGG', 0.7756916363],\n",
       "        ['TTTTCAGATTAGTGATGATGAACCAGGTTA', 0.6228627151],\n",
       "        ['GACGGAGGCAAAGCCCCGGCGAGATGGCTG', 0.47536670020000005],\n",
       "        ...,\n",
       "        ['GAGGGCTGTAGGGGCAACTAGGGCGGGTCT', 0.2896217921],\n",
       "        ['AGGACCGTCTGCCCTCCATAGTGGTGGAAC', 0.6698041585],\n",
       "        ['CATAATCGCCGTGGCCCGCCGCAATGGCAC', 0.4924055928]], dtype=object)}"
      ]
     },
     "execution_count": 7,
     "metadata": {},
     "output_type": "execute_result"
    }
   ],
   "source": [
    "train_data"
   ]
  },
  {
   "cell_type": "code",
   "execution_count": 8,
   "metadata": {},
   "outputs": [
    {
     "data": {
      "text/plain": [
       "(11548, 30, 4)"
      ]
     },
     "execution_count": 8,
     "metadata": {},
     "output_type": "execute_result"
    }
   ],
   "source": [
    "train_data['seq'].shape"
   ]
  },
  {
   "cell_type": "code",
   "execution_count": 9,
   "metadata": {},
   "outputs": [],
   "source": [
    "on_data = data_preprocess.main(sgRNA_column='Target context sequence',\n",
    "                                                        indel_column='Background subtracted indel'\n",
    "                                                        )"
   ]
  },
  {
   "cell_type": "code",
   "execution_count": 10,
   "metadata": {},
   "outputs": [
    {
     "data": {
      "text/plain": [
       "{'train': None, 'val': None, 'total': {'seq': array([[[0, 0, 0, 1],\n",
       "          [0, 0, 0, 1],\n",
       "          [0, 1, 0, 0],\n",
       "          ...,\n",
       "          [0, 0, 0, 1],\n",
       "          [0, 1, 0, 0],\n",
       "          [0, 0, 1, 0]],\n",
       "  \n",
       "         [[1, 0, 0, 0],\n",
       "          [0, 1, 0, 0],\n",
       "          [0, 0, 1, 0],\n",
       "          ...,\n",
       "          [1, 0, 0, 0],\n",
       "          [0, 1, 0, 0],\n",
       "          [1, 0, 0, 0]],\n",
       "  \n",
       "         [[1, 0, 0, 0],\n",
       "          [0, 0, 1, 0],\n",
       "          [0, 0, 1, 0],\n",
       "          ...,\n",
       "          [1, 0, 0, 0],\n",
       "          [0, 0, 0, 1],\n",
       "          [0, 1, 0, 0]],\n",
       "  \n",
       "         ...,\n",
       "  \n",
       "         [[0, 0, 1, 0],\n",
       "          [0, 1, 0, 0],\n",
       "          [0, 1, 0, 0],\n",
       "          ...,\n",
       "          [1, 0, 0, 0],\n",
       "          [0, 0, 0, 1],\n",
       "          [0, 0, 0, 1]],\n",
       "  \n",
       "         [[0, 0, 0, 1],\n",
       "          [0, 1, 0, 0],\n",
       "          [0, 0, 1, 0],\n",
       "          ...,\n",
       "          [1, 0, 0, 0],\n",
       "          [0, 0, 1, 0],\n",
       "          [1, 0, 0, 0]],\n",
       "  \n",
       "         [[0, 1, 0, 0],\n",
       "          [0, 1, 0, 0],\n",
       "          [0, 1, 0, 0],\n",
       "          ...,\n",
       "          [0, 1, 0, 0],\n",
       "          [0, 0, 0, 1],\n",
       "          [0, 1, 0, 0]]]),\n",
       "  'indel_rate': array([0.24287805, 0.69500438, 0.2599476 , ..., 0.63861469, 0.51650932,\n",
       "         0.40019124]),\n",
       "  'indel_class': array([[0, 0, 1, ..., 0, 0, 0],\n",
       "         [0, 0, 0, ..., 0, 0, 0],\n",
       "         [0, 0, 0, ..., 0, 0, 0],\n",
       "         ...,\n",
       "         [0, 0, 0, ..., 0, 0, 0],\n",
       "         [0, 0, 0, ..., 0, 0, 0],\n",
       "         [0, 0, 0, ..., 0, 0, 0]]),\n",
       "  'read_cnt': None,\n",
       "  'info': array([['TTCTGCCTTGTTTCTTTCCTCTCTGGGTCG', 0.2428780504],\n",
       "         ['ACGACCTTCAGCTCAGTGACAGTGAGGACA', 0.6950043821],\n",
       "         ['AGGACGACGACTACAATAAGCCTCTGGATC', 0.2599476026],\n",
       "         ...,\n",
       "         ['GCCTTGTTTCTTTCCTCTCTGGGTCGGATT', 0.6386146896],\n",
       "         ['TCGCACCTGATAGAGCATGTGACAAGGAGA', 0.5165093218],\n",
       "         ['CCCTCTGCGCATGGTCTTCCGGGGTGGCTC', 0.4001912365]], dtype=object)}}"
      ]
     },
     "execution_count": 10,
     "metadata": {},
     "output_type": "execute_result"
    }
   ],
   "source": [
    "on_data"
   ]
  },
  {
   "cell_type": "code",
   "execution_count": null,
   "metadata": {},
   "outputs": [],
   "source": []
  }
 ],
 "metadata": {
  "kernelspec": {
   "display_name": "Python 3",
   "language": "python",
   "name": "python3"
  },
  "language_info": {
   "codemirror_mode": {
    "name": "ipython",
    "version": 3
   },
   "file_extension": ".py",
   "mimetype": "text/x-python",
   "name": "python",
   "nbconvert_exporter": "python",
   "pygments_lexer": "ipython3",
   "version": "3.6.9"
  }
 },
 "nbformat": 4,
 "nbformat_minor": 4
}
