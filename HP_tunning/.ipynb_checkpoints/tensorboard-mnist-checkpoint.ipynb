{
 "cells": [
  {
   "cell_type": "code",
   "execution_count": 1,
   "metadata": {},
   "outputs": [],
   "source": [
    "%matplotlib inline\n",
    "%load_ext autoreload\n",
    "%autoreload 2\n",
    "%config InlineBackend.figure_format ='retina'\n",
    "%load_ext tensorboard"
   ]
  },
  {
   "cell_type": "code",
   "execution_count": 2,
   "metadata": {},
   "outputs": [],
   "source": [
    "import numpy as np\n",
    "from datetime import datetime\n",
    "import matplotlib.pyplot as plt\n",
    "import sklearn.metrics\n",
    "import itertools\n",
    "import io"
   ]
  },
  {
   "cell_type": "code",
   "execution_count": 3,
   "metadata": {},
   "outputs": [],
   "source": [
    "\n",
    "import tensorflow as tf\n",
    "gpus = tf.config.experimental.list_physical_devices('GPU')\n",
    "if gpus:\n",
    "    gpu_num = 1\n",
    "    try:\n",
    "        tf.config.experimental.set_visible_devices(gpus[gpu_num], 'GPU')\n",
    "        tf.config.experimental.set_memory_growth(gpus[gpu_num], True)\n",
    "    except RuntimeError as e:\n",
    "        print(e)"
   ]
  },
  {
   "cell_type": "code",
   "execution_count": 4,
   "metadata": {},
   "outputs": [],
   "source": [
    "from mnist import mnist"
   ]
  },
  {
   "cell_type": "code",
   "execution_count": 5,
   "metadata": {},
   "outputs": [],
   "source": [
    "hp_dict = {\n",
    "    'cnn1' : 300,\n",
    "    'cnn2' : 200,\n",
    "    'dropout' : 0.3\n",
    "    \n",
    "    \n",
    "}"
   ]
  },
  {
   "cell_type": "code",
   "execution_count": 6,
   "metadata": {},
   "outputs": [
    {
     "name": "stdout",
     "output_type": "stream",
     "text": [
      "Train on 60000 samples\n",
      "Epoch 1/5\n",
      "   32/60000 [..............................] - ETA: 1:05:59 - loss: 2.2864 - accuracy: 0.2188WARNING:tensorflow:Method (on_train_batch_end) is slow compared to the batch update (0.176317). Check your callbacks.\n",
      "60000/60000 [==============================] - 16s 270us/sample - loss: 0.1247 - accuracy: 0.9609\n",
      "Epoch 2/5\n",
      "60000/60000 [==============================] - 14s 232us/sample - loss: 0.0504 - accuracy: 0.9841\n",
      "Epoch 3/5\n",
      "60000/60000 [==============================] - 14s 233us/sample - loss: 0.0381 - accuracy: 0.9881\n",
      "Epoch 4/5\n",
      "60000/60000 [==============================] - 14s 233us/sample - loss: 0.0311 - accuracy: 0.9901\n",
      "Epoch 5/5\n",
      "60000/60000 [==============================] - 14s 233us/sample - loss: 0.0264 - accuracy: 0.9911\n"
     ]
    }
   ],
   "source": [
    "mnist_model = mnist(hp_dict=hp_dict)\n",
    "mnist_model.model()\n",
    "mnist_model.training()\n",
    "\n"
   ]
  },
  {
   "cell_type": "code",
   "execution_count": 7,
   "metadata": {},
   "outputs": [
    {
     "name": "stdout",
     "output_type": "stream",
     "text": [
      "10000/10000 - 1s - loss: 0.0256 - accuracy: 0.9920\n"
     ]
    }
   ],
   "source": [
    "mnist_model.evaluate()"
   ]
  },
  {
   "cell_type": "code",
   "execution_count": 8,
   "metadata": {},
   "outputs": [],
   "source": [
    "#%tensorboard --logdir=tensorboard/ --host 164.125.34.220"
   ]
  },
  {
   "cell_type": "code",
   "execution_count": 9,
   "metadata": {},
   "outputs": [],
   "source": [
    "#mnist_model.evaluate()"
   ]
  },
  {
   "cell_type": "code",
   "execution_count": null,
   "metadata": {},
   "outputs": [],
   "source": []
  }
 ],
 "metadata": {
  "kernelspec": {
   "display_name": "Python 3",
   "language": "python",
   "name": "python3"
  },
  "language_info": {
   "codemirror_mode": {
    "name": "ipython",
    "version": 3
   },
   "file_extension": ".py",
   "mimetype": "text/x-python",
   "name": "python",
   "nbconvert_exporter": "python",
   "pygments_lexer": "ipython3",
   "version": "3.6.9"
  }
 },
 "nbformat": 4,
 "nbformat_minor": 4
}
