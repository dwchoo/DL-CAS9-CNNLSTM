{
 "cells": [
  {
   "cell_type": "code",
   "execution_count": 25,
   "metadata": {},
   "outputs": [],
   "source": [
    "import numpy as np\n",
    "from scipy.stats import pearsonr, spearmanr\n",
    "import matplotlib.pyplot as plt\n",
    "%matplotlib notebook\n",
    "#%matplotlib inline"
   ]
  },
  {
   "cell_type": "code",
   "execution_count": 2,
   "metadata": {},
   "outputs": [],
   "source": [
    "import tensorflow as tf\n",
    "from tensorflow.keras.layers import *\n",
    "from tensorflow.keras import Input, Model"
   ]
  },
  {
   "cell_type": "code",
   "execution_count": 3,
   "metadata": {},
   "outputs": [],
   "source": [
    "from data_import_preprocessing import import_data_preprocessing"
   ]
  },
  {
   "cell_type": "code",
   "execution_count": 4,
   "metadata": {},
   "outputs": [],
   "source": [
    "gpus = tf.config.experimental.list_physical_devices('GPU')\n",
    "if gpus:\n",
    "    gpu_num = 1\n",
    "    try:\n",
    "        tf.config.experimental.set_visible_devices(gpus[gpu_num], 'GPU')\n",
    "        tf.config.experimental.set_memory_growth(gpus[gpu_num], True)\n",
    "    except RuntimeError as e:\n",
    "        print(e)"
   ]
  },
  {
   "cell_type": "code",
   "execution_count": 5,
   "metadata": {},
   "outputs": [
    {
     "data": {
      "text/plain": [
       "[PhysicalDevice(name='/physical_device:GPU:0', device_type='GPU'),\n",
       " PhysicalDevice(name='/physical_device:GPU:1', device_type='GPU'),\n",
       " PhysicalDevice(name='/physical_device:GPU:2', device_type='GPU')]"
      ]
     },
     "execution_count": 5,
     "metadata": {},
     "output_type": "execute_result"
    }
   ],
   "source": [
    "gpus"
   ]
  },
  {
   "cell_type": "code",
   "execution_count": 6,
   "metadata": {},
   "outputs": [
    {
     "name": "stdout",
     "output_type": "stream",
     "text": [
      "train_data :  ['Barcode', 'Target context sequence', 'Total read count (Day 0)', 'Indel read count\\n(Day 0)', 'Background\\nindel frequencies (%)', 'Total read count\\n(Day 2.9)', 'Indel read count\\n(Day 2.9)', 'Indel frequencies (%)', 'Background subtracted indel']\n",
      "train_data :  ['Target context sequence', 'Number of used (filtered ) barcodes', 'Total read count (average, Day 0)', 'Total read count (average, Day 2.9)', 'Background subtracted indel']\n"
     ]
    }
   ],
   "source": [
    "train_data_name = 'data/HT_Cas9_train.csv'\n",
    "test_data_name = 'data/HT_Cas9_test.csv'\n",
    "preprocessing = import_data_preprocessing(train_data_file_name = train_data_name,\n",
    "                                          test_data_file_name= test_data_name,\n",
    "                                          \n",
    "                                         )\n",
    "print('train_data : ', preprocessing.train_data_file_sample_column)\n",
    "print('train_data : ', preprocessing.test_data_file_sample_column)"
   ]
  },
  {
   "cell_type": "code",
   "execution_count": 7,
   "metadata": {},
   "outputs": [],
   "source": [
    "data = preprocessing(sgRNA_column='Target context sequence',\n",
    "                    indel_column='Background subtracted indel',\n",
    "                    split_data=0.1\n",
    "                    )"
   ]
  },
  {
   "cell_type": "code",
   "execution_count": 8,
   "metadata": {},
   "outputs": [
    {
     "name": "stdout",
     "output_type": "stream",
     "text": [
      "dict_keys(['train', 'val', 'total', 'test'])\n",
      "dict_keys(['seq', 'indel_rate', 'indel_class', 'read_cnt', 'info'])\n"
     ]
    }
   ],
   "source": [
    "print(data.keys())\n",
    "print(data['train'].keys())"
   ]
  },
  {
   "cell_type": "code",
   "execution_count": 9,
   "metadata": {},
   "outputs": [],
   "source": [
    "X_train = data['train']['seq']\n",
    "class_train = data['train']['indel_class']\n",
    "rate_train = data['train']['indel_rate']\n",
    "\n",
    "X_val = data['val']['seq']\n",
    "class_val = data['val']['indel_class']\n",
    "rate_val = data['val']['indel_rate']\n",
    "\n",
    "X_test = data['test']['seq']\n",
    "class_test = data['test']['indel_class']\n",
    "rate_test = data['test']['indel_rate']"
   ]
  },
  {
   "cell_type": "code",
   "execution_count": 11,
   "metadata": {},
   "outputs": [
    {
     "data": {
      "text/plain": [
       "(542, 30, 4)"
      ]
     },
     "execution_count": 11,
     "metadata": {},
     "output_type": "execute_result"
    }
   ],
   "source": [
    "X_test.shape"
   ]
  },
  {
   "cell_type": "code",
   "execution_count": 12,
   "metadata": {},
   "outputs": [],
   "source": [
    "batch_size = 128\n",
    "\n",
    "en_lr = 0.001\n",
    "en_epochs = 500\n",
    "\n",
    "dnn_lr = 0.001\n",
    "dnn_epochs = 400\n",
    "\n",
    "\n",
    "dropout_RNN = 0.5\n",
    "dropout_RNN_out = 0.5\n",
    "dropout_DNN = 0.5\n",
    "dropout2_DNN = 0.5\n",
    "\n",
    "\n",
    "DNN_1 = 100\n",
    "DNN_2 = 100\n",
    "DNN_3 = 100\n",
    "\n",
    "DNN_num_mis_1 = 100\n",
    "DNN_num_mis_2 = 100\n",
    "DNN_num_mis_3 = 5\n",
    "\n",
    "DNN_class_1 = 100\n",
    "DNN_class_2 = 100\n",
    "DNN_class_3 = 11\n",
    "\n",
    "DNN_rate_1 = 100\n",
    "DNN_rate_2 = 100\n",
    "DNN_rate_3 = 1\n",
    "\n",
    "verbose = 1"
   ]
  },
  {
   "cell_type": "code",
   "execution_count": 13,
   "metadata": {},
   "outputs": [],
   "source": [
    "CNNLSTM_input = Input(shape=(30, 4))\n",
    "#CNNLSTM_input_reshape = Reshape((23,8))(CNNLSTM_input)\n",
    "\n",
    "kernal0 = 16\n",
    "dropout0 = 0.5\n",
    "CNN0_1 = Conv1D(kernal0, [1], activation='relu', padding='same', kernel_initializer='he_normal')(CNNLSTM_input)\n",
    "CNN0_1 = Dropout(0.3)(CNN0_1)\n",
    "\n",
    "CNN0_2 = Conv1D(kernal0, [2], activation='relu', padding='same', kernel_initializer='he_normal')(CNNLSTM_input)\n",
    "CNN0_2 = Dropout(0.3)(CNN0_2)\n",
    "\n",
    "CNN0_3 = Conv1D(kernal0, [3], activation='relu', padding='same', kernel_initializer='he_normal')(CNNLSTM_input)\n",
    "CNN0_3 = Dropout(0.3)(CNN0_3)\n",
    "\n",
    "CNN0_4 = Conv1D(kernal0, [4], activation='relu', padding='same', kernel_initializer='he_normal')(CNNLSTM_input)\n",
    "CNN0_4 = Dropout(0.3)(CNN0_4)\n",
    "\n",
    "CNN0_5 = Conv1D(kernal0, [5], activation='relu', padding='same', kernel_initializer='he_normal')(CNNLSTM_input)\n",
    "CNN0_5 = Dropout(0.3)(CNN0_5)\n",
    "\n",
    "concatenate0 = concatenate([CNN0_1, CNN0_2, CNN0_3, CNN0_4, CNN0_5])\n",
    "\n",
    "#squeezed = Lambda(lambda x: keras.backend.squeeze(x,axis=2))(concatenate0)\n",
    "\n",
    "LSTM0 = LSTM(64, return_sequences=True)(concatenate0)\n",
    "LSTM0 = Dropout(dropout0)(LSTM0)\n",
    "\n",
    "concatenate1 = concatenate([LSTM0, CNNLSTM_input])\n",
    "\n",
    "\n",
    "kernal1 = 32\n",
    "dropout1 = 0.5\n",
    "CNN1_1 = Conv1D(kernal1, [1], activation='relu', padding='same', kernel_initializer='he_normal')(concatenate1)\n",
    "CNN1_1 = Dropout(dropout1)(CNN1_1)\n",
    "\n",
    "CNN1_2 = Conv1D(kernal1, [2], activation='relu', padding='same', kernel_initializer='he_normal')(concatenate1)\n",
    "CNN1_2 = Dropout(dropout1)(CNN1_2)\n",
    "\n",
    "CNN1_3 = Conv1D(kernal1, [3], activation='relu', padding='same', kernel_initializer='he_normal')(concatenate1)\n",
    "CNN1_3 = Dropout(dropout1)(CNN1_3)\n",
    "\n",
    "CNN1_4 = Conv1D(kernal1, [4], activation='relu', padding='same', kernel_initializer='he_normal')(concatenate1)\n",
    "CNN1_4 = Dropout(dropout1)(CNN1_4)\n",
    "\n",
    "CNN1_5 = Conv1D(kernal1, [5], activation='relu', padding='same', kernel_initializer='he_normal')(concatenate1)\n",
    "CNN1_5 = Dropout(dropout1)(CNN1_5)\n",
    "\n",
    "CNN1_concatenate = concatenate([CNN1_1, CNN1_2, CNN1_3, CNN1_4, CNN1_5])\n",
    "\n",
    "LSTM1 = LSTM(128, return_sequences=True)(CNN1_concatenate)\n",
    "LSTM1 = Dropout(dropout1)(LSTM1)\n",
    "\n",
    "\n",
    "#concatenate2 = concatenate([CNNLSTM_input_reshape,LSTM1])\n",
    "concatenate2 = concatenate([LSTM1, LSTM0])\n",
    "kernal2 = 64\n",
    "dropout2 = 0.5\n",
    "CNN2_1 = Conv1D(kernal2, [1], activation='relu', padding='same', kernel_initializer='he_normal')(concatenate2)\n",
    "#CNN2_1 = MaxPool1D()(CNN2_1)\n",
    "CNN2_1 = Dropout(dropout2)(CNN2_1)\n",
    "\n",
    "CNN2_2 = Conv1D(kernal2, [2], activation='relu', padding='same', kernel_initializer='he_normal')(concatenate2)\n",
    "#CNN2_2 = MaxPool1D()(CNN2_2)\n",
    "CNN2_2 = Dropout(dropout2)(CNN2_2)\n",
    "\n",
    "CNN2_3 = Conv1D(kernal2, [3], activation='relu', padding='same', kernel_initializer='he_normal')(concatenate2)\n",
    "#CNN2_3 = MaxPool1D()(CNN2_3)\n",
    "CNN2_3 = Dropout(dropout2)(CNN2_3)\n",
    "\n",
    "CNN2_4 = Conv1D(kernal2, [4], activation='relu', padding='same', kernel_initializer='he_normal')(concatenate2)\n",
    "#CNN2_4 = MaxPool1D()(CNN2_4)\n",
    "CNN2_4 = Dropout(dropout2)(CNN2_4)\n",
    "\n",
    "CNN2_5 = Conv1D(kernal2, [5], activation='relu', padding='same', kernel_initializer='he_normal')(concatenate2)\n",
    "#CNN2_5 = MaxPool1D()(CNN2_5)\n",
    "CNN2_5 = Dropout(dropout2)(CNN2_5)\n",
    "\n",
    "CNN2_concatenate = concatenate([CNN2_1, CNN2_2, CNN2_3, CNN2_4, CNN2_5])\n",
    "\n",
    "LSTM2 = LSTM(256, return_sequences=True)(CNN2_concatenate)\n",
    "LSTM2 = Dropout(dropout2)(LSTM2)\n",
    "\n",
    "\n",
    "#concatenate3 = concatenate([CNNLSTM_input_reshape,LSTM2])\n",
    "concatenate3 = concatenate([LSTM2,LSTM1])\n",
    "kernal3 = 128\n",
    "dropout3 = 0.5\n",
    "CNN3_1 = Conv1D(kernal3, [1], activation='relu', padding='same', kernel_initializer='he_normal')(concatenate3)\n",
    "#CNN3_1 = MaxPool1D()(CNN3_1)\n",
    "CNN3_1 = Dropout(dropout3)(CNN3_1)\n",
    "\n",
    "CNN3_2 = Conv1D(kernal3, [2], activation='relu', padding='same', kernel_initializer='he_normal')(concatenate3)\n",
    "#CNN3_2 = MaxPool1D()(CNN3_2)\n",
    "CNN3_2 = Dropout(dropout3)(CNN3_2)\n",
    "\n",
    "CNN3_3 = Conv1D(kernal3, [3], activation='relu', padding='same', kernel_initializer='he_normal')(concatenate3)\n",
    "#CNN3_3 = MaxPool1D()(CNN3_3)\n",
    "CNN3_3 = Dropout(dropout3)(CNN3_3)\n",
    "\n",
    "CNN3_4 = Conv1D(kernal3, [4], activation='relu', padding='same', kernel_initializer='he_normal')(concatenate3)\n",
    "#CNN3_4 = MaxPool1D()(CNN3_4)\n",
    "CNN3_4 = Dropout(dropout3)(CNN3_4)\n",
    "\n",
    "CNN3_5 = Conv1D(kernal3, [5], activation='relu', padding='same', kernel_initializer='he_normal')(concatenate3)\n",
    "#CNN3_5 = MaxPool1D()(CNN3_5)\n",
    "CNN3_5 = Dropout(dropout3)(CNN3_5)\n",
    "\n",
    "CNN3_concatenate = concatenate([CNN3_1, CNN3_2, CNN3_3, CNN3_4, CNN3_5])\n",
    "\n",
    "LSTM3 = LSTM(256, return_sequences=True)(CNN3_concatenate)\n",
    "LSTM3 = Dropout(dropout3)(LSTM3)\n",
    "\n",
    "\n",
    "\n",
    "#concatenate4 = LSTM3#concatenate([CNNLSTM_input_reshape,LSTM2])\n",
    "concatenate4 =concatenate([LSTM3, LSTM2])\n",
    "\n",
    "kernal4 = 128\n",
    "dropout3 = 0.5\n",
    "CNN4_1 = Conv1D(kernal4, [1], activation='relu', padding='same', kernel_initializer='he_normal')(concatenate4)\n",
    "#CNN4_1 = MaxPool1D()(CNN4_1)\n",
    "CNN4_1 = Dropout(dropout3)(CNN4_1)\n",
    "\n",
    "CNN4_2 = Conv1D(kernal4, [2], activation='relu', padding='same', kernel_initializer='he_normal')(concatenate4)\n",
    "#CNN4_2 = MaxPool1D()(CNN4_2)\n",
    "CNN4_2 = Dropout(dropout3)(CNN4_2)\n",
    "\n",
    "CNN4_3 = Conv1D(kernal4, [3], activation='relu', padding='same', kernel_initializer='he_normal')(concatenate4)\n",
    "#CNN4_3 = MaxPool1D()(CNN4_3)\n",
    "CNN4_3 = Dropout(dropout3)(CNN4_3)\n",
    "\n",
    "CNN4_4 = Conv1D(kernal4, [4], activation='relu', padding='same', kernel_initializer='he_normal')(concatenate4)\n",
    "#CNN4_4 = MaxPool1D()(CNN4_4)\n",
    "CNN4_4 = Dropout(dropout3)(CNN4_4)\n",
    "\n",
    "CNN4_5 = Conv1D(kernal4, [5], activation='relu', padding='same', kernel_initializer='he_normal')(concatenate4)\n",
    "#CNN4_5 = MaxPool1D()(CNN4_5)\n",
    "CNN4_5 = Dropout(dropout3)(CNN4_5)\n",
    "\n",
    "CNN4_concatenate = concatenate([CNN4_1, CNN4_2, CNN4_3, CNN4_4, CNN4_5])\n",
    "\n",
    "LSTM4 = LSTM(256, return_sequences=True)(CNN4_concatenate)\n",
    "LSTM4 = Dropout(dropout3)(LSTM4)\n",
    "\n",
    "CNN_model = Model(CNNLSTM_input, LSTM4)\n",
    "#CNN_model.summary()"
   ]
  },
  {
   "cell_type": "code",
   "execution_count": 14,
   "metadata": {},
   "outputs": [
    {
     "name": "stdout",
     "output_type": "stream",
     "text": [
      "Failed to import pydot. You must install pydot and graphviz for `pydotprint` to work.\n"
     ]
    }
   ],
   "source": [
    "graph = tf.keras.utils.plot_model(CNN_model, show_shapes=True)"
   ]
  },
  {
   "cell_type": "code",
   "execution_count": 15,
   "metadata": {},
   "outputs": [],
   "source": [
    "LSTM_middel = Lambda(lambda x: x[:,-1,:])(LSTM2) #Flatten()(CNN2_concatenate)\n",
    "LSTM_middel_2 = Lambda(lambda x: x[:,-1,:])(LSTM3) #Flatten()(CNN2_concatenate)\n",
    "LSTM_result = Lambda(lambda x: x[:,-1,:])(LSTM4) #Flatten()(CNN3_concatenate)\n",
    "\"\"\"\n",
    "#DNN model - number of mismatch prediction\n",
    "DNN_nummis_layer_input = LSTM_middel_2\n",
    "DNN_nummis_layer = Dense(DNN_num_mis_1, activation='relu')(DNN_nummis_layer_input)\n",
    "DNN_nummis_layer = Dropout(dropout2_DNN)(DNN_nummis_layer)\n",
    "DNN_nummis_layer = Dense(DNN_num_mis_3, activation='softmax', name='num_mis')(DNN_nummis_layer)\n",
    "\n",
    "\"\"\"\n",
    "#DNN model - class prediction\n",
    "DNN_class_layer_input = LSTM_middel\n",
    "DNN_class_layer_mid = Dense(DNN_class_1, activation='relu')(DNN_class_layer_input)\n",
    "DNN_class_layer = Dropout(dropout2_DNN)(DNN_class_layer_mid)\n",
    "DNN_class_layer = Dense(DNN_class_2, activation='relu')(DNN_class_layer)\n",
    "DNN_class_layer = Dropout(dropout2_DNN)(DNN_class_layer)\n",
    "DNN_class_layer = Dense(DNN_class_3, activation='softmax', name='class_1')(DNN_class_layer)\n",
    "\n",
    "DNN_class_layer_input_2 = LSTM_middel_2\n",
    "DNN_class_layer_mid_2 = Dense(DNN_class_1, activation='relu')(DNN_class_layer_input_2)\n",
    "DNN_class_layer_2 = Dropout(dropout2_DNN)(DNN_class_layer_mid_2)\n",
    "DNN_class_layer_2 = Dense(DNN_class_2, activation='relu')(DNN_class_layer_2)\n",
    "DNN_class_layer_2 = Dropout(dropout2_DNN)(DNN_class_layer_2)\n",
    "DNN_class_layer_2 = Dense(DNN_class_3, activation='softmax', name='class_2')(DNN_class_layer_2)\n",
    "\n",
    "\n",
    "#DNN model - class prediction 2\n",
    "DNN_class_layer_input_result = LSTM_result\n",
    "DNN_class_layer_result = Dense(DNN_class_1, activation='relu')(DNN_class_layer_input_result)\n",
    "DNN_class_layer_result = Dropout(dropout2_DNN)(DNN_class_layer_result)\n",
    "DNN_class_layer_mid_result = Dense(DNN_class_2, activation='relu')(DNN_class_layer_result)\n",
    "DNN_class_layer_result = Dropout(dropout2_DNN)(DNN_class_layer_mid_result)\n",
    "DNN_class_layer_result = Dense(DNN_class_3, activation='softmax', name='class_result')(DNN_class_layer_result)\n",
    "\n",
    "\n",
    "#DNN model - real value prediction\n",
    "#DNN_rate_layer_input = LSTM_result\n",
    "#DNN_rate_layer = Dense(DNN_rate_1, activation='relu', kernel_initializer='he_normal')(DNN_rate_layer_input)\n",
    "#DNN_rate_layer = Dropout(dropout2_DNN)(DNN_rate_layer)\n",
    "DNN_rate_layer = Dense(DNN_rate_2, activation='relu', kernel_initializer='he_normal')(DNN_class_layer_mid_result)\n",
    "DNN_rate_layer = Dropout(dropout2_DNN)(DNN_rate_layer)\n",
    "DNN_rate_layer = Dense(DNN_rate_3, activation='linear', kernel_initializer='he_normal', name='rate')(DNN_rate_layer)\n",
    "\n",
    "\n",
    "\n",
    "MTL_model = Model(CNNLSTM_input, [DNN_class_layer, DNN_class_layer_2,\n",
    "                                  DNN_class_layer_result, DNN_rate_layer])\n",
    "\n",
    "\n",
    "cluster_model = Model(CNNLSTM_input,DNN_class_layer)\n",
    "regression_model = Model(CNNLSTM_input, DNN_rate_layer)\n",
    "cluster_tsne_model = Model(CNNLSTM_input, DNN_class_layer_mid_result)\n",
    "\n",
    "\n",
    "#MTL_model.summary()"
   ]
  },
  {
   "cell_type": "code",
   "execution_count": 16,
   "metadata": {},
   "outputs": [
    {
     "data": {
      "text/plain": [
       "\"\\nregression_model.compile(optimizer='adam',\\n                        loss={'rate' : 'mean_squared_error'},\\n                        )\\n\""
      ]
     },
     "execution_count": 16,
     "metadata": {},
     "output_type": "execute_result"
    }
   ],
   "source": [
    "#optimizer = Adam(lr=0.0001)\n",
    "#optimizer_2 = Adam(lr=0.0001)\n",
    "\n",
    "MTL_model.compile(optimizer='adam',\n",
    "              loss={\n",
    "                  #'num_mis': 'categorical_crossentropy',\n",
    "                  'class_1': 'categorical_crossentropy',\n",
    "                  'class_2': 'categorical_crossentropy',\n",
    "                  'class_result': 'categorical_crossentropy',\n",
    "                  'rate': 'mean_squared_error'},\n",
    "              loss_weights={\n",
    "                  #'num_mis': 0.5,\n",
    "                  'class_1': 1,\n",
    "                  'class_2': 1,\n",
    "                  'class_result': 0.5,\n",
    "                  'rate': 1},\n",
    "              metrics={\n",
    "                  #'num_mis': 'accuracy',\n",
    "                  'class_1': \"accuracy\",\n",
    "                  'class_2': \"accuracy\",\n",
    "                  'class_result': \"accuracy\"}\n",
    "             )\n",
    "'''\n",
    "regression_model.compile(optimizer='adam',\n",
    "                        loss={'rate' : 'mean_squared_error'},\n",
    "                        )\n",
    "'''"
   ]
  },
  {
   "cell_type": "code",
   "execution_count": 17,
   "metadata": {},
   "outputs": [
    {
     "name": "stdout",
     "output_type": "stream",
     "text": [
      "class_weight\n",
      "{0: 1.171672077922078, 1: 0.9026811537559603, 2: 0.7846174752004348, 3: 0.7098162148872088, 4: 0.6924922043655553, 5: 0.635098718583292, 6: 0.6500422178440755, 7: 0.8690547862733293, 8: 1.841786283891547, 9: 9.631359466221852, 10: 1049.8181818181818}\n",
      "sample_weight\n",
      "{0: 1.0, 1: 1.0, 2: 1.0, 3: 1.0, 4: 1.0, 5: 1.0, 6: 0.8235090959499638, 7: 0.975946828981805, 8: 1.8421154881397088, 9: 3.998060936178457, 10: 4.0}\n"
     ]
    }
   ],
   "source": [
    "from sklearn.utils import class_weight\n",
    "class_train_num = class_train.argmax(axis=-1)\n",
    "class_weights = class_weight.compute_class_weight('balanced',\n",
    "                                                  np.unique(class_train_num),\n",
    "                                                  class_train_num\n",
    "                                                 )\n",
    "class_weights_dict = dict(enumerate(class_weights))#{ i : class_weights[i] for i in range(11)}\n",
    "print(\"class_weight\")\n",
    "print(class_weights_dict)\n",
    "\n",
    "class_wieghts_dict_tuned = class_weights_dict\n",
    "for i in range(0,11):\n",
    "    multiple_constant = 2\n",
    "    cutoff_class = 5\n",
    "    \n",
    "    if i <=cutoff_class:\n",
    "        class_wieghts_dict_tuned[i] = 1.0\n",
    "    else:\n",
    "        class_wieghts_dict_tuned[i] = multiple_constant*np.tanh((class_weights_dict[i]-2)/2) + multiple_constant\n",
    "    \n",
    "print(\"sample_weight\")\n",
    "print(class_wieghts_dict_tuned)\n",
    "\n",
    "sample_weight = np.array([class_wieghts_dict_tuned[i] for i in class_train_num])"
   ]
  },
  {
   "cell_type": "code",
   "execution_count": 18,
   "metadata": {
    "scrolled": true
   },
   "outputs": [
    {
     "name": "stdout",
     "output_type": "stream",
     "text": [
      "Train on 11548 samples, validate on 1284 samples\n",
      "Epoch 1/200\n",
      "11548/11548 [==============================] - 20s 2ms/sample - loss: 6.1912 - class_1_loss: 2.4282 - class_2_loss: 2.4383 - class_result_loss: 2.4479 - rate_loss: 0.0975 - class_1_accuracy: 0.1368 - class_2_accuracy: 0.1321 - class_result_accuracy: 0.1206 - val_loss: 6.0736 - val_class_1_loss: 2.4256 - val_class_2_loss: 2.4272 - val_class_result_loss: 2.4502 - val_rate_loss: 0.0797 - val_class_1_accuracy: 0.1706 - val_class_2_accuracy: 0.1659 - val_class_result_accuracy: 0.1410\n",
      "Epoch 2/200\n",
      "11548/11548 [==============================] - 6s 519us/sample - loss: 5.9154 - class_1_loss: 2.3162 - class_2_loss: 2.3309 - class_result_loss: 2.3848 - rate_loss: 0.0718 - class_1_accuracy: 0.1641 - class_2_accuracy: 0.1638 - class_result_accuracy: 0.1376 - val_loss: 5.7058 - val_class_1_loss: 2.2884 - val_class_2_loss: 2.2939 - val_class_result_loss: 2.3419 - val_rate_loss: 0.0478 - val_class_1_accuracy: 0.1869 - val_class_2_accuracy: 0.1869 - val_class_result_accuracy: 0.1838\n",
      "Epoch 3/200\n",
      "11548/11548 [==============================] - 6s 520us/sample - loss: 5.7517 - class_1_loss: 2.2647 - class_2_loss: 2.2786 - class_result_loss: 2.2975 - rate_loss: 0.0644 - class_1_accuracy: 0.1816 - class_2_accuracy: 0.1781 - class_result_accuracy: 0.1676 - val_loss: 5.6396 - val_class_1_loss: 2.2851 - val_class_2_loss: 2.2757 - val_class_result_loss: 2.2992 - val_rate_loss: 0.0422 - val_class_1_accuracy: 0.2072 - val_class_2_accuracy: 0.1947 - val_class_result_accuracy: 0.1916\n",
      "Epoch 4/200\n",
      "11548/11548 [==============================] - 6s 527us/sample - loss: 5.6392 - class_1_loss: 2.2256 - class_2_loss: 2.2321 - class_result_loss: 2.2460 - rate_loss: 0.0576 - class_1_accuracy: 0.1894 - class_2_accuracy: 0.1886 - class_result_accuracy: 0.1886 - val_loss: 5.4331 - val_class_1_loss: 2.1781 - val_class_2_loss: 2.2037 - val_class_result_loss: 2.1972 - val_rate_loss: 0.0398 - val_class_1_accuracy: 0.2040 - val_class_2_accuracy: 0.2009 - val_class_result_accuracy: 0.1986\n",
      "Epoch 5/200\n",
      "11548/11548 [==============================] - 6s 527us/sample - loss: 5.4663 - class_1_loss: 2.1554 - class_2_loss: 2.1662 - class_result_loss: 2.1867 - rate_loss: 0.0504 - class_1_accuracy: 0.2090 - class_2_accuracy: 0.2007 - class_result_accuracy: 0.2011 - val_loss: 5.2503 - val_class_1_loss: 2.1202 - val_class_2_loss: 2.1485 - val_class_result_loss: 2.1616 - val_rate_loss: 0.0361 - val_class_1_accuracy: 0.2017 - val_class_2_accuracy: 0.2126 - val_class_result_accuracy: 0.2134\n",
      "Epoch 6/200\n",
      "11548/11548 [==============================] - 6s 527us/sample - loss: 5.3655 - class_1_loss: 2.1163 - class_2_loss: 2.1269 - class_result_loss: 2.1424 - rate_loss: 0.0456 - class_1_accuracy: 0.2070 - class_2_accuracy: 0.2116 - class_result_accuracy: 0.2077 - val_loss: 5.1835 - val_class_1_loss: 2.0966 - val_class_2_loss: 2.0884 - val_class_result_loss: 2.1027 - val_rate_loss: 0.0386 - val_class_1_accuracy: 0.2079 - val_class_2_accuracy: 0.2095 - val_class_result_accuracy: 0.2033\n",
      "Epoch 7/200\n",
      "11548/11548 [==============================] - 6s 527us/sample - loss: 5.3237 - class_1_loss: 2.1039 - class_2_loss: 2.1158 - class_result_loss: 2.1253 - rate_loss: 0.0445 - class_1_accuracy: 0.2107 - class_2_accuracy: 0.2117 - class_result_accuracy: 0.2095 - val_loss: 5.0975 - val_class_1_loss: 2.0717 - val_class_2_loss: 2.0821 - val_class_result_loss: 2.0925 - val_rate_loss: 0.0319 - val_class_1_accuracy: 0.2126 - val_class_2_accuracy: 0.2056 - val_class_result_accuracy: 0.2150\n",
      "Epoch 8/200\n",
      "11548/11548 [==============================] - 6s 528us/sample - loss: 5.2305 - class_1_loss: 2.0666 - class_2_loss: 2.0799 - class_result_loss: 2.0821 - rate_loss: 0.0403 - class_1_accuracy: 0.2104 - class_2_accuracy: 0.2193 - class_result_accuracy: 0.2154 - val_loss: 5.0695 - val_class_1_loss: 2.0515 - val_class_2_loss: 2.0705 - val_class_result_loss: 2.0720 - val_rate_loss: 0.0299 - val_class_1_accuracy: 0.2134 - val_class_2_accuracy: 0.2173 - val_class_result_accuracy: 0.2259\n",
      "Epoch 9/200\n",
      "11548/11548 [==============================] - 6s 527us/sample - loss: 5.2068 - class_1_loss: 2.0577 - class_2_loss: 2.0689 - class_result_loss: 2.0832 - rate_loss: 0.0404 - class_1_accuracy: 0.2193 - class_2_accuracy: 0.2154 - class_result_accuracy: 0.2136 - val_loss: 5.3089 - val_class_1_loss: 2.1639 - val_class_2_loss: 2.1797 - val_class_result_loss: 2.1682 - val_rate_loss: 0.0346 - val_class_1_accuracy: 0.1822 - val_class_2_accuracy: 0.1706 - val_class_result_accuracy: 0.1690\n",
      "Epoch 10/200\n",
      "11548/11548 [==============================] - 6s 527us/sample - loss: 5.1556 - class_1_loss: 2.0401 - class_2_loss: 2.0471 - class_result_loss: 2.0517 - rate_loss: 0.0387 - class_1_accuracy: 0.2187 - class_2_accuracy: 0.2180 - class_result_accuracy: 0.2147 - val_loss: 4.9813 - val_class_1_loss: 2.0408 - val_class_2_loss: 2.0438 - val_class_result_loss: 2.0478 - val_rate_loss: 0.0302 - val_class_1_accuracy: 0.2298 - val_class_2_accuracy: 0.2290 - val_class_result_accuracy: 0.2391\n",
      "Epoch 11/200\n",
      "11548/11548 [==============================] - 6s 527us/sample - loss: 5.1164 - class_1_loss: 2.0201 - class_2_loss: 2.0392 - class_result_loss: 2.0422 - rate_loss: 0.0383 - class_1_accuracy: 0.2272 - class_2_accuracy: 0.2235 - class_result_accuracy: 0.2232 - val_loss: 4.9639 - val_class_1_loss: 2.0279 - val_class_2_loss: 2.0475 - val_class_result_loss: 2.0425 - val_rate_loss: 0.0289 - val_class_1_accuracy: 0.2321 - val_class_2_accuracy: 0.2251 - val_class_result_accuracy: 0.2298\n",
      "Epoch 12/200\n",
      "11548/11548 [==============================] - 6s 527us/sample - loss: 5.0793 - class_1_loss: 2.0066 - class_2_loss: 2.0190 - class_result_loss: 2.0275 - rate_loss: 0.0365 - class_1_accuracy: 0.2326 - class_2_accuracy: 0.2271 - class_result_accuracy: 0.2287 - val_loss: 4.9555 - val_class_1_loss: 2.0376 - val_class_2_loss: 2.0322 - val_class_result_loss: 2.0422 - val_rate_loss: 0.0278 - val_class_1_accuracy: 0.2336 - val_class_2_accuracy: 0.2422 - val_class_result_accuracy: 0.2399\n",
      "Epoch 13/200\n",
      "11548/11548 [==============================] - 6s 527us/sample - loss: 5.0741 - class_1_loss: 2.0108 - class_2_loss: 2.0162 - class_result_loss: 2.0223 - rate_loss: 0.0361 - class_1_accuracy: 0.2315 - class_2_accuracy: 0.2352 - class_result_accuracy: 0.2268 - val_loss: 5.0773 - val_class_1_loss: 2.0777 - val_class_2_loss: 2.0849 - val_class_result_loss: 2.0941 - val_rate_loss: 0.0316 - val_class_1_accuracy: 0.2227 - val_class_2_accuracy: 0.2095 - val_class_result_accuracy: 0.2126\n",
      "Epoch 14/200\n",
      "11548/11548 [==============================] - 6s 527us/sample - loss: 5.0344 - class_1_loss: 1.9914 - class_2_loss: 2.0026 - class_result_loss: 2.0041 - rate_loss: 0.0355 - class_1_accuracy: 0.2354 - class_2_accuracy: 0.2362 - class_result_accuracy: 0.2346 - val_loss: 4.9757 - val_class_1_loss: 2.0329 - val_class_2_loss: 2.0349 - val_class_result_loss: 2.0404 - val_rate_loss: 0.0298 - val_class_1_accuracy: 0.2461 - val_class_2_accuracy: 0.2414 - val_class_result_accuracy: 0.2290\n",
      "Epoch 15/200\n",
      "11548/11548 [==============================] - 6s 528us/sample - loss: 5.0213 - class_1_loss: 1.9842 - class_2_loss: 1.9999 - class_result_loss: 2.0037 - rate_loss: 0.0346 - class_1_accuracy: 0.2355 - class_2_accuracy: 0.2365 - class_result_accuracy: 0.2294 - val_loss: 4.8547 - val_class_1_loss: 1.9932 - val_class_2_loss: 2.0049 - val_class_result_loss: 2.0095 - val_rate_loss: 0.0275 - val_class_1_accuracy: 0.2453 - val_class_2_accuracy: 0.2430 - val_class_result_accuracy: 0.2500\n",
      "Epoch 16/200\n",
      "11548/11548 [==============================] - 6s 527us/sample - loss: 4.9907 - class_1_loss: 1.9751 - class_2_loss: 1.9828 - class_result_loss: 1.9888 - rate_loss: 0.0337 - class_1_accuracy: 0.2433 - class_2_accuracy: 0.2450 - class_result_accuracy: 0.2439 - val_loss: 4.8372 - val_class_1_loss: 2.0041 - val_class_2_loss: 2.0102 - val_class_result_loss: 2.0067 - val_rate_loss: 0.0276 - val_class_1_accuracy: 0.2407 - val_class_2_accuracy: 0.2313 - val_class_result_accuracy: 0.2321\n",
      "Epoch 17/200\n",
      "11548/11548 [==============================] - 6s 527us/sample - loss: 4.9770 - class_1_loss: 1.9741 - class_2_loss: 1.9739 - class_result_loss: 1.9792 - rate_loss: 0.0338 - class_1_accuracy: 0.2464 - class_2_accuracy: 0.2526 - class_result_accuracy: 0.2372 - val_loss: 4.8231 - val_class_1_loss: 1.9812 - val_class_2_loss: 1.9714 - val_class_result_loss: 1.9789 - val_rate_loss: 0.0258 - val_class_1_accuracy: 0.2578 - val_class_2_accuracy: 0.2632 - val_class_result_accuracy: 0.2453\n",
      "Epoch 18/200\n",
      "11548/11548 [==============================] - 6s 528us/sample - loss: 4.9516 - class_1_loss: 1.9630 - class_2_loss: 1.9733 - class_result_loss: 1.9780 - rate_loss: 0.0332 - class_1_accuracy: 0.2480 - class_2_accuracy: 0.2422 - class_result_accuracy: 0.2445 - val_loss: 4.8788 - val_class_1_loss: 2.0189 - val_class_2_loss: 2.0224 - val_class_result_loss: 2.0213 - val_rate_loss: 0.0279 - val_class_1_accuracy: 0.2399 - val_class_2_accuracy: 0.2477 - val_class_result_accuracy: 0.2383\n",
      "Epoch 19/200\n",
      "11548/11548 [==============================] - 6s 527us/sample - loss: 4.9700 - class_1_loss: 1.9718 - class_2_loss: 1.9756 - class_result_loss: 1.9892 - rate_loss: 0.0342 - class_1_accuracy: 0.2387 - class_2_accuracy: 0.2437 - class_result_accuracy: 0.2314 - val_loss: 4.9114 - val_class_1_loss: 2.0368 - val_class_2_loss: 2.0312 - val_class_result_loss: 2.0426 - val_rate_loss: 0.0304 - val_class_1_accuracy: 0.2274 - val_class_2_accuracy: 0.2344 - val_class_result_accuracy: 0.2344\n",
      "Epoch 20/200\n",
      "11548/11548 [==============================] - 6s 528us/sample - loss: 4.9090 - class_1_loss: 1.9427 - class_2_loss: 1.9537 - class_result_loss: 1.9602 - rate_loss: 0.0325 - class_1_accuracy: 0.2425 - class_2_accuracy: 0.2445 - class_result_accuracy: 0.2458 - val_loss: 4.8642 - val_class_1_loss: 1.9935 - val_class_2_loss: 1.9986 - val_class_result_loss: 1.9947 - val_rate_loss: 0.0280 - val_class_1_accuracy: 0.2445 - val_class_2_accuracy: 0.2484 - val_class_result_accuracy: 0.2329\n",
      "Epoch 21/200\n",
      "11548/11548 [==============================] - 6s 527us/sample - loss: 4.8981 - class_1_loss: 1.9458 - class_2_loss: 1.9456 - class_result_loss: 1.9495 - rate_loss: 0.0327 - class_1_accuracy: 0.2500 - class_2_accuracy: 0.2538 - class_result_accuracy: 0.2455 - val_loss: 4.8296 - val_class_1_loss: 2.0066 - val_class_2_loss: 2.0004 - val_class_result_loss: 2.0038 - val_rate_loss: 0.0269 - val_class_1_accuracy: 0.2617 - val_class_2_accuracy: 0.2632 - val_class_result_accuracy: 0.2469\n",
      "Epoch 22/200\n",
      "11548/11548 [==============================] - 6s 527us/sample - loss: 4.8881 - class_1_loss: 1.9404 - class_2_loss: 1.9427 - class_result_loss: 1.9504 - rate_loss: 0.0323 - class_1_accuracy: 0.2523 - class_2_accuracy: 0.2523 - class_result_accuracy: 0.2484 - val_loss: 4.8464 - val_class_1_loss: 2.0069 - val_class_2_loss: 2.0179 - val_class_result_loss: 2.0135 - val_rate_loss: 0.0281 - val_class_1_accuracy: 0.2438 - val_class_2_accuracy: 0.2500 - val_class_result_accuracy: 0.2430\n",
      "Epoch 23/200\n",
      "11548/11548 [==============================] - 6s 534us/sample - loss: 4.8891 - class_1_loss: 1.9354 - class_2_loss: 1.9486 - class_result_loss: 1.9537 - rate_loss: 0.0326 - class_1_accuracy: 0.2553 - class_2_accuracy: 0.2485 - class_result_accuracy: 0.2515 - val_loss: 4.8798 - val_class_1_loss: 2.0289 - val_class_2_loss: 2.0213 - val_class_result_loss: 2.0240 - val_rate_loss: 0.0279 - val_class_1_accuracy: 0.2391 - val_class_2_accuracy: 0.2430 - val_class_result_accuracy: 0.2414\n",
      "Epoch 24/200\n",
      "11548/11548 [==============================] - 6s 528us/sample - loss: 4.8635 - class_1_loss: 1.9257 - class_2_loss: 1.9367 - class_result_loss: 1.9422 - rate_loss: 0.0322 - class_1_accuracy: 0.2471 - class_2_accuracy: 0.2553 - class_result_accuracy: 0.2481 - val_loss: 4.8132 - val_class_1_loss: 1.9888 - val_class_2_loss: 1.9945 - val_class_result_loss: 1.9898 - val_rate_loss: 0.0265 - val_class_1_accuracy: 0.2500 - val_class_2_accuracy: 0.2516 - val_class_result_accuracy: 0.2547\n",
      "Epoch 25/200\n",
      "11548/11548 [==============================] - 6s 528us/sample - loss: 4.8608 - class_1_loss: 1.9258 - class_2_loss: 1.9377 - class_result_loss: 1.9327 - rate_loss: 0.0317 - class_1_accuracy: 0.2555 - class_2_accuracy: 0.2565 - class_result_accuracy: 0.2562 - val_loss: 4.8151 - val_class_1_loss: 2.0020 - val_class_2_loss: 2.0151 - val_class_result_loss: 2.0201 - val_rate_loss: 0.0272 - val_class_1_accuracy: 0.2710 - val_class_2_accuracy: 0.2601 - val_class_result_accuracy: 0.2593\n",
      "Epoch 26/200\n",
      "11548/11548 [==============================] - 6s 528us/sample - loss: 4.8401 - class_1_loss: 1.9227 - class_2_loss: 1.9243 - class_result_loss: 1.9297 - rate_loss: 0.0312 - class_1_accuracy: 0.2517 - class_2_accuracy: 0.2584 - class_result_accuracy: 0.2607 - val_loss: 4.8807 - val_class_1_loss: 2.0032 - val_class_2_loss: 2.0097 - val_class_result_loss: 2.0035 - val_rate_loss: 0.0263 - val_class_1_accuracy: 0.2438 - val_class_2_accuracy: 0.2336 - val_class_result_accuracy: 0.2438\n",
      "Epoch 27/200\n",
      "11548/11548 [==============================] - 6s 528us/sample - loss: 4.8435 - class_1_loss: 1.9186 - class_2_loss: 1.9280 - class_result_loss: 1.9255 - rate_loss: 0.0307 - class_1_accuracy: 0.2610 - class_2_accuracy: 0.2549 - class_result_accuracy: 0.2592 - val_loss: 4.8913 - val_class_1_loss: 2.0116 - val_class_2_loss: 2.0211 - val_class_result_loss: 2.0197 - val_rate_loss: 0.0288 - val_class_1_accuracy: 0.2453 - val_class_2_accuracy: 0.2500 - val_class_result_accuracy: 0.2438\n",
      "Epoch 28/200\n",
      "11548/11548 [==============================] - 6s 528us/sample - loss: 4.8194 - class_1_loss: 1.9084 - class_2_loss: 1.9139 - class_result_loss: 1.9171 - rate_loss: 0.0308 - class_1_accuracy: 0.2512 - class_2_accuracy: 0.2574 - class_result_accuracy: 0.2564 - val_loss: 4.7607 - val_class_1_loss: 1.9756 - val_class_2_loss: 1.9747 - val_class_result_loss: 1.9796 - val_rate_loss: 0.0258 - val_class_1_accuracy: 0.2617 - val_class_2_accuracy: 0.2734 - val_class_result_accuracy: 0.2664\n",
      "Epoch 29/200\n",
      "11548/11548 [==============================] - 6s 527us/sample - loss: 4.7987 - class_1_loss: 1.9000 - class_2_loss: 1.9129 - class_result_loss: 1.9121 - rate_loss: 0.0302 - class_1_accuracy: 0.2588 - class_2_accuracy: 0.2648 - class_result_accuracy: 0.2526 - val_loss: 4.8477 - val_class_1_loss: 1.9967 - val_class_2_loss: 1.9989 - val_class_result_loss: 2.0012 - val_rate_loss: 0.0279 - val_class_1_accuracy: 0.2523 - val_class_2_accuracy: 0.2578 - val_class_result_accuracy: 0.2586\n",
      "Epoch 30/200\n",
      "11548/11548 [==============================] - 6s 528us/sample - loss: 4.7909 - class_1_loss: 1.9027 - class_2_loss: 1.9038 - class_result_loss: 1.9087 - rate_loss: 0.0305 - class_1_accuracy: 0.2561 - class_2_accuracy: 0.2641 - class_result_accuracy: 0.2655 - val_loss: 4.9277 - val_class_1_loss: 2.0427 - val_class_2_loss: 2.0432 - val_class_result_loss: 2.0466 - val_rate_loss: 0.0315 - val_class_1_accuracy: 0.2399 - val_class_2_accuracy: 0.2578 - val_class_result_accuracy: 0.2500\n",
      "Epoch 31/200\n",
      "11548/11548 [==============================] - 6s 528us/sample - loss: 4.7806 - class_1_loss: 1.8962 - class_2_loss: 1.8998 - class_result_loss: 1.9054 - rate_loss: 0.0302 - class_1_accuracy: 0.2640 - class_2_accuracy: 0.2587 - class_result_accuracy: 0.2587 - val_loss: 4.8139 - val_class_1_loss: 1.9853 - val_class_2_loss: 1.9915 - val_class_result_loss: 1.9897 - val_rate_loss: 0.0271 - val_class_1_accuracy: 0.2593 - val_class_2_accuracy: 0.2593 - val_class_result_accuracy: 0.2539\n",
      "Epoch 32/200\n",
      "11548/11548 [==============================] - 6s 536us/sample - loss: 4.7567 - class_1_loss: 1.8915 - class_2_loss: 1.8946 - class_result_loss: 1.9014 - rate_loss: 0.0300 - class_1_accuracy: 0.2623 - class_2_accuracy: 0.2607 - class_result_accuracy: 0.2591 - val_loss: 4.8207 - val_class_1_loss: 2.0010 - val_class_2_loss: 1.9925 - val_class_result_loss: 1.9928 - val_rate_loss: 0.0261 - val_class_1_accuracy: 0.2578 - val_class_2_accuracy: 0.2586 - val_class_result_accuracy: 0.2562\n",
      "Epoch 33/200\n",
      "11548/11548 [==============================] - 6s 526us/sample - loss: 4.7563 - class_1_loss: 1.8844 - class_2_loss: 1.8938 - class_result_loss: 1.8931 - rate_loss: 0.0296 - class_1_accuracy: 0.2656 - class_2_accuracy: 0.2619 - class_result_accuracy: 0.2624 - val_loss: 4.7952 - val_class_1_loss: 1.9878 - val_class_2_loss: 1.9893 - val_class_result_loss: 1.9879 - val_rate_loss: 0.0267 - val_class_1_accuracy: 0.2601 - val_class_2_accuracy: 0.2671 - val_class_result_accuracy: 0.2617\n",
      "Epoch 34/200\n",
      "11548/11548 [==============================] - 6s 528us/sample - loss: 4.7570 - class_1_loss: 1.8868 - class_2_loss: 1.8920 - class_result_loss: 1.8934 - rate_loss: 0.0295 - class_1_accuracy: 0.2599 - class_2_accuracy: 0.2642 - class_result_accuracy: 0.2566 - val_loss: 4.8183 - val_class_1_loss: 1.9873 - val_class_2_loss: 1.9879 - val_class_result_loss: 1.9897 - val_rate_loss: 0.0273 - val_class_1_accuracy: 0.2469 - val_class_2_accuracy: 0.2438 - val_class_result_accuracy: 0.2422\n",
      "Epoch 35/200\n",
      "11548/11548 [==============================] - 6s 528us/sample - loss: 4.7452 - class_1_loss: 1.8811 - class_2_loss: 1.8877 - class_result_loss: 1.8932 - rate_loss: 0.0296 - class_1_accuracy: 0.2632 - class_2_accuracy: 0.2654 - class_result_accuracy: 0.2666 - val_loss: 4.8332 - val_class_1_loss: 2.0087 - val_class_2_loss: 1.9939 - val_class_result_loss: 1.9823 - val_rate_loss: 0.0277 - val_class_1_accuracy: 0.2555 - val_class_2_accuracy: 0.2469 - val_class_result_accuracy: 0.2516\n",
      "Epoch 36/200\n",
      "11548/11548 [==============================] - 6s 527us/sample - loss: 4.7233 - class_1_loss: 1.8718 - class_2_loss: 1.8761 - class_result_loss: 1.8904 - rate_loss: 0.0298 - class_1_accuracy: 0.2633 - class_2_accuracy: 0.2632 - class_result_accuracy: 0.2626 - val_loss: 4.8000 - val_class_1_loss: 1.9899 - val_class_2_loss: 1.9936 - val_class_result_loss: 1.9779 - val_rate_loss: 0.0257 - val_class_1_accuracy: 0.2632 - val_class_2_accuracy: 0.2492 - val_class_result_accuracy: 0.2718\n",
      "Epoch 37/200\n",
      "11548/11548 [==============================] - 6s 528us/sample - loss: 4.7224 - class_1_loss: 1.8741 - class_2_loss: 1.8757 - class_result_loss: 1.8830 - rate_loss: 0.0291 - class_1_accuracy: 0.2637 - class_2_accuracy: 0.2635 - class_result_accuracy: 0.2586 - val_loss: 4.7863 - val_class_1_loss: 2.0033 - val_class_2_loss: 1.9939 - val_class_result_loss: 1.9858 - val_rate_loss: 0.0266 - val_class_1_accuracy: 0.2414 - val_class_2_accuracy: 0.2484 - val_class_result_accuracy: 0.2523\n",
      "Epoch 38/200\n",
      "11548/11548 [==============================] - 6s 527us/sample - loss: 4.7124 - class_1_loss: 1.8722 - class_2_loss: 1.8723 - class_result_loss: 1.8854 - rate_loss: 0.0292 - class_1_accuracy: 0.2635 - class_2_accuracy: 0.2664 - class_result_accuracy: 0.2641 - val_loss: 4.8557 - val_class_1_loss: 2.0211 - val_class_2_loss: 2.0165 - val_class_result_loss: 2.0246 - val_rate_loss: 0.0275 - val_class_1_accuracy: 0.2477 - val_class_2_accuracy: 0.2547 - val_class_result_accuracy: 0.2523\n",
      "Epoch 39/200\n",
      "11548/11548 [==============================] - 6s 527us/sample - loss: 4.6997 - class_1_loss: 1.8622 - class_2_loss: 1.8713 - class_result_loss: 1.8760 - rate_loss: 0.0287 - class_1_accuracy: 0.2704 - class_2_accuracy: 0.2680 - class_result_accuracy: 0.2693 - val_loss: 4.7842 - val_class_1_loss: 1.9971 - val_class_2_loss: 1.9940 - val_class_result_loss: 1.9756 - val_rate_loss: 0.0258 - val_class_1_accuracy: 0.2656 - val_class_2_accuracy: 0.2578 - val_class_result_accuracy: 0.2648\n",
      "Epoch 40/200\n",
      "11548/11548 [==============================] - 6s 527us/sample - loss: 4.6864 - class_1_loss: 1.8571 - class_2_loss: 1.8662 - class_result_loss: 1.8652 - rate_loss: 0.0290 - class_1_accuracy: 0.2705 - class_2_accuracy: 0.2687 - class_result_accuracy: 0.2669 - val_loss: 4.7926 - val_class_1_loss: 2.0384 - val_class_2_loss: 2.0015 - val_class_result_loss: 1.9996 - val_rate_loss: 0.0258 - val_class_1_accuracy: 0.2586 - val_class_2_accuracy: 0.2695 - val_class_result_accuracy: 0.2578\n",
      "Epoch 41/200\n",
      "11548/11548 [==============================] - 6s 534us/sample - loss: 4.6913 - class_1_loss: 1.8652 - class_2_loss: 1.8669 - class_result_loss: 1.8712 - rate_loss: 0.0285 - class_1_accuracy: 0.2696 - class_2_accuracy: 0.2662 - class_result_accuracy: 0.2639 - val_loss: 4.8781 - val_class_1_loss: 2.0423 - val_class_2_loss: 2.0366 - val_class_result_loss: 2.0525 - val_rate_loss: 0.0279 - val_class_1_accuracy: 0.2679 - val_class_2_accuracy: 0.2671 - val_class_result_accuracy: 0.2586\n",
      "Epoch 42/200\n",
      "11548/11548 [==============================] - 6s 527us/sample - loss: 4.6933 - class_1_loss: 1.8641 - class_2_loss: 1.8675 - class_result_loss: 1.8694 - rate_loss: 0.0287 - class_1_accuracy: 0.2732 - class_2_accuracy: 0.2653 - class_result_accuracy: 0.2675 - val_loss: 4.8122 - val_class_1_loss: 2.0430 - val_class_2_loss: 2.0258 - val_class_result_loss: 2.0242 - val_rate_loss: 0.0267 - val_class_1_accuracy: 0.2570 - val_class_2_accuracy: 0.2484 - val_class_result_accuracy: 0.2578\n",
      "Epoch 43/200\n",
      "11548/11548 [==============================] - 6s 529us/sample - loss: 4.6752 - class_1_loss: 1.8534 - class_2_loss: 1.8634 - class_result_loss: 1.8629 - rate_loss: 0.0285 - class_1_accuracy: 0.2782 - class_2_accuracy: 0.2740 - class_result_accuracy: 0.2734 - val_loss: 4.7855 - val_class_1_loss: 1.9823 - val_class_2_loss: 1.9730 - val_class_result_loss: 1.9839 - val_rate_loss: 0.0268 - val_class_1_accuracy: 0.2360 - val_class_2_accuracy: 0.2508 - val_class_result_accuracy: 0.2469\n",
      "Epoch 44/200\n",
      "11548/11548 [==============================] - 6s 528us/sample - loss: 4.6550 - class_1_loss: 1.8491 - class_2_loss: 1.8570 - class_result_loss: 1.8549 - rate_loss: 0.0280 - class_1_accuracy: 0.2690 - class_2_accuracy: 0.2752 - class_result_accuracy: 0.2678 - val_loss: 4.8396 - val_class_1_loss: 2.0346 - val_class_2_loss: 2.0135 - val_class_result_loss: 2.0241 - val_rate_loss: 0.0266 - val_class_1_accuracy: 0.2617 - val_class_2_accuracy: 0.2625 - val_class_result_accuracy: 0.2477\n",
      "Epoch 45/200\n",
      "11548/11548 [==============================] - 6s 528us/sample - loss: 4.6363 - class_1_loss: 1.8348 - class_2_loss: 1.8447 - class_result_loss: 1.8498 - rate_loss: 0.0279 - class_1_accuracy: 0.2769 - class_2_accuracy: 0.2778 - class_result_accuracy: 0.2765 - val_loss: 4.8297 - val_class_1_loss: 2.0152 - val_class_2_loss: 2.0108 - val_class_result_loss: 2.0092 - val_rate_loss: 0.0277 - val_class_1_accuracy: 0.2352 - val_class_2_accuracy: 0.2430 - val_class_result_accuracy: 0.2383\n",
      "Epoch 46/200\n",
      "11548/11548 [==============================] - 6s 527us/sample - loss: 4.6372 - class_1_loss: 1.8412 - class_2_loss: 1.8435 - class_result_loss: 1.8502 - rate_loss: 0.0274 - class_1_accuracy: 0.2761 - class_2_accuracy: 0.2713 - class_result_accuracy: 0.2689 - val_loss: 4.8196 - val_class_1_loss: 1.9947 - val_class_2_loss: 1.9937 - val_class_result_loss: 1.9803 - val_rate_loss: 0.0255 - val_class_1_accuracy: 0.2445 - val_class_2_accuracy: 0.2609 - val_class_result_accuracy: 0.2531\n",
      "Epoch 47/200\n",
      "11548/11548 [==============================] - 6s 527us/sample - loss: 4.6225 - class_1_loss: 1.8350 - class_2_loss: 1.8415 - class_result_loss: 1.8421 - rate_loss: 0.0278 - class_1_accuracy: 0.2723 - class_2_accuracy: 0.2735 - class_result_accuracy: 0.2726 - val_loss: 4.8100 - val_class_1_loss: 1.9980 - val_class_2_loss: 1.9957 - val_class_result_loss: 1.9882 - val_rate_loss: 0.0261 - val_class_1_accuracy: 0.2671 - val_class_2_accuracy: 0.2710 - val_class_result_accuracy: 0.2702\n",
      "Epoch 48/200\n",
      "11548/11548 [==============================] - 6s 528us/sample - loss: 4.6501 - class_1_loss: 1.8423 - class_2_loss: 1.8500 - class_result_loss: 1.8544 - rate_loss: 0.0279 - class_1_accuracy: 0.2736 - class_2_accuracy: 0.2697 - class_result_accuracy: 0.2717 - val_loss: 4.8275 - val_class_1_loss: 2.0095 - val_class_2_loss: 2.0162 - val_class_result_loss: 1.9959 - val_rate_loss: 0.0286 - val_class_1_accuracy: 0.2492 - val_class_2_accuracy: 0.2461 - val_class_result_accuracy: 0.2461\n",
      "Epoch 49/200\n",
      "11548/11548 [==============================] - 6s 527us/sample - loss: 4.5765 - class_1_loss: 1.8183 - class_2_loss: 1.8191 - class_result_loss: 1.8218 - rate_loss: 0.0269 - class_1_accuracy: 0.2800 - class_2_accuracy: 0.2821 - class_result_accuracy: 0.2788 - val_loss: 4.9725 - val_class_1_loss: 2.0904 - val_class_2_loss: 2.0618 - val_class_result_loss: 2.0733 - val_rate_loss: 0.0282 - val_class_1_accuracy: 0.2422 - val_class_2_accuracy: 0.2360 - val_class_result_accuracy: 0.2305\n",
      "Epoch 50/200\n",
      "11548/11548 [==============================] - 6s 527us/sample - loss: 4.6055 - class_1_loss: 1.8292 - class_2_loss: 1.8312 - class_result_loss: 1.8374 - rate_loss: 0.0273 - class_1_accuracy: 0.2719 - class_2_accuracy: 0.2772 - class_result_accuracy: 0.2752 - val_loss: 4.8702 - val_class_1_loss: 2.0471 - val_class_2_loss: 2.0389 - val_class_result_loss: 2.0221 - val_rate_loss: 0.0275 - val_class_1_accuracy: 0.2617 - val_class_2_accuracy: 0.2547 - val_class_result_accuracy: 0.2508\n",
      "Epoch 51/200\n",
      "11548/11548 [==============================] - 6s 531us/sample - loss: 4.6020 - class_1_loss: 1.8251 - class_2_loss: 1.8300 - class_result_loss: 1.8319 - rate_loss: 0.0271 - class_1_accuracy: 0.2710 - class_2_accuracy: 0.2730 - class_result_accuracy: 0.2698 - val_loss: 4.8697 - val_class_1_loss: 2.0366 - val_class_2_loss: 2.0315 - val_class_result_loss: 2.0272 - val_rate_loss: 0.0263 - val_class_1_accuracy: 0.2687 - val_class_2_accuracy: 0.2671 - val_class_result_accuracy: 0.2601\n",
      "Epoch 52/200\n",
      "11548/11548 [==============================] - 6s 527us/sample - loss: 4.5917 - class_1_loss: 1.8226 - class_2_loss: 1.8248 - class_result_loss: 1.8324 - rate_loss: 0.0268 - class_1_accuracy: 0.2786 - class_2_accuracy: 0.2792 - class_result_accuracy: 0.2733 - val_loss: 4.8089 - val_class_1_loss: 2.0155 - val_class_2_loss: 2.0042 - val_class_result_loss: 2.0018 - val_rate_loss: 0.0262 - val_class_1_accuracy: 0.2632 - val_class_2_accuracy: 0.2632 - val_class_result_accuracy: 0.2664\n",
      "Epoch 53/200\n",
      "11548/11548 [==============================] - 6s 527us/sample - loss: 4.5832 - class_1_loss: 1.8164 - class_2_loss: 1.8210 - class_result_loss: 1.8272 - rate_loss: 0.0272 - class_1_accuracy: 0.2734 - class_2_accuracy: 0.2762 - class_result_accuracy: 0.2821 - val_loss: 4.9238 - val_class_1_loss: 2.0529 - val_class_2_loss: 2.0520 - val_class_result_loss: 2.0463 - val_rate_loss: 0.0276 - val_class_1_accuracy: 0.2578 - val_class_2_accuracy: 0.2578 - val_class_result_accuracy: 0.2625\n",
      "Epoch 54/200\n",
      "11548/11548 [==============================] - 6s 527us/sample - loss: 4.5580 - class_1_loss: 1.8073 - class_2_loss: 1.8147 - class_result_loss: 1.8198 - rate_loss: 0.0265 - class_1_accuracy: 0.2806 - class_2_accuracy: 0.2778 - class_result_accuracy: 0.2723 - val_loss: 4.8156 - val_class_1_loss: 2.0191 - val_class_2_loss: 1.9977 - val_class_result_loss: 2.0088 - val_rate_loss: 0.0260 - val_class_1_accuracy: 0.2539 - val_class_2_accuracy: 0.2609 - val_class_result_accuracy: 0.2516\n",
      "Epoch 55/200\n",
      "11548/11548 [==============================] - 6s 526us/sample - loss: 4.5630 - class_1_loss: 1.8106 - class_2_loss: 1.8136 - class_result_loss: 1.8201 - rate_loss: 0.0263 - class_1_accuracy: 0.2826 - class_2_accuracy: 0.2800 - class_result_accuracy: 0.2774 - val_loss: 4.8983 - val_class_1_loss: 2.0137 - val_class_2_loss: 2.0007 - val_class_result_loss: 1.9985 - val_rate_loss: 0.0285 - val_class_1_accuracy: 0.2414 - val_class_2_accuracy: 0.2407 - val_class_result_accuracy: 0.2313\n",
      "Epoch 56/200\n",
      "11548/11548 [==============================] - 6s 542us/sample - loss: 4.5477 - class_1_loss: 1.8111 - class_2_loss: 1.8099 - class_result_loss: 1.8131 - rate_loss: 0.0266 - class_1_accuracy: 0.2781 - class_2_accuracy: 0.2815 - class_result_accuracy: 0.2811 - val_loss: 4.8823 - val_class_1_loss: 2.0056 - val_class_2_loss: 1.9934 - val_class_result_loss: 1.9860 - val_rate_loss: 0.0257 - val_class_1_accuracy: 0.2352 - val_class_2_accuracy: 0.2399 - val_class_result_accuracy: 0.2391\n",
      "Epoch 57/200\n",
      "11548/11548 [==============================] - 6s 526us/sample - loss: 4.5314 - class_1_loss: 1.7952 - class_2_loss: 1.8040 - class_result_loss: 1.8069 - rate_loss: 0.0269 - class_1_accuracy: 0.2833 - class_2_accuracy: 0.2835 - class_result_accuracy: 0.2836 - val_loss: 4.9087 - val_class_1_loss: 2.0394 - val_class_2_loss: 2.0631 - val_class_result_loss: 2.0439 - val_rate_loss: 0.0282 - val_class_1_accuracy: 0.2555 - val_class_2_accuracy: 0.2492 - val_class_result_accuracy: 0.2570\n",
      "Epoch 58/200\n",
      "11548/11548 [==============================] - 6s 527us/sample - loss: 4.4948 - class_1_loss: 1.7847 - class_2_loss: 1.7863 - class_result_loss: 1.7970 - rate_loss: 0.0254 - class_1_accuracy: 0.2918 - class_2_accuracy: 0.2810 - class_result_accuracy: 0.2875 - val_loss: 4.8992 - val_class_1_loss: 2.0419 - val_class_2_loss: 2.0334 - val_class_result_loss: 2.0165 - val_rate_loss: 0.0266 - val_class_1_accuracy: 0.2617 - val_class_2_accuracy: 0.2726 - val_class_result_accuracy: 0.2625\n"
     ]
    },
    {
     "data": {
      "text/plain": [
       "\"\\nregression_model.fit(x=X_train,\\n                     y=rate_train,\\n                     validation_data=(X_val, rate_val),\\n                     sample_weight={'rate' : sample_weight},\\n                     shuffle=True,\\n                     epochs = 300,\\n                     batch_size=batch_size,\\n                     callbacks=[early_stopping]\\n                    \\n                    )\\n\""
      ]
     },
     "execution_count": 18,
     "metadata": {},
     "output_type": "execute_result"
    }
   ],
   "source": [
    "early_stopping = tf.keras.callbacks.EarlyStopping(monitor='val_loss',\n",
    "                                                  min_delta=0.0001,\n",
    "                                                  patience=30, verbose=0, mode='auto')\n",
    "\n",
    "MTL_model.fit(x=X_train,\n",
    "              y={\n",
    "                  #'num_mis': num_mis_train,\n",
    "                  'class_1': class_train,\n",
    "                  'class_2': class_train,\n",
    "                  'class_result': class_train,\n",
    "                  'rate': rate_train},\n",
    "              validation_data=(X_val, {#'num_mis': num_mis_val,\n",
    "                                       'class_1': class_val,\n",
    "                                       'class_2': class_val,\n",
    "                                       'class_result': class_val,\n",
    "                                       'rate': rate_val}),\n",
    "              class_weight={\n",
    "                  'class_1' : class_weights_dict,\n",
    "                  'class_2' : class_weights_dict,\n",
    "                  'class_result' : class_weights_dict},\n",
    "              sample_weight={'rate' : sample_weight},\n",
    "              shuffle=True,\n",
    "              epochs=200,\n",
    "              batch_size=batch_size,\n",
    "              verbose=verbose,\n",
    "              callbacks=[early_stopping]\n",
    "             )\n",
    "\"\"\"\n",
    "regression_model.fit(x=X_train,\n",
    "                     y=rate_train,\n",
    "                     validation_data=(X_val, rate_val),\n",
    "                     sample_weight={'rate' : sample_weight},\n",
    "                     shuffle=True,\n",
    "                     epochs = 300,\n",
    "                     batch_size=batch_size,\n",
    "                     callbacks=[early_stopping]\n",
    "                    \n",
    "                    )\n",
    "\"\"\""
   ]
  },
  {
   "cell_type": "code",
   "execution_count": 33,
   "metadata": {},
   "outputs": [
    {
     "name": "stdout",
     "output_type": "stream",
     "text": [
      "Correlation : 0.7350022981765048\n",
      "Pearson Correlation : 0.7350022981765049\n",
      "Spearman Correlation : 0.7350635719385278\n"
     ]
    }
   ],
   "source": [
    "test_prediction = regression_model.predict(X_test)\n",
    "test_prediction = np.array(test_prediction).reshape(-1,)\n",
    "test_true = rate_test.reshape(-1,)\n",
    "\n",
    "test_correlation = np.corrcoef(test_prediction, test_true).flatten()[1]\n",
    "pearson_corr = pearsonr(test_prediction, test_true)\n",
    "spearman_corr = spearmanr(test_prediction, test_true)\n",
    "print('Correlation : {}'.format(test_correlation))\n",
    "print('Pearson Correlation : {}'.format(pearson_corr[0]))\n",
    "print('Spearman Correlation : {}'.format(spearman_corr[0]))"
   ]
  },
  {
   "cell_type": "code",
   "execution_count": 20,
   "metadata": {},
   "outputs": [
    {
     "name": "stdout",
     "output_type": "stream",
     "text": [
      "loss             : 4.4791\n",
      "class_1_loss     : 1.7827\n",
      "class_2_loss     : 1.7851\n",
      "class_result_loss : 1.7838\n",
      "rate_loss        : 0.0197\n",
      "class_1_accuracy : 0.2638\n",
      "class_2_accuracy : 0.2583\n",
      "class_result_accuracy : 0.2583\n"
     ]
    }
   ],
   "source": [
    "class_result_acc = MTL_model.evaluate(X_test,\n",
    "                                      {\n",
    "                                          #'num_mis': num_mis_test,\n",
    "                                          'class_1': class_test,\n",
    "                                          'class_2': class_test,\n",
    "                                          'class_result': class_test,\n",
    "                                          'rate': rate_test},\n",
    "                                      verbose=0\n",
    "                                     )\n",
    "#print(MTL_model.metrics_names)\n",
    "#print(class_result_acc)\n",
    "result_label = MTL_model.metrics_names\n",
    "for label, result in zip(result_label, class_result_acc):\n",
    "    print('{:16} : {:>6.4f}'.format(label,result))"
   ]
  },
  {
   "cell_type": "code",
   "execution_count": 21,
   "metadata": {},
   "outputs": [
    {
     "data": {
      "image/png": "[encoded data removed]",
      "text/plain": [
       "<Figure size 432x432 with 1 Axes>"
      ]
     },
     "metadata": {
      "needs_background": "light"
     },
     "output_type": "display_data"
    }
   ],
   "source": [
    "indel_predict = test_prediction\n",
    "indel_true = test_true\n",
    "\n",
    "fig, ax = plt.subplots(figsize=(6,6))\n",
    "ax.scatter(x=indel_true, y=indel_predict)\n",
    "ax.set_title('Test data', fontsize=20)\n",
    "ax.set_xlabel('True', fontsize=15)\n",
    "ax.set_ylabel('Prediction', fontsize=15)\n",
    "ax.set_xlim(0,1)\n",
    "ax.set_ylim(0,1)\n",
    "ax.grid(True)\n",
    "fig.show()"
   ]
  },
  {
   "cell_type": "code",
   "execution_count": null,
   "metadata": {},
   "outputs": [],
   "source": []
  },
  {
   "cell_type": "code",
   "execution_count": 22,
   "metadata": {},
   "outputs": [],
   "source": [
    "train_prediction = regression_model.predict(X_train).reshape(-1,)\n",
    "train_true = rate_train.reshape(-1,)"
   ]
  },
  {
   "cell_type": "code",
   "execution_count": 23,
   "metadata": {},
   "outputs": [
    {
     "data": {
      "image/png": "[encoded data removed]",
      "text/plain": [
       "<Figure size 432x432 with 1 Axes>"
      ]
     },
     "metadata": {
      "needs_background": "light"
     },
     "output_type": "display_data"
    }
   ],
   "source": [
    "indel_predict = train_prediction\n",
    "indel_true = train_true\n",
    "\n",
    "fig, ax = plt.subplots(figsize=(6,6))\n",
    "ax.scatter(x=indel_true, y=indel_predict)\n",
    "ax.set_title('Train data', fontsize=20)\n",
    "ax.set_xlabel('True', fontsize=15)\n",
    "ax.set_ylabel('Prediction', fontsize=15)\n",
    "ax.set_xlim(0,1)\n",
    "ax.set_ylim(0,1)\n",
    "ax.grid(True)\n",
    "fig.show()"
   ]
  },
  {
   "cell_type": "code",
   "execution_count": null,
   "metadata": {},
   "outputs": [],
   "source": []
  }
 ],
 "metadata": {
  "kernelspec": {
   "display_name": "Python 3",
   "language": "python",
   "name": "python3"
  },
  "language_info": {
   "codemirror_mode": {
    "name": "ipython",
    "version": 3
   },
   "file_extension": ".py",
   "mimetype": "text/x-python",
   "name": "python",
   "nbconvert_exporter": "python",
   "pygments_lexer": "ipython3",
   "version": "3.6.9"
  }
 },
 "nbformat": 4,
 "nbformat_minor": 4
}
