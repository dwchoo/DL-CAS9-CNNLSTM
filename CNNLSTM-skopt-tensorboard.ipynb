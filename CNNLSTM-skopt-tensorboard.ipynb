{
 "cells": [
  {
   "cell_type": "code",
   "execution_count": 1,
   "metadata": {},
   "outputs": [],
   "source": [
    "%load_ext autoreload\n",
    "%autoreload 2\n",
    "%config InlineBackend.figure_format ='retina'"
   ]
  },
  {
   "cell_type": "code",
   "execution_count": 2,
   "metadata": {},
   "outputs": [],
   "source": [
    "import tensorflow as tf"
   ]
  },
  {
   "cell_type": "code",
   "execution_count": 3,
   "metadata": {},
   "outputs": [],
   "source": [
    "from model_tunning import CNNLSTM_HP_tunning, SpCas9_HP_tunning"
   ]
  },
  {
   "cell_type": "code",
   "execution_count": 4,
   "metadata": {},
   "outputs": [],
   "source": [
    "log_dir = 'tensorboard_log/1/'\n",
    "\n",
    "HP_tunning_scale = {\n",
    "    'CNN_1_kernal' : 3,\n",
    "    'CNN_1_RNN' : 1,\n",
    "    'CNN_2_kernal' : 4,\n",
    "    'CNN_2_RNN' : 1,\n",
    "    'CNN_3_kernal' : 5,\n",
    "    'CNN_3_RNN' : 1,\n",
    "    'CNN_4_kernal' : 3,\n",
    "    'CNN_4_RNN' : 5,\n",
    "    'CNN_5_kernal' : 1,\n",
    "    'CNN_5_RNN' : 5,\n",
    "\n",
    "    'DNN_1' : 6,\n",
    "    'DNN_2' : 6,\n",
    "    'DNN_rate' : 9,\n",
    "\n",
    "    'CNN_dropout' : 0.5,\n",
    "    'DNN_dropout' : 0.5,\n",
    "\n",
    "    'learning_rate' : 0.0001\n",
    "}"
   ]
  },
  {
   "cell_type": "code",
   "execution_count": 11,
   "metadata": {},
   "outputs": [],
   "source": [
    "test_model = SpCas9_HP_tunning(default_HP_dict=HP_tunning_scale, log_dir=log_dir)"
   ]
  },
  {
   "cell_type": "code",
   "execution_count": 12,
   "metadata": {
    "scrolled": true
   },
   "outputs": [
    {
     "name": "stdout",
     "output_type": "stream",
     "text": [
      "Start time : 20200312-17:01:57\n",
      "====================== start trainning =======================\n",
      "progress : 1/6\n",
      "dict_items([('CNN_1_kernal', 8), ('CNN_1_RNN', 2), ('CNN_2_kernal', 16), ('CNN_2_RNN', 2), ('CNN_3_kernal', 32), ('CNN_3_RNN', 2), ('CNN_4_kernal', 8), ('CNN_4_RNN', 32), ('CNN_5_kernal', 2), ('CNN_5_RNN', 32), ('DNN_1', 64), ('DNN_2', 64), ('DNN_rate', 512), ('CNN_dropout', 0.5), ('DNN_dropout', 0.5), ('learning_rate', 0.0001)])\n",
      "WARNING:tensorflow:Method (on_train_batch_end) is slow compared to the batch update (0.218520). Check your callbacks.\n",
      "WARNING:tensorflow:Method (on_train_batch_end) is slow compared to the batch update (0.218629). Check your callbacks.\n",
      "WARNING:tensorflow:Method (on_train_batch_end) is slow compared to the batch update (0.222554). Check your callbacks.\n",
      "test_rate_loss : 0.05841    Test Pearson : -0.10125    Test Spearman : -0.08721    Bench Pearson : -0.00625    Bench Spearman : -0.00487\n",
      "test_rate_loss : 0.06136    Test Pearson : 0.01398    Test Spearman : 0.02093    Bench Pearson : 0.13024    Bench Spearman : 0.11312\n",
      "test_rate_loss : 0.05838    Test Pearson : 0.08020    Test Spearman : 0.07662    Bench Pearson : 0.07599    Bench Spearman : 0.06780\n",
      "### Mean of results ###\n",
      "test_rate_loss : 0.05988    Test Pearson : -0.02708    Test Spearman : -0.01922    Bench Pearson : 0.04843    Bench Spearman : 0.04279\n",
      "##############################################################\n",
      "====================== start trainning =======================\n",
      "progress : 2/6\n",
      "dict_items([('CNN_1_kernal', 4), ('CNN_1_RNN', 1), ('CNN_2_kernal', 512), ('CNN_2_RNN', 2), ('CNN_3_kernal', 128), ('CNN_3_RNN', 256), ('CNN_4_kernal', 512), ('CNN_4_RNN', 16), ('CNN_5_kernal', 4), ('CNN_5_RNN', 128), ('DNN_1', 256), ('DNN_2', 16), ('DNN_rate', 4), ('CNN_dropout', 0.07934268582310973), ('DNN_dropout', 0.037530053754539196), ('learning_rate', 0.0013456325988142422)])\n",
      "WARNING:tensorflow:Method (on_train_batch_end) is slow compared to the batch update (0.222902). Check your callbacks.\n",
      "WARNING:tensorflow:Method (on_train_batch_end) is slow compared to the batch update (0.221981). Check your callbacks.\n",
      "WARNING:tensorflow:Method (on_train_batch_end) is slow compared to the batch update (0.216574). Check your callbacks.\n",
      "test_rate_loss : 0.02678    Test Pearson : 0.61104    Test Spearman : 0.58942    Bench Pearson : 0.65283    Bench Spearman : 0.57956\n",
      "test_rate_loss : 0.02640    Test Pearson : 0.61611    Test Spearman : 0.59349    Bench Pearson : 0.58583    Bench Spearman : 0.52579\n",
      "test_rate_loss : 0.02712    Test Pearson : 0.59450    Test Spearman : 0.56225    Bench Pearson : 0.63135    Bench Spearman : 0.52104\n",
      "### Mean of results ###\n",
      "test_rate_loss : 0.02686    Test Pearson : 0.60404    Test Spearman : 0.57686    Bench Pearson : 0.61396    Bench Spearman : 0.53686\n",
      "##############################################################\n",
      "====================== start trainning =======================\n",
      "progress : 3/6\n",
      "dict_items([('CNN_1_kernal', 256), ('CNN_1_RNN', 2), ('CNN_2_kernal', 64), ('CNN_2_RNN', 16), ('CNN_3_kernal', 16), ('CNN_3_RNN', 8), ('CNN_4_kernal', 1), ('CNN_4_RNN', 128), ('CNN_5_kernal', 1), ('CNN_5_RNN', 128), ('DNN_1', 1), ('DNN_2', 64), ('DNN_rate', 16), ('CNN_dropout', 0.1232375697147066), ('DNN_dropout', 0.42336123210295606), ('learning_rate', 0.0015123326547249955)])\n",
      "WARNING:tensorflow:Method (on_train_batch_end) is slow compared to the batch update (0.217727). Check your callbacks.\n",
      "WARNING:tensorflow:Method (on_train_batch_end) is slow compared to the batch update (0.218675). Check your callbacks.\n",
      "WARNING:tensorflow:Method (on_train_batch_end) is slow compared to the batch update (0.220362). Check your callbacks.\n"
     ]
    },
    {
     "name": "stderr",
     "output_type": "stream",
     "text": [
      "/usr/local/lib/python3.6/dist-packages/scipy/stats/stats.py:3508: PearsonRConstantInputWarning: An input array is constant; the correlation coefficent is not defined.\n",
      "  warnings.warn(PearsonRConstantInputWarning())\n",
      "/usr/local/lib/python3.6/dist-packages/numpy/lib/function_base.py:2534: RuntimeWarning: invalid value encountered in true_divide\n",
      "  c /= stddev[:, None]\n",
      "/usr/local/lib/python3.6/dist-packages/numpy/lib/function_base.py:2535: RuntimeWarning: invalid value encountered in true_divide\n",
      "  c /= stddev[None, :]\n",
      "/usr/local/lib/python3.6/dist-packages/scipy/stats/_distn_infrastructure.py:903: RuntimeWarning: invalid value encountered in greater\n",
      "  return (a < x) & (x < b)\n",
      "/usr/local/lib/python3.6/dist-packages/scipy/stats/_distn_infrastructure.py:903: RuntimeWarning: invalid value encountered in less\n",
      "  return (a < x) & (x < b)\n",
      "/usr/local/lib/python3.6/dist-packages/scipy/stats/_distn_infrastructure.py:1912: RuntimeWarning: invalid value encountered in less_equal\n",
      "  cond2 = cond0 & (x <= _a)\n"
     ]
    },
    {
     "name": "stdout",
     "output_type": "stream",
     "text": [
      "test_rate_loss : 0.04330    Test Pearson : 0.00000    Test Spearman : 0.00000    Bench Pearson : 0.00000    Bench Spearman : 0.00000\n"
     ]
    },
    {
     "name": "stderr",
     "output_type": "stream",
     "text": [
      "/usr/local/lib/python3.6/dist-packages/scipy/stats/stats.py:3508: PearsonRConstantInputWarning: An input array is constant; the correlation coefficent is not defined.\n",
      "  warnings.warn(PearsonRConstantInputWarning())\n",
      "/usr/local/lib/python3.6/dist-packages/numpy/lib/function_base.py:2534: RuntimeWarning: invalid value encountered in true_divide\n",
      "  c /= stddev[:, None]\n",
      "/usr/local/lib/python3.6/dist-packages/numpy/lib/function_base.py:2535: RuntimeWarning: invalid value encountered in true_divide\n",
      "  c /= stddev[None, :]\n",
      "/usr/local/lib/python3.6/dist-packages/scipy/stats/_distn_infrastructure.py:903: RuntimeWarning: invalid value encountered in greater\n",
      "  return (a < x) & (x < b)\n",
      "/usr/local/lib/python3.6/dist-packages/scipy/stats/_distn_infrastructure.py:903: RuntimeWarning: invalid value encountered in less\n",
      "  return (a < x) & (x < b)\n",
      "/usr/local/lib/python3.6/dist-packages/scipy/stats/_distn_infrastructure.py:1912: RuntimeWarning: invalid value encountered in less_equal\n",
      "  cond2 = cond0 & (x <= _a)\n",
      "/usr/local/lib/python3.6/dist-packages/scipy/stats/stats.py:3508: PearsonRConstantInputWarning: An input array is constant; the correlation coefficent is not defined.\n",
      "  warnings.warn(PearsonRConstantInputWarning())\n",
      "/usr/local/lib/python3.6/dist-packages/numpy/lib/function_base.py:2534: RuntimeWarning: invalid value encountered in true_divide\n",
      "  c /= stddev[:, None]\n",
      "/usr/local/lib/python3.6/dist-packages/numpy/lib/function_base.py:2535: RuntimeWarning: invalid value encountered in true_divide\n",
      "  c /= stddev[None, :]\n",
      "/usr/local/lib/python3.6/dist-packages/scipy/stats/_distn_infrastructure.py:903: RuntimeWarning: invalid value encountered in greater\n",
      "  return (a < x) & (x < b)\n",
      "/usr/local/lib/python3.6/dist-packages/scipy/stats/_distn_infrastructure.py:903: RuntimeWarning: invalid value encountered in less\n",
      "  return (a < x) & (x < b)\n",
      "/usr/local/lib/python3.6/dist-packages/scipy/stats/_distn_infrastructure.py:1912: RuntimeWarning: invalid value encountered in less_equal\n",
      "  cond2 = cond0 & (x <= _a)\n"
     ]
    },
    {
     "name": "stdout",
     "output_type": "stream",
     "text": [
      "test_rate_loss : 0.04334    Test Pearson : 0.00000    Test Spearman : 0.00000    Bench Pearson : 0.00000    Bench Spearman : 0.00000\n",
      "test_rate_loss : 0.04248    Test Pearson : 0.00000    Test Spearman : 0.00000    Bench Pearson : 0.00000    Bench Spearman : 0.00000\n",
      "### Mean of results ###\n",
      "test_rate_loss : 0.04312    Test Pearson : 0.00000    Test Spearman : 0.00000    Bench Pearson : 0.00000    Bench Spearman : 0.00000\n",
      "##############################################################\n",
      "====================== start trainning =======================\n",
      "progress : 4/6\n",
      "dict_items([('CNN_1_kernal', 64), ('CNN_1_RNN', 32), ('CNN_2_kernal', 2), ('CNN_2_RNN', 512), ('CNN_3_kernal', 256), ('CNN_3_RNN', 128), ('CNN_4_kernal', 1), ('CNN_4_RNN', 4), ('CNN_5_kernal', 2), ('CNN_5_RNN', 16), ('DNN_1', 16), ('DNN_2', 512), ('DNN_rate', 8), ('CNN_dropout', 0.14955079166241161), ('DNN_dropout', 0.17140932084304764), ('learning_rate', 4.612598671489441e-05)])\n",
      "WARNING:tensorflow:Method (on_train_batch_end) is slow compared to the batch update (0.218510). Check your callbacks.\n",
      "WARNING:tensorflow:Method (on_train_batch_end) is slow compared to the batch update (0.225715). Check your callbacks.\n",
      "WARNING:tensorflow:Method (on_train_batch_end) is slow compared to the batch update (0.222565). Check your callbacks.\n",
      "test_rate_loss : 0.04707    Test Pearson : 0.05124    Test Spearman : 0.04505    Bench Pearson : 0.02286    Bench Spearman : 0.03751\n",
      "test_rate_loss : 0.04457    Test Pearson : 0.08335    Test Spearman : 0.05732    Bench Pearson : 0.09178    Bench Spearman : 0.14120\n",
      "test_rate_loss : 0.04704    Test Pearson : -0.03212    Test Spearman : -0.03604    Bench Pearson : 0.04373    Bench Spearman : 0.10310\n",
      "### Mean of results ###\n",
      "test_rate_loss : 0.04644    Test Pearson : 0.01759    Test Spearman : 0.00757    Bench Pearson : 0.04531    Bench Spearman : 0.07983\n",
      "##############################################################\n",
      "====================== start trainning =======================\n",
      "progress : 5/6\n",
      "dict_items([('CNN_1_kernal', 1), ('CNN_1_RNN', 1024), ('CNN_2_kernal', 1024), ('CNN_2_RNN', 1024), ('CNN_3_kernal', 1), ('CNN_3_RNN', 1), ('CNN_4_kernal', 1024), ('CNN_4_RNN', 1), ('CNN_5_kernal', 1024), ('CNN_5_RNN', 1024), ('DNN_1', 1024), ('DNN_2', 1), ('DNN_rate', 1), ('CNN_dropout', 0.5), ('DNN_dropout', 0.5), ('learning_rate', 1e-06)])\n",
      "WARNING:tensorflow:Method (on_train_batch_end) is slow compared to the batch update (0.209414). Check your callbacks.\n",
      "WARNING:tensorflow:Method (on_train_batch_end) is slow compared to the batch update (0.227529). Check your callbacks.\n",
      "WARNING:tensorflow:Method (on_train_batch_end) is slow compared to the batch update (0.217143). Check your callbacks.\n"
     ]
    },
    {
     "name": "stderr",
     "output_type": "stream",
     "text": [
      "/usr/local/lib/python3.6/dist-packages/scipy/stats/stats.py:3508: PearsonRConstantInputWarning: An input array is constant; the correlation coefficent is not defined.\n",
      "  warnings.warn(PearsonRConstantInputWarning())\n",
      "/usr/local/lib/python3.6/dist-packages/numpy/lib/function_base.py:2534: RuntimeWarning: invalid value encountered in true_divide\n",
      "  c /= stddev[:, None]\n",
      "/usr/local/lib/python3.6/dist-packages/numpy/lib/function_base.py:2535: RuntimeWarning: invalid value encountered in true_divide\n",
      "  c /= stddev[None, :]\n",
      "/usr/local/lib/python3.6/dist-packages/scipy/stats/_distn_infrastructure.py:903: RuntimeWarning: invalid value encountered in greater\n",
      "  return (a < x) & (x < b)\n",
      "/usr/local/lib/python3.6/dist-packages/scipy/stats/_distn_infrastructure.py:903: RuntimeWarning: invalid value encountered in less\n",
      "  return (a < x) & (x < b)\n",
      "/usr/local/lib/python3.6/dist-packages/scipy/stats/_distn_infrastructure.py:1912: RuntimeWarning: invalid value encountered in less_equal\n",
      "  cond2 = cond0 & (x <= _a)\n"
     ]
    },
    {
     "name": "stdout",
     "output_type": "stream",
     "text": [
      "test_rate_loss : 0.20988    Test Pearson : 0.00000    Test Spearman : 0.00000    Bench Pearson : 0.00000    Bench Spearman : 0.00000\n"
     ]
    },
    {
     "name": "stderr",
     "output_type": "stream",
     "text": [
      "/usr/local/lib/python3.6/dist-packages/scipy/stats/stats.py:3508: PearsonRConstantInputWarning: An input array is constant; the correlation coefficent is not defined.\n",
      "  warnings.warn(PearsonRConstantInputWarning())\n",
      "/usr/local/lib/python3.6/dist-packages/numpy/lib/function_base.py:2534: RuntimeWarning: invalid value encountered in true_divide\n",
      "  c /= stddev[:, None]\n",
      "/usr/local/lib/python3.6/dist-packages/numpy/lib/function_base.py:2535: RuntimeWarning: invalid value encountered in true_divide\n",
      "  c /= stddev[None, :]\n",
      "/usr/local/lib/python3.6/dist-packages/scipy/stats/_distn_infrastructure.py:903: RuntimeWarning: invalid value encountered in greater\n",
      "  return (a < x) & (x < b)\n",
      "/usr/local/lib/python3.6/dist-packages/scipy/stats/_distn_infrastructure.py:903: RuntimeWarning: invalid value encountered in less\n",
      "  return (a < x) & (x < b)\n",
      "/usr/local/lib/python3.6/dist-packages/scipy/stats/_distn_infrastructure.py:1912: RuntimeWarning: invalid value encountered in less_equal\n",
      "  cond2 = cond0 & (x <= _a)\n"
     ]
    },
    {
     "name": "stdout",
     "output_type": "stream",
     "text": [
      "test_rate_loss : 0.20988    Test Pearson : 0.00000    Test Spearman : 0.00000    Bench Pearson : 0.00000    Bench Spearman : 0.00000\n"
     ]
    },
    {
     "name": "stderr",
     "output_type": "stream",
     "text": [
      "/usr/local/lib/python3.6/dist-packages/scipy/stats/stats.py:3508: PearsonRConstantInputWarning: An input array is constant; the correlation coefficent is not defined.\n",
      "  warnings.warn(PearsonRConstantInputWarning())\n",
      "/usr/local/lib/python3.6/dist-packages/numpy/lib/function_base.py:2534: RuntimeWarning: invalid value encountered in true_divide\n",
      "  c /= stddev[:, None]\n",
      "/usr/local/lib/python3.6/dist-packages/numpy/lib/function_base.py:2535: RuntimeWarning: invalid value encountered in true_divide\n",
      "  c /= stddev[None, :]\n",
      "/usr/local/lib/python3.6/dist-packages/scipy/stats/_distn_infrastructure.py:903: RuntimeWarning: invalid value encountered in greater\n",
      "  return (a < x) & (x < b)\n",
      "/usr/local/lib/python3.6/dist-packages/scipy/stats/_distn_infrastructure.py:903: RuntimeWarning: invalid value encountered in less\n",
      "  return (a < x) & (x < b)\n",
      "/usr/local/lib/python3.6/dist-packages/scipy/stats/_distn_infrastructure.py:1912: RuntimeWarning: invalid value encountered in less_equal\n",
      "  cond2 = cond0 & (x <= _a)\n"
     ]
    },
    {
     "name": "stdout",
     "output_type": "stream",
     "text": [
      "test_rate_loss : 0.20988    Test Pearson : 0.00000    Test Spearman : 0.00000    Bench Pearson : 0.00000    Bench Spearman : 0.00000\n",
      "### Mean of results ###\n",
      "test_rate_loss : 0.20988    Test Pearson : 0.00000    Test Spearman : 0.00000    Bench Pearson : 0.00000    Bench Spearman : 0.00000\n",
      "##############################################################\n",
      "====================== start trainning =======================\n",
      "progress : 6/6\n",
      "dict_items([('CNN_1_kernal', 1), ('CNN_1_RNN', 1), ('CNN_2_kernal', 1024), ('CNN_2_RNN', 1), ('CNN_3_kernal', 1024), ('CNN_3_RNN', 2), ('CNN_4_kernal', 1024), ('CNN_4_RNN', 1024), ('CNN_5_kernal', 1), ('CNN_5_RNN', 1), ('DNN_1', 1024), ('DNN_2', 1), ('DNN_rate', 1024), ('CNN_dropout', 0.5), ('DNN_dropout', 0.001), ('learning_rate', 0.1)])\n",
      "WARNING:tensorflow:Method (on_train_batch_end) is slow compared to the batch update (0.218974). Check your callbacks.\n",
      "WARNING:tensorflow:Method (on_train_batch_end) is slow compared to the batch update (0.219255). Check your callbacks.\n",
      "WARNING:tensorflow:Method (on_train_batch_end) is slow compared to the batch update (0.222210). Check your callbacks.\n"
     ]
    },
    {
     "name": "stderr",
     "output_type": "stream",
     "text": [
      "/usr/local/lib/python3.6/dist-packages/scipy/stats/stats.py:3508: PearsonRConstantInputWarning: An input array is constant; the correlation coefficent is not defined.\n",
      "  warnings.warn(PearsonRConstantInputWarning())\n",
      "/usr/local/lib/python3.6/dist-packages/numpy/lib/function_base.py:2534: RuntimeWarning: invalid value encountered in true_divide\n",
      "  c /= stddev[:, None]\n",
      "/usr/local/lib/python3.6/dist-packages/numpy/lib/function_base.py:2535: RuntimeWarning: invalid value encountered in true_divide\n",
      "  c /= stddev[None, :]\n",
      "/usr/local/lib/python3.6/dist-packages/scipy/stats/_distn_infrastructure.py:903: RuntimeWarning: invalid value encountered in greater\n",
      "  return (a < x) & (x < b)\n",
      "/usr/local/lib/python3.6/dist-packages/scipy/stats/_distn_infrastructure.py:903: RuntimeWarning: invalid value encountered in less\n",
      "  return (a < x) & (x < b)\n",
      "/usr/local/lib/python3.6/dist-packages/scipy/stats/_distn_infrastructure.py:1912: RuntimeWarning: invalid value encountered in less_equal\n",
      "  cond2 = cond0 & (x <= _a)\n",
      "/usr/local/lib/python3.6/dist-packages/scipy/stats/stats.py:3508: PearsonRConstantInputWarning: An input array is constant; the correlation coefficent is not defined.\n",
      "  warnings.warn(PearsonRConstantInputWarning())\n",
      "/usr/local/lib/python3.6/dist-packages/numpy/lib/function_base.py:2534: RuntimeWarning: invalid value encountered in true_divide\n",
      "  c /= stddev[:, None]\n",
      "/usr/local/lib/python3.6/dist-packages/numpy/lib/function_base.py:2535: RuntimeWarning: invalid value encountered in true_divide\n",
      "  c /= stddev[None, :]\n",
      "/usr/local/lib/python3.6/dist-packages/scipy/stats/_distn_infrastructure.py:903: RuntimeWarning: invalid value encountered in greater\n",
      "  return (a < x) & (x < b)\n",
      "/usr/local/lib/python3.6/dist-packages/scipy/stats/_distn_infrastructure.py:903: RuntimeWarning: invalid value encountered in less\n",
      "  return (a < x) & (x < b)\n",
      "/usr/local/lib/python3.6/dist-packages/scipy/stats/_distn_infrastructure.py:1912: RuntimeWarning: invalid value encountered in less_equal\n",
      "  cond2 = cond0 & (x <= _a)\n"
     ]
    },
    {
     "name": "stdout",
     "output_type": "stream",
     "text": [
      "test_rate_loss : 0.04187    Test Pearson : 0.00000    Test Spearman : 0.00000    Bench Pearson : 0.00000    Bench Spearman : 0.00000\n",
      "test_rate_loss : 0.57872    Test Pearson : 0.00000    Test Spearman : 0.00000    Bench Pearson : 0.00000    Bench Spearman : 0.00000\n"
     ]
    },
    {
     "name": "stderr",
     "output_type": "stream",
     "text": [
      "/usr/local/lib/python3.6/dist-packages/scipy/stats/stats.py:3508: PearsonRConstantInputWarning: An input array is constant; the correlation coefficent is not defined.\n",
      "  warnings.warn(PearsonRConstantInputWarning())\n",
      "/usr/local/lib/python3.6/dist-packages/numpy/lib/function_base.py:2534: RuntimeWarning: invalid value encountered in true_divide\n",
      "  c /= stddev[:, None]\n",
      "/usr/local/lib/python3.6/dist-packages/numpy/lib/function_base.py:2535: RuntimeWarning: invalid value encountered in true_divide\n",
      "  c /= stddev[None, :]\n",
      "/usr/local/lib/python3.6/dist-packages/scipy/stats/_distn_infrastructure.py:903: RuntimeWarning: invalid value encountered in greater\n",
      "  return (a < x) & (x < b)\n",
      "/usr/local/lib/python3.6/dist-packages/scipy/stats/_distn_infrastructure.py:903: RuntimeWarning: invalid value encountered in less\n",
      "  return (a < x) & (x < b)\n",
      "/usr/local/lib/python3.6/dist-packages/scipy/stats/_distn_infrastructure.py:1912: RuntimeWarning: invalid value encountered in less_equal\n",
      "  cond2 = cond0 & (x <= _a)\n"
     ]
    },
    {
     "name": "stdout",
     "output_type": "stream",
     "text": [
      "test_rate_loss : 0.04232    Test Pearson : 0.00000    Test Spearman : 0.00000    Bench Pearson : 0.00000    Bench Spearman : 0.00000\n",
      "### Mean of results ###\n",
      "test_rate_loss : 0.31041    Test Pearson : 0.00000    Test Spearman : 0.00000    Bench Pearson : 0.00000    Bench Spearman : 0.00000\n",
      "##############################################################\n",
      "Finish time : 20200312-17:06:59\n"
     ]
    }
   ],
   "source": [
    "test_model.tunning_start(\n",
    "    n_random_start=3,\n",
    "    n_cell=6,\n",
    "    x0=None,\n",
    "    case_num=3,\n",
    "    log_dir=log_dir,\n",
    "    GPU_list=[1,2,0]\n",
    ")"
   ]
  },
  {
   "cell_type": "code",
   "execution_count": null,
   "metadata": {},
   "outputs": [],
   "source": [
    "test_model.tunning_result_plot()"
   ]
  },
  {
   "cell_type": "code",
   "execution_count": 13,
   "metadata": {},
   "outputs": [
    {
     "name": "stdout",
     "output_type": "stream",
     "text": [
      "CNN_1_kernal  :    4\n",
      "CNN_1_RNN     :    1\n",
      "CNN_2_kernal  :  512\n",
      "CNN_2_RNN     :    2\n",
      "CNN_3_kernal  :  128\n",
      "CNN_3_RNN     :  256\n",
      "CNN_4_kernal  :  512\n",
      "CNN_4_RNN     :   16\n",
      "CNN_5_kernal  :    4\n",
      "CNN_5_RNN     :  128\n",
      "DNN_1         :  256\n",
      "DNN_2         :   16\n",
      "DNN_rate      :    4\n",
      "CNN_dropout   : 0.0793427\n",
      "DNN_dropout   : 0.0375301\n",
      "learning_rate : 0.0013456\n"
     ]
    }
   ],
   "source": [
    "test_model.show_best_point()"
   ]
  },
  {
   "cell_type": "code",
   "execution_count": null,
   "metadata": {},
   "outputs": [],
   "source": []
  },
  {
   "cell_type": "raw",
   "metadata": {},
   "source": [
    "test_model = CNNLSTM_HP_tunning(default_HP_dict=default_HP, log_dir=log_dir)"
   ]
  },
  {
   "cell_type": "raw",
   "metadata": {},
   "source": [
    "test_model.tunning_start(n_random_start=5, n_cell=10)"
   ]
  },
  {
   "cell_type": "raw",
   "metadata": {
    "scrolled": true
   },
   "source": [
    "test_model.tunning_result_plot()"
   ]
  },
  {
   "cell_type": "raw",
   "metadata": {},
   "source": [
    "test_model.tunning_result_plot(file_format='png')"
   ]
  },
  {
   "cell_type": "code",
   "execution_count": null,
   "metadata": {},
   "outputs": [],
   "source": []
  },
  {
   "cell_type": "code",
   "execution_count": null,
   "metadata": {},
   "outputs": [],
   "source": []
  }
 ],
 "metadata": {
  "kernelspec": {
   "display_name": "Python 3",
   "language": "python",
   "name": "python3"
  },
  "language_info": {
   "codemirror_mode": {
    "name": "ipython",
    "version": 3
   },
   "file_extension": ".py",
   "mimetype": "text/x-python",
   "name": "python",
   "nbconvert_exporter": "python",
   "pygments_lexer": "ipython3",
   "version": "3.6.9"
  }
 },
 "nbformat": 4,
 "nbformat_minor": 4
}
