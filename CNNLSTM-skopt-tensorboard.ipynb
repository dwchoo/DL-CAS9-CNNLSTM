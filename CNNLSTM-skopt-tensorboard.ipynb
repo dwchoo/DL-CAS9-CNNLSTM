{
 "cells": [
  {
   "cell_type": "code",
   "execution_count": 1,
   "metadata": {},
   "outputs": [],
   "source": [
    "%load_ext autoreload\n",
    "%autoreload 2\n",
    "%config InlineBackend.figure_format ='retina'"
   ]
  },
  {
   "cell_type": "code",
   "execution_count": 2,
   "metadata": {},
   "outputs": [],
   "source": [
    "import tensorflow as tf"
   ]
  },
  {
   "cell_type": "code",
   "execution_count": 3,
   "metadata": {},
   "outputs": [],
   "source": [
    "from model_tunning import *"
   ]
  },
  {
   "cell_type": "code",
   "execution_count": 5,
   "metadata": {},
   "outputs": [],
   "source": [
    "log_dir = 'tensorboard_log/2/'\n",
    "\n",
    "\n",
    "HP_tunning_3_layer_scale = {\n",
    "    'CNN_1_kernal' : 5,\n",
    "    'CNN_1_RNN' : 4,\n",
    "    'CNN_2_kernal' : 0,\n",
    "    'CNN_2_RNN' : 1,\n",
    "    'CNN_3_kernal' : 5,\n",
    "    'CNN_3_RNN' : 1,\n",
    "    #'CNN_4_kernal' : 3,\n",
    "    #'CNN_4_RNN' : 5,\n",
    "    #'CNN_5_kernal' : 1,\n",
    "    #'CNN_5_RNN' : 5,\n",
    "\n",
    "    'DNN_1' : 9,\n",
    "    'DNN_2' : 2,\n",
    "    'DNN_rate' : 9,\n",
    "\n",
    "    'CNN_dropout' : 0.5,\n",
    "    'DNN_dropout' : 0.5,\n",
    "\n",
    "    'learning_rate' : 0.0003\n",
    "}"
   ]
  },
  {
   "cell_type": "code",
   "execution_count": 22,
   "metadata": {},
   "outputs": [],
   "source": [
    "test_model = CNNLSTM_regression_3_layer_HP_tunning(default_HP_dict=HP_tunning_3_layer_scale, log_dir=log_dir, multi_case_tunning=False)"
   ]
  },
  {
   "cell_type": "code",
   "execution_count": 23,
   "metadata": {},
   "outputs": [],
   "source": [
    "test_model._model_epoch_control = 3\n",
    "test_model._model_verbose = 1"
   ]
  },
  {
   "cell_type": "code",
   "execution_count": 24,
   "metadata": {
    "scrolled": false
   },
   "outputs": [
    {
     "name": "stdout",
     "output_type": "stream",
     "text": [
      "Start time : 20200317-16:29:35\n",
      "====================== start trainning =======================\n",
      "progress : 1/6\n",
      "##############################################################\n",
      "Train on 11548 samples, validate on 1284 samples\n",
      "Epoch 1/3\n",
      "   64/11548 [..............................] - ETA: 21:02 - loss: 0.6225 - rate_1_loss: 0.2705 - rate_2_loss: 0.1636 - rate_loss: 0.1884WARNING:tensorflow:Method (on_train_batch_end) is slow compared to the batch update (0.230695). Check your callbacks.\n",
      "11548/11548 [==============================] - 17s 1ms/sample - loss: 0.2181 - rate_1_loss: 0.0753 - rate_2_loss: 0.0680 - rate_loss: 0.0748 - val_loss: 0.1673 - val_rate_1_loss: 0.0533 - val_rate_2_loss: 0.0592 - val_rate_loss: 0.0565\n",
      "Epoch 2/3\n",
      "11548/11548 [==============================] - 7s 635us/sample - loss: 0.1702 - rate_1_loss: 0.0582 - rate_2_loss: 0.0570 - rate_loss: 0.0550 - val_loss: 0.1588 - val_rate_1_loss: 0.0525 - val_rate_2_loss: 0.0546 - val_rate_loss: 0.0529\n",
      "Epoch 3/3\n",
      "11548/11548 [==============================] - 7s 629us/sample - loss: 0.1660 - rate_1_loss: 0.0568 - rate_2_loss: 0.0550 - rate_loss: 0.0543 - val_loss: 0.1563 - val_rate_1_loss: 0.0520 - val_rate_2_loss: 0.0524 - val_rate_loss: 0.0528\n",
      "test_rate_loss : 0.04166    Test Pearson : 0.12168    Test Spearman : 0.11419    Bench Pearson : 0.21964    Bench Spearman : 0.14696\n",
      "====================== start trainning =======================\n",
      "progress : 2/6\n",
      "##############################################################\n",
      "Train on 11548 samples, validate on 1284 samples\n",
      "Epoch 1/3\n",
      "11548/11548 [==============================] - 14s 1ms/sample - loss: 0.5953 - rate_1_loss: 0.1929 - rate_2_loss: 0.2012 - rate_loss: 0.2010 - val_loss: 0.5805 - val_rate_1_loss: 0.1930 - val_rate_2_loss: 0.2018 - val_rate_loss: 0.1939\n",
      "Epoch 2/3\n",
      "11548/11548 [==============================] - 7s 639us/sample - loss: 0.5680 - rate_1_loss: 0.1851 - rate_2_loss: 0.1938 - rate_loss: 0.1895 - val_loss: 0.5522 - val_rate_1_loss: 0.1855 - val_rate_2_loss: 0.1930 - val_rate_loss: 0.1815\n",
      "Epoch 3/3\n",
      "11548/11548 [==============================] - 7s 632us/sample - loss: 0.5424 - rate_1_loss: 0.1778 - rate_2_loss: 0.1858 - rate_loss: 0.1783 - val_loss: 0.5244 - val_rate_1_loss: 0.1783 - val_rate_2_loss: 0.1841 - val_rate_loss: 0.1695\n",
      "test_rate_loss : 0.15963    Test Pearson : -0.03787    Test Spearman : -0.02553    Bench Pearson : -0.02927    Bench Spearman : 0.03699\n",
      "====================== start trainning =======================\n",
      "progress : 3/6\n",
      "##############################################################\n",
      "Train on 11548 samples, validate on 1284 samples\n",
      "Epoch 1/3\n",
      "11548/11548 [==============================] - 15s 1ms/sample - loss: 0.2268 - rate_1_loss: 0.0874 - rate_2_loss: 0.0698 - rate_loss: 0.0694 - val_loss: 0.1437 - val_rate_1_loss: 0.0519 - val_rate_2_loss: 0.0531 - val_rate_loss: 0.0403\n",
      "Epoch 2/3\n",
      "11548/11548 [==============================] - 8s 653us/sample - loss: 0.1497 - rate_1_loss: 0.0557 - rate_2_loss: 0.0516 - rate_loss: 0.0424 - val_loss: 0.1252 - val_rate_1_loss: 0.0447 - val_rate_2_loss: 0.0448 - val_rate_loss: 0.0371\n",
      "Epoch 3/3\n",
      "11548/11548 [==============================] - 8s 650us/sample - loss: 0.1343 - rate_1_loss: 0.0492 - rate_2_loss: 0.0460 - rate_loss: 0.0392 - val_loss: 0.1211 - val_rate_1_loss: 0.0418 - val_rate_2_loss: 0.0413 - val_rate_loss: 0.0387\n",
      "test_rate_loss : 0.03321    Test Pearson : 0.52095    Test Spearman : 0.49139    Bench Pearson : 0.53553    Bench Spearman : 0.50436\n",
      "====================== start trainning =======================\n",
      "progress : 4/6\n",
      "##############################################################\n",
      "Train on 11548 samples, validate on 1284 samples\n",
      "Epoch 1/3\n",
      "11548/11548 [==============================] - 15s 1ms/sample - loss: 0.1979 - rate_1_loss: 0.0590 - rate_2_loss: 0.0813 - rate_loss: 0.0574 - val_loss: 0.1582 - val_rate_1_loss: 0.0529 - val_rate_2_loss: 0.0531 - val_rate_loss: 0.0530\n",
      "Epoch 2/3\n",
      "11548/11548 [==============================] - 7s 634us/sample - loss: 0.1590 - rate_1_loss: 0.0530 - rate_2_loss: 0.0529 - rate_loss: 0.0531 - val_loss: 0.1582 - val_rate_1_loss: 0.0529 - val_rate_2_loss: 0.0530 - val_rate_loss: 0.0530\n",
      "Epoch 3/3\n",
      "11548/11548 [==============================] - 7s 642us/sample - loss: 0.1599 - rate_1_loss: 0.0534 - rate_2_loss: 0.0531 - rate_loss: 0.0534 - val_loss: 0.1634 - val_rate_1_loss: 0.0557 - val_rate_2_loss: 0.0535 - val_rate_loss: 0.0557\n"
     ]
    },
    {
     "name": "stderr",
     "output_type": "stream",
     "text": [
      "/usr/local/lib/python3.6/dist-packages/scipy/stats/stats.py:3508: PearsonRConstantInputWarning: An input array is constant; the correlation coefficent is not defined.\n",
      "  warnings.warn(PearsonRConstantInputWarning())\n",
      "/usr/local/lib/python3.6/dist-packages/numpy/lib/function_base.py:2534: RuntimeWarning: invalid value encountered in true_divide\n",
      "  c /= stddev[:, None]\n",
      "/usr/local/lib/python3.6/dist-packages/numpy/lib/function_base.py:2535: RuntimeWarning: invalid value encountered in true_divide\n",
      "  c /= stddev[None, :]\n",
      "/usr/local/lib/python3.6/dist-packages/scipy/stats/_distn_infrastructure.py:903: RuntimeWarning: invalid value encountered in greater\n",
      "  return (a < x) & (x < b)\n",
      "/usr/local/lib/python3.6/dist-packages/scipy/stats/_distn_infrastructure.py:903: RuntimeWarning: invalid value encountered in less\n",
      "  return (a < x) & (x < b)\n",
      "/usr/local/lib/python3.6/dist-packages/scipy/stats/_distn_infrastructure.py:1912: RuntimeWarning: invalid value encountered in less_equal\n",
      "  cond2 = cond0 & (x <= _a)\n"
     ]
    },
    {
     "name": "stdout",
     "output_type": "stream",
     "text": [
      "test_rate_loss : 0.04494    Test Pearson : 0.00000    Test Spearman : 0.00000    Bench Pearson : 0.00000    Bench Spearman : 0.00000\n",
      "====================== start trainning =======================\n",
      "progress : 5/6\n",
      "##############################################################\n",
      "Train on 11548 samples, validate on 1284 samples\n",
      "Epoch 1/3\n",
      "11548/11548 [==============================] - 15s 1ms/sample - loss: 0.3905 - rate_1_loss: 0.1689 - rate_2_loss: 0.1488 - rate_loss: 0.0725 - val_loss: 0.2239 - val_rate_1_loss: 0.1155 - val_rate_2_loss: 0.0690 - val_rate_loss: 0.0439\n",
      "Epoch 2/3\n",
      "11548/11548 [==============================] - 8s 657us/sample - loss: 0.2762 - rate_1_loss: 0.1299 - rate_2_loss: 0.0897 - rate_loss: 0.0567 - val_loss: 0.1782 - val_rate_1_loss: 0.0832 - val_rate_2_loss: 0.0595 - val_rate_loss: 0.0397\n",
      "Epoch 3/3\n",
      "11548/11548 [==============================] - 8s 654us/sample - loss: 0.2460 - rate_1_loss: 0.1103 - rate_2_loss: 0.0823 - rate_loss: 0.0533 - val_loss: 0.1621 - val_rate_1_loss: 0.0715 - val_rate_2_loss: 0.0581 - val_rate_loss: 0.0363\n",
      "test_rate_loss : 0.03123    Test Pearson : 0.50672    Test Spearman : 0.47993    Bench Pearson : 0.56713    Bench Spearman : 0.52251\n",
      "====================== start trainning =======================\n",
      "progress : 6/6\n",
      "##############################################################\n",
      "Train on 11548 samples, validate on 1284 samples\n",
      "Epoch 1/3\n",
      "11548/11548 [==============================] - 22s 2ms/sample - loss: 0.4116 - rate_1_loss: 0.1136 - rate_2_loss: 0.1084 - rate_loss: 0.1895 - val_loss: 0.2831 - val_rate_1_loss: 0.0484 - val_rate_2_loss: 0.0491 - val_rate_loss: 0.1893\n",
      "Epoch 2/3\n",
      "11548/11548 [==============================] - 12s 1ms/sample - loss: 0.3360 - rate_1_loss: 0.0768 - rate_2_loss: 0.0788 - rate_loss: 0.1803 - val_loss: 0.2672 - val_rate_1_loss: 0.0452 - val_rate_2_loss: 0.0458 - val_rate_loss: 0.1798\n",
      "Epoch 3/3\n",
      "11548/11548 [==============================] - 12s 1ms/sample - loss: 0.3017 - rate_1_loss: 0.0653 - rate_2_loss: 0.0655 - rate_loss: 0.1709 - val_loss: 0.2538 - val_rate_1_loss: 0.0436 - val_rate_2_loss: 0.0437 - val_rate_loss: 0.1701\n",
      "test_rate_loss : 0.16120    Test Pearson : -0.04732    Test Spearman : -0.05349    Bench Pearson : -0.02798    Bench Spearman : -0.14202\n",
      "Finish time : 20200317-16:33:13\n"
     ]
    }
   ],
   "source": [
    "test_model.tunning_start(\n",
    "    n_random_start=3,\n",
    "    n_cell=6,\n",
    "    x0=None,\n",
    "    case_num=3,\n",
    "    log_dir=log_dir,\n",
    "    GPU_list=[1,2,0]\n",
    ")"
   ]
  },
  {
   "cell_type": "code",
   "execution_count": null,
   "metadata": {},
   "outputs": [],
   "source": [
    "#test_model.tunning_result_plot()"
   ]
  },
  {
   "cell_type": "code",
   "execution_count": null,
   "metadata": {},
   "outputs": [],
   "source": [
    "test_model.show_best_point()"
   ]
  },
  {
   "cell_type": "code",
   "execution_count": null,
   "metadata": {},
   "outputs": [],
   "source": []
  },
  {
   "cell_type": "raw",
   "metadata": {},
   "source": [
    "test_model = CNNLSTM_HP_tunning(default_HP_dict=default_HP, log_dir=log_dir)"
   ]
  },
  {
   "cell_type": "raw",
   "metadata": {},
   "source": [
    "test_model.tunning_start(n_random_start=5, n_cell=10)"
   ]
  },
  {
   "cell_type": "raw",
   "metadata": {
    "scrolled": true
   },
   "source": [
    "test_model.tunning_result_plot()"
   ]
  },
  {
   "cell_type": "raw",
   "metadata": {},
   "source": [
    "test_model.tunning_result_plot(file_format='png')"
   ]
  },
  {
   "cell_type": "code",
   "execution_count": null,
   "metadata": {},
   "outputs": [],
   "source": []
  },
  {
   "cell_type": "code",
   "execution_count": null,
   "metadata": {},
   "outputs": [],
   "source": []
  }
 ],
 "metadata": {
  "kernelspec": {
   "display_name": "Python 3",
   "language": "python",
   "name": "python3"
  },
  "language_info": {
   "codemirror_mode": {
    "name": "ipython",
    "version": 3
   },
   "file_extension": ".py",
   "mimetype": "text/x-python",
   "name": "python",
   "nbconvert_exporter": "python",
   "pygments_lexer": "ipython3",
   "version": "3.6.9"
  }
 },
 "nbformat": 4,
 "nbformat_minor": 4
}
